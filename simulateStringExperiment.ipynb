{
 "cells": [
  {
   "cell_type": "code",
   "execution_count": 1,
   "id": "ddfb3530",
   "metadata": {},
   "outputs": [],
   "source": [
    "import matplotlib.pyplot as plt\n",
    "import numpy as np\n",
    "\n",
    "%matplotlib inline"
   ]
  },
  {
   "cell_type": "code",
   "execution_count": null,
   "id": "2ca7a8b5",
   "metadata": {},
   "outputs": [],
   "source": [
    "secPerYear = 365 * 24 * 60 * 60\n",
    "meterPerParsec = 3.0856e16 # m/pc\n",
    "c = 3e8 # m/s"
   ]
  },
  {
   "cell_type": "code",
   "execution_count": 2,
   "id": "c41a2d80",
   "metadata": {},
   "outputs": [
    {
     "data": {
      "text/plain": [
       "31536000"
      ]
     },
     "execution_count": 2,
     "metadata": {},
     "output_type": "execute_result"
    }
   ],
   "source": [
    "nYear = 1\n",
    "nSec = nYear * secPerYear\n",
    "tObs = nSec\n",
    "\n",
    "sourceSize = 1e4 # galaxy 10 kpc accross\n",
    "sourceDistance = 1e9 # pc\n",
    "tension = 1e-10 # G mu / c^2 dimensionless\n",
    "comVelocity = 1e6 # m/s"
   ]
  },
  {
   "cell_type": "code",
   "execution_count": null,
   "id": "d2d8c0dc",
   "metadata": {},
   "outputs": [],
   "source": []
  }
 ],
 "metadata": {
  "kernelspec": {
   "display_name": "Python 3",
   "language": "python",
   "name": "python3"
  },
  "language_info": {
   "codemirror_mode": {
    "name": "ipython",
    "version": 3
   },
   "file_extension": ".py",
   "mimetype": "text/x-python",
   "name": "python",
   "nbconvert_exporter": "python",
   "pygments_lexer": "ipython3",
   "version": "3.6.9"
  }
 },
 "nbformat": 4,
 "nbformat_minor": 5
}
