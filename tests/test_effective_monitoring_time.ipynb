{
 "cells": [
  {
   "cell_type": "code",
   "execution_count": 1,
   "id": "6bff51bc-f018-4990-9ac2-318eb915fccb",
   "metadata": {
    "execution": {
     "iopub.execute_input": "2024-08-28T01:07:13.402868Z",
     "iopub.status.busy": "2024-08-28T01:07:13.402669Z",
     "iopub.status.idle": "2024-08-28T01:07:15.269763Z",
     "shell.execute_reply": "2024-08-28T01:07:15.269052Z",
     "shell.execute_reply.started": "2024-08-28T01:07:13.402853Z"
    }
   },
   "outputs": [],
   "source": [
    "from collections import defaultdict\n",
    "import pandas as pd\n",
    "import numpy as np\n",
    "from numpy.testing import assert_array_equal\n",
    "from utils.effective_monitoring_time import effective_monitoring_time"
   ]
  },
  {
   "cell_type": "code",
   "execution_count": 2,
   "id": "d6faf1e8-df9a-4a73-89ca-e5662b34b60c",
   "metadata": {
    "execution": {
     "iopub.execute_input": "2024-08-28T01:07:15.271223Z",
     "iopub.status.busy": "2024-08-28T01:07:15.270924Z",
     "iopub.status.idle": "2024-08-28T01:07:22.015253Z",
     "shell.execute_reply": "2024-08-28T01:07:22.014499Z",
     "shell.execute_reply.started": "2024-08-28T01:07:15.271205Z"
    }
   },
   "outputs": [],
   "source": [
    "cl = np.ones(20)\n",
    "f = np.array(['r', 'g', 'i', 'z'] * 5)\n",
    "input_data = {\"objectid\": np.array([\"000\"] * 20),\n",
    "              \"mjd\": np.arange(20),\n",
    "              \"exptime\": np.ones(20) * 0.01 * 86400,\n",
    "              \"cluster_label\": cl,\n",
    "              \"filter\": f}\n",
    "input_dataframe = pd.DataFrame(data=input_data)\n",
    "input_taus = np.array([0.001, 10, 21])\n",
    "expected_result = dict()\n",
    "expected_result[\"griz\"] = np.array([0.  , 8.91, 0.  ])\n",
    "result = dict(effective_monitoring_time(input_dataframe, input_taus))\n",
    "assert_array_equal(expected_result[\"griz\"].round(5), result[\"griz\"].round(5))"
   ]
  },
  {
   "cell_type": "code",
   "execution_count": null,
   "id": "37266218-9077-4c26-b37c-f3c3d2aacf64",
   "metadata": {},
   "outputs": [],
   "source": []
  }
 ],
 "metadata": {
  "kernelspec": {
   "display_name": "Python 3",
   "language": "python",
   "name": "python3"
  },
  "language_info": {
   "codemirror_mode": {
    "name": "ipython",
    "version": 3
   },
   "file_extension": ".py",
   "mimetype": "text/x-python",
   "name": "python",
   "nbconvert_exporter": "python",
   "pygments_lexer": "ipython3",
   "version": "3.10.13"
  }
 },
 "nbformat": 4,
 "nbformat_minor": 5
}
