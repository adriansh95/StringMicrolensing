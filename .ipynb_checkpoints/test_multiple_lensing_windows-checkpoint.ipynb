{
 "cells": [
  {
   "cell_type": "code",
   "execution_count": 91,
   "id": "c1905776-0d88-4f33-87b6-bf0668578e5a",
   "metadata": {
    "execution": {
     "iopub.execute_input": "2024-06-20T00:04:09.640158Z",
     "iopub.status.busy": "2024-06-20T00:04:09.639397Z",
     "iopub.status.idle": "2024-06-20T00:04:13.687228Z",
     "shell.execute_reply": "2024-06-20T00:04:13.686021Z",
     "shell.execute_reply.started": "2024-06-20T00:04:09.640104Z"
    },
    "tags": []
   },
   "outputs": [],
   "source": [
    "import pandas as pd\n",
    "import matplotlib.pyplot as plt\n",
    "import numpy as np\n",
    "import datalab_utils\n",
    "import astropy.units as u\n",
    "\n",
    "from dl import authClient as ac, queryClient as qc\n",
    "from collections import Counter\n",
    "from tqdm import tqdm\n",
    "\n",
    "plt.rcParams['axes.facecolor']='white'\n",
    "plt.rcParams['savefig.facecolor']='white'\n",
    "fig_dir = \"/dlusers/adriansh/work/analyses/plots/strings/\""
   ]
  },
  {
   "cell_type": "code",
   "execution_count": 100,
   "id": "e1a2702b-b523-4097-a4e5-c170444dfecb",
   "metadata": {
    "execution": {
     "iopub.execute_input": "2024-06-20T00:13:28.256029Z",
     "iopub.status.busy": "2024-06-20T00:13:28.255260Z",
     "iopub.status.idle": "2024-06-20T00:13:28.411379Z",
     "shell.execute_reply": "2024-06-20T00:13:28.410150Z",
     "shell.execute_reply.started": "2024-06-20T00:13:28.255972Z"
    },
    "tags": []
   },
   "outputs": [],
   "source": [
    "lc_df = pd.concat([pd.read_parquet(f\"/dlusers/adriansh/work/analyses/results/strings/june12_2024/lightcurves_batch{i}.parquet\") for i in range(10)])\n",
    "lc_df.reset_index(inplace=True, drop=True)"
   ]
  },
  {
   "cell_type": "code",
   "execution_count": 120,
   "id": "08428920-a8d9-4b14-b5fd-cfaaeb8dc3a9",
   "metadata": {
    "execution": {
     "iopub.execute_input": "2024-06-20T00:36:46.292829Z",
     "iopub.status.busy": "2024-06-20T00:36:46.292024Z",
     "iopub.status.idle": "2024-06-20T00:36:48.631231Z",
     "shell.execute_reply": "2024-06-20T00:36:48.630221Z",
     "shell.execute_reply.started": "2024-06-20T00:36:46.292773Z"
    },
    "tags": []
   },
   "outputs": [],
   "source": [
    "import importlib\n",
    "importlib.reload(datalab_utils)\n",
    "results_df = datalab_utils.make_lensing_dataframe(lc_df)"
   ]
  },
  {
   "cell_type": "code",
   "execution_count": 121,
   "id": "be75b9b3-adad-4942-a8a5-1d178dbeb86a",
   "metadata": {
    "execution": {
     "iopub.execute_input": "2024-06-20T00:36:49.508667Z",
     "iopub.status.busy": "2024-06-20T00:36:49.507989Z",
     "iopub.status.idle": "2024-06-20T00:36:49.539688Z",
     "shell.execute_reply": "2024-06-20T00:36:49.538513Z",
     "shell.execute_reply.started": "2024-06-20T00:36:49.508606Z"
    },
    "tags": []
   },
   "outputs": [
    {
     "data": {
      "text/html": [
       "<div>\n",
       "<style scoped>\n",
       "    .dataframe tbody tr th:only-of-type {\n",
       "        vertical-align: middle;\n",
       "    }\n",
       "\n",
       "    .dataframe tbody tr th {\n",
       "        vertical-align: top;\n",
       "    }\n",
       "\n",
       "    .dataframe thead th {\n",
       "        text-align: right;\n",
       "    }\n",
       "</style>\n",
       "<table border=\"1\" class=\"dataframe\">\n",
       "  <thead>\n",
       "    <tr style=\"text-align: right;\">\n",
       "      <th></th>\n",
       "      <th></th>\n",
       "      <th>t_start</th>\n",
       "      <th>t_end</th>\n",
       "      <th>filters</th>\n",
       "    </tr>\n",
       "    <tr>\n",
       "      <th>objectid</th>\n",
       "      <th></th>\n",
       "      <th></th>\n",
       "      <th></th>\n",
       "      <th></th>\n",
       "    </tr>\n",
       "  </thead>\n",
       "  <tbody>\n",
       "    <tr>\n",
       "      <th>180653_2368</th>\n",
       "      <th>0</th>\n",
       "      <td>56279.191628</td>\n",
       "      <td>56282.179140</td>\n",
       "      <td>gr</td>\n",
       "    </tr>\n",
       "    <tr>\n",
       "      <th>180654_5092</th>\n",
       "      <th>0</th>\n",
       "      <td>56265.334668</td>\n",
       "      <td>56267.304445</td>\n",
       "      <td>iz</td>\n",
       "    </tr>\n",
       "    <tr>\n",
       "      <th>180293_1766</th>\n",
       "      <th>0</th>\n",
       "      <td>56311.129536</td>\n",
       "      <td>56311.132751</td>\n",
       "      <td>iz</td>\n",
       "    </tr>\n",
       "    <tr>\n",
       "      <th>179930_2434</th>\n",
       "      <th>0</th>\n",
       "      <td>56311.129536</td>\n",
       "      <td>56311.133590</td>\n",
       "      <td>izY</td>\n",
       "    </tr>\n",
       "    <tr>\n",
       "      <th>179930_5541</th>\n",
       "      <th>0</th>\n",
       "      <td>56267.309984</td>\n",
       "      <td>56267.312551</td>\n",
       "      <td>zY</td>\n",
       "    </tr>\n",
       "    <tr>\n",
       "      <th>...</th>\n",
       "      <th>...</th>\n",
       "      <td>...</td>\n",
       "      <td>...</td>\n",
       "      <td>...</td>\n",
       "    </tr>\n",
       "    <tr>\n",
       "      <th>187553_58813</th>\n",
       "      <th>0</th>\n",
       "      <td>57432.095451</td>\n",
       "      <td>57432.113815</td>\n",
       "      <td>ug</td>\n",
       "    </tr>\n",
       "    <tr>\n",
       "      <th>187554_116545</th>\n",
       "      <th>0</th>\n",
       "      <td>57432.094424</td>\n",
       "      <td>57432.113815</td>\n",
       "      <td>uuu</td>\n",
       "    </tr>\n",
       "    <tr>\n",
       "      <th>187554_120213</th>\n",
       "      <th>0</th>\n",
       "      <td>57432.093387</td>\n",
       "      <td>57432.110386</td>\n",
       "      <td>uuu</td>\n",
       "    </tr>\n",
       "    <tr>\n",
       "      <th>187551_53682</th>\n",
       "      <th>0</th>\n",
       "      <td>58526.065904</td>\n",
       "      <td>58791.151554</td>\n",
       "      <td>rr</td>\n",
       "    </tr>\n",
       "    <tr>\n",
       "      <th>187550_51827</th>\n",
       "      <th>0</th>\n",
       "      <td>58553.116224</td>\n",
       "      <td>58791.154203</td>\n",
       "      <td>rg</td>\n",
       "    </tr>\n",
       "  </tbody>\n",
       "</table>\n",
       "<p>958 rows × 3 columns</p>\n",
       "</div>"
      ],
      "text/plain": [
       "                      t_start         t_end filters\n",
       "objectid                                           \n",
       "180653_2368   0  56279.191628  56282.179140      gr\n",
       "180654_5092   0  56265.334668  56267.304445      iz\n",
       "180293_1766   0  56311.129536  56311.132751      iz\n",
       "179930_2434   0  56311.129536  56311.133590     izY\n",
       "179930_5541   0  56267.309984  56267.312551      zY\n",
       "...                       ...           ...     ...\n",
       "187553_58813  0  57432.095451  57432.113815      ug\n",
       "187554_116545 0  57432.094424  57432.113815     uuu\n",
       "187554_120213 0  57432.093387  57432.110386     uuu\n",
       "187551_53682  0  58526.065904  58791.151554      rr\n",
       "187550_51827  0  58553.116224  58791.154203      rg\n",
       "\n",
       "[958 rows x 3 columns]"
      ]
     },
     "execution_count": 121,
     "metadata": {},
     "output_type": "execute_result"
    }
   ],
   "source": [
    "results_df"
   ]
  },
  {
   "cell_type": "code",
   "execution_count": 118,
   "id": "899f9cdc-1ef1-4836-a505-23f0cb82e1fd",
   "metadata": {
    "execution": {
     "iopub.execute_input": "2024-06-20T00:33:13.915992Z",
     "iopub.status.busy": "2024-06-20T00:33:13.915228Z",
     "iopub.status.idle": "2024-06-20T00:33:13.925837Z",
     "shell.execute_reply": "2024-06-20T00:33:13.924622Z",
     "shell.execute_reply.started": "2024-06-20T00:33:13.915936Z"
    },
    "tags": []
   },
   "outputs": [
    {
     "data": {
      "text/plain": [
       "(array([False,  True,  True,  True, False, False, False, False, False,\n",
       "        False]),\n",
       " array([ True, False, False, False,  True,  True,  True,  True,  True,\n",
       "         True]))"
      ]
     },
     "execution_count": 118,
     "metadata": {},
     "output_type": "execute_result"
    }
   ],
   "source": [
    "z = np.zeros(10)\n",
    "z[[1, 2, 3]] = 1\n",
    "zb = z.astype(bool)\n",
    "zb, ~zb"
   ]
  },
  {
   "cell_type": "code",
   "execution_count": 119,
   "id": "c7a3cc73-4573-48c1-9070-10bf3237031c",
   "metadata": {
    "execution": {
     "iopub.execute_input": "2024-06-20T00:33:30.252238Z",
     "iopub.status.busy": "2024-06-20T00:33:30.251464Z",
     "iopub.status.idle": "2024-06-20T00:33:45.230010Z",
     "shell.execute_reply": "2024-06-20T00:33:45.229282Z",
     "shell.execute_reply.started": "2024-06-20T00:33:30.252180Z"
    }
   },
   "outputs": [
    {
     "name": "stdout",
     "output_type": "stream",
     "text": [
      "1.34 µs ± 7.16 ns per loop (mean ± std. dev. of 7 runs, 1000000 loops each)\n",
      "476 ns ± 1.89 ns per loop (mean ± std. dev. of 7 runs, 1000000 loops each)\n"
     ]
    }
   ],
   "source": [
    "%timeit z == 1\n",
    "%timeit z.astype(bool)"
   ]
  },
  {
   "cell_type": "code",
   "execution_count": 80,
   "id": "26b351ff-c10f-4f38-b4cb-1c3f6f5d7f18",
   "metadata": {
    "execution": {
     "iopub.execute_input": "2024-06-19T22:53:23.201410Z",
     "iopub.status.busy": "2024-06-19T22:53:23.200775Z",
     "iopub.status.idle": "2024-06-19T22:53:23.208390Z",
     "shell.execute_reply": "2024-06-19T22:53:23.207047Z",
     "shell.execute_reply.started": "2024-06-19T22:53:23.201356Z"
    },
    "tags": []
   },
   "outputs": [],
   "source": [
    "n_total = 20\n",
    "baseline_idxs = np.array([2, 3, 4, 5, 7, 8, 9, 10, 15, 16, 17])\n",
    "baseline = np.zeros(n_total)\n",
    "baseline[baseline_idxs] = 1"
   ]
  },
  {
   "cell_type": "code",
   "execution_count": 82,
   "id": "116404b0-9366-4765-a0e5-5b42587136f8",
   "metadata": {
    "execution": {
     "iopub.execute_input": "2024-06-19T22:53:26.962352Z",
     "iopub.status.busy": "2024-06-19T22:53:26.961710Z",
     "iopub.status.idle": "2024-06-19T22:53:26.967889Z",
     "shell.execute_reply": "2024-06-19T22:53:26.966402Z",
     "shell.execute_reply.started": "2024-06-19T22:53:26.962299Z"
    },
    "tags": []
   },
   "outputs": [],
   "source": [
    "baseline[:] = 1\n",
    "baseline[0] = 0"
   ]
  },
  {
   "cell_type": "code",
   "execution_count": 83,
   "id": "52ad0984-5db8-4c94-accb-e0c292b70035",
   "metadata": {
    "execution": {
     "iopub.execute_input": "2024-06-19T22:53:27.609998Z",
     "iopub.status.busy": "2024-06-19T22:53:27.609336Z",
     "iopub.status.idle": "2024-06-19T22:53:27.616572Z",
     "shell.execute_reply": "2024-06-19T22:53:27.615157Z",
     "shell.execute_reply.started": "2024-06-19T22:53:27.609945Z"
    },
    "tags": []
   },
   "outputs": [],
   "source": [
    "t_end = [i+1 for i in all_idxs[:-1] if baseline[i] == 0 and baseline[i+1] == 1]"
   ]
  },
  {
   "cell_type": "code",
   "execution_count": 84,
   "id": "6398f90b-83ae-4910-be96-d7d166430ac8",
   "metadata": {
    "execution": {
     "iopub.execute_input": "2024-06-19T22:53:27.927743Z",
     "iopub.status.busy": "2024-06-19T22:53:27.927094Z",
     "iopub.status.idle": "2024-06-19T22:53:27.934112Z",
     "shell.execute_reply": "2024-06-19T22:53:27.932715Z",
     "shell.execute_reply.started": "2024-06-19T22:53:27.927691Z"
    },
    "tags": []
   },
   "outputs": [],
   "source": [
    "t_start = [i for i in all_idxs[:-1] if baseline[i] == 1 and baseline[i+1] == 0]"
   ]
  },
  {
   "cell_type": "code",
   "execution_count": 85,
   "id": "df00d57d-3f63-4673-8212-4b14f2e1bf16",
   "metadata": {
    "execution": {
     "iopub.execute_input": "2024-06-19T22:53:28.124556Z",
     "iopub.status.busy": "2024-06-19T22:53:28.123933Z",
     "iopub.status.idle": "2024-06-19T22:53:28.131795Z",
     "shell.execute_reply": "2024-06-19T22:53:28.130285Z",
     "shell.execute_reply.started": "2024-06-19T22:53:28.124504Z"
    },
    "tags": []
   },
   "outputs": [],
   "source": [
    "if baseline[0] == 0:\n",
    "    t_start = np.concatenate([[np.nan], t_start])\n",
    "if baseline[-1] == 0:\n",
    "    t_end = np.concatenate([t_end, [np.nan]])"
   ]
  },
  {
   "cell_type": "code",
   "execution_count": 86,
   "id": "009f3951-dc7a-4ec6-9b9a-a48391a0b760",
   "metadata": {
    "execution": {
     "iopub.execute_input": "2024-06-19T22:53:28.705820Z",
     "iopub.status.busy": "2024-06-19T22:53:28.705168Z",
     "iopub.status.idle": "2024-06-19T22:53:28.714631Z",
     "shell.execute_reply": "2024-06-19T22:53:28.713033Z",
     "shell.execute_reply.started": "2024-06-19T22:53:28.705767Z"
    },
    "tags": []
   },
   "outputs": [
    {
     "data": {
      "text/plain": [
       "array([[nan,  1.]])"
      ]
     },
     "execution_count": 86,
     "metadata": {},
     "output_type": "execute_result"
    }
   ],
   "source": [
    "np.column_stack([t_start, t_end])"
   ]
  },
  {
   "cell_type": "code",
   "execution_count": 90,
   "id": "fa89a243-103a-4ca5-8e3d-1ff4ac1767ad",
   "metadata": {
    "execution": {
     "iopub.execute_input": "2024-06-19T23:42:10.187684Z",
     "iopub.status.busy": "2024-06-19T23:42:10.187021Z",
     "iopub.status.idle": "2024-06-19T23:42:10.196038Z",
     "shell.execute_reply": "2024-06-19T23:42:10.194884Z",
     "shell.execute_reply.started": "2024-06-19T23:42:10.187632Z"
    },
    "tags": []
   },
   "outputs": [
    {
     "data": {
      "text/plain": [
       "array([3, 5, 7, 9])"
      ]
     },
     "execution_count": 90,
     "metadata": {},
     "output_type": "execute_result"
    }
   ],
   "source": [
    "np.arange(10).reshape(5, 2)[1:, 1]"
   ]
  },
  {
   "cell_type": "code",
   "execution_count": null,
   "id": "6b9b7fb2-0d54-40d6-ae33-413743dbd808",
   "metadata": {},
   "outputs": [],
   "source": []
  }
 ],
 "metadata": {
  "kernelspec": {
   "display_name": "Python 3",
   "language": "python",
   "name": "python3"
  },
  "language_info": {
   "codemirror_mode": {
    "name": "ipython",
    "version": 3
   },
   "file_extension": ".py",
   "mimetype": "text/x-python",
   "name": "python",
   "nbconvert_exporter": "python",
   "pygments_lexer": "ipython3",
   "version": "3.8.8"
  }
 },
 "nbformat": 4,
 "nbformat_minor": 5
}
