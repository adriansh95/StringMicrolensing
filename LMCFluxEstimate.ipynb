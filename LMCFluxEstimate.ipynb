{
 "cells": [
  {
   "cell_type": "markdown",
   "id": "3239a8cd-7dc4-44ff-b94b-7dbe46203315",
   "metadata": {},
   "source": [
    "According to [NASA Extragalactic Database](https://ned.ipac.caltech.edu/byname?objname=Large+Magellanic+Cloud&hconst=67.8&omegam=0.308&omegav=0.692&wmap=4&corr_z=1) the LMC has spectral flux density of 3230 Jy in the V band (\\~550 nm). I take this number to represent the SFD over the r-band, \\~550 nm to \\~650 nm ($5.4 \\times 10^{14}$ Hz to $4.6 \\times 10^{14}$ Hz) and estimate how many photons per pixel we will get in a 15 s exposure. To make things easy for myself, I take the throughput of the r-band to be 0.6 over the passband, which is roughly the value in the middle of the passband (\\~600 nm) (Figure 4 in the [LSST Overview Paper](https://arxiv.org/pdf/0805.2366.pdf))."
   ]
  },
  {
   "cell_type": "code",
   "execution_count": 1,
   "id": "cdf52a70-dd52-4d17-b836-2a99dc3dc795",
   "metadata": {
    "execution": {
     "iopub.execute_input": "2023-06-14T19:43:37.293290Z",
     "iopub.status.busy": "2023-06-14T19:43:37.292965Z",
     "iopub.status.idle": "2023-06-14T19:43:37.295887Z",
     "shell.execute_reply": "2023-06-14T19:43:37.295396Z",
     "shell.execute_reply.started": "2023-06-14T19:43:37.293275Z"
    },
    "tags": []
   },
   "outputs": [],
   "source": [
    "import astropy.units as u\n",
    "import numpy as np"
   ]
  },
  {
   "cell_type": "code",
   "execution_count": 2,
   "id": "67218806-1f9a-4fb4-9cdd-c067e5adabef",
   "metadata": {
    "execution": {
     "iopub.execute_input": "2023-06-14T19:43:37.548085Z",
     "iopub.status.busy": "2023-06-14T19:43:37.547905Z",
     "iopub.status.idle": "2023-06-14T19:43:37.551012Z",
     "shell.execute_reply": "2023-06-14T19:43:37.550584Z",
     "shell.execute_reply.started": "2023-06-14T19:43:37.548069Z"
    },
    "tags": []
   },
   "outputs": [],
   "source": [
    "sfd = 3230 * u.jansky\n",
    "pixelSize = 10 * u.micrometer\n",
    "exposureTime = 15 * u.second\n",
    "hbar = 1.054e-34 * u.joule * u.second"
   ]
  },
  {
   "cell_type": "markdown",
   "id": "661ebd92-0987-4542-8838-087e4cbdbe48",
   "metadata": {},
   "source": [
    "The number of photons integrated over the exposure is (throughput)\\*(pixel area)\\*(exposure time)\\*(integral over the passband of the SFD ($\\Phi$) / energy per photon of that frequency):\n",
    "\n",
    "$n_{\\text{photons}} = 0.6 \\cdot (10 \\mu m)^2 \\cdot 15s \\cdot \\int_{\\omega_0}^{\\omega_1} \\frac{\\Phi} {\\hbar \\omega} d\\omega$"
   ]
  },
  {
   "cell_type": "code",
   "execution_count": 3,
   "id": "0bab34cc-cb11-444a-8053-1e9290eda1e8",
   "metadata": {
    "execution": {
     "iopub.execute_input": "2023-06-14T19:43:38.110114Z",
     "iopub.status.busy": "2023-06-14T19:43:38.109966Z",
     "iopub.status.idle": "2023-06-14T19:43:38.113931Z",
     "shell.execute_reply": "2023-06-14T19:43:38.113529Z",
     "shell.execute_reply.started": "2023-06-14T19:43:38.110102Z"
    },
    "tags": []
   },
   "outputs": [
    {
     "data": {
      "text/latex": [
       "$275.80645 \\; \\mathrm{}$"
      ],
      "text/plain": [
       "<Quantity 275.80645161>"
      ]
     },
     "execution_count": 3,
     "metadata": {},
     "output_type": "execute_result"
    }
   ],
   "source": [
    "nPhotonsPerFreq = 0.6 * sfd * (pixelSize)**2 * exposureTime / hbar\n",
    "nPhotonsPerFreq.decompose()"
   ]
  },
  {
   "cell_type": "markdown",
   "id": "ca6c5541-d2bc-4be4-82c8-c4deb2f0e4a5",
   "metadata": {},
   "source": [
    "This gives $n_{\\text{photons}} \\simeq 276 \\int_{4.6\\times10^{14}}^{5.4\\times10^{14}}\\frac{d\\omega}{\\omega} = \\ln \\frac{5.4}{4.6}$"
   ]
  },
  {
   "cell_type": "code",
   "execution_count": 4,
   "id": "6992bf86-235a-4e84-ac18-3a01f6253879",
   "metadata": {
    "execution": {
     "iopub.execute_input": "2023-06-14T19:43:39.115145Z",
     "iopub.status.busy": "2023-06-14T19:43:39.114926Z",
     "iopub.status.idle": "2023-06-14T19:43:39.118734Z",
     "shell.execute_reply": "2023-06-14T19:43:39.118300Z",
     "shell.execute_reply.started": "2023-06-14T19:43:39.115130Z"
    },
    "tags": []
   },
   "outputs": [
    {
     "data": {
      "text/plain": [
       "44.254571420749535"
      ]
     },
     "execution_count": 4,
     "metadata": {},
     "output_type": "execute_result"
    }
   ],
   "source": [
    "276 * np.log(5.4/4.6)"
   ]
  },
  {
   "cell_type": "code",
   "execution_count": null,
   "id": "7595287c-2516-4b42-a08d-e504212aae2c",
   "metadata": {},
   "outputs": [],
   "source": []
  }
 ],
 "metadata": {
  "kernelspec": {
   "display_name": "LSST",
   "language": "python",
   "name": "lsst"
  },
  "language_info": {
   "codemirror_mode": {
    "name": "ipython",
    "version": 3
   },
   "file_extension": ".py",
   "mimetype": "text/x-python",
   "name": "python",
   "nbconvert_exporter": "python",
   "pygments_lexer": "ipython3",
   "version": "3.10.9"
  }
 },
 "nbformat": 4,
 "nbformat_minor": 5
}
