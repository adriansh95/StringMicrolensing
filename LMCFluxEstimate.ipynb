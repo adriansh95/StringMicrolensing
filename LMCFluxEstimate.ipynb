{
 "cells": [
  {
   "cell_type": "markdown",
   "id": "3239a8cd-7dc4-44ff-b94b-7dbe46203315",
   "metadata": {},
   "source": [
    "According to [NASA Extragalactic Database](https://ned.ipac.caltech.edu/byname?objname=Large+Magellanic+Cloud&hconst=67.8&omegam=0.308&omegav=0.692&wmap=4&corr_z=1) the LMC has spectral flux density of 3230 Jy in the V band (\\~550 nm). I take this number to represent the SFD over the r-band, \\~550 nm to \\~650 nm ($5.4 \\times 10^{14}$ Hz to $4.6 \\times 10^{14}$ Hz) and estimate how many photons per pixel we will get in a 15 s exposure. To make things easy for myself, I take the throughput of the r-band to be 0.6 over the passband, which is roughly the value in the middle of the passband (\\~600 nm) (Figure 4 in the [LSST Overview Paper](https://arxiv.org/pdf/0805.2366.pdf))."
   ]
  },
  {
   "cell_type": "code",
   "execution_count": 1,
   "id": "cdf52a70-dd52-4d17-b836-2a99dc3dc795",
   "metadata": {
    "execution": {
     "iopub.execute_input": "2023-06-15T18:19:31.631476Z",
     "iopub.status.busy": "2023-06-15T18:19:31.631304Z",
     "iopub.status.idle": "2023-06-15T18:19:31.633667Z",
     "shell.execute_reply": "2023-06-15T18:19:31.633238Z",
     "shell.execute_reply.started": "2023-06-15T18:19:31.631463Z"
    },
    "tags": []
   },
   "outputs": [],
   "source": [
    "import astropy.units as u\n",
    "import numpy as np"
   ]
  },
  {
   "cell_type": "code",
   "execution_count": 2,
   "id": "67218806-1f9a-4fb4-9cdd-c067e5adabef",
   "metadata": {
    "execution": {
     "iopub.execute_input": "2023-06-15T18:19:31.634324Z",
     "iopub.status.busy": "2023-06-15T18:19:31.634197Z",
     "iopub.status.idle": "2023-06-15T18:19:31.639843Z",
     "shell.execute_reply": "2023-06-15T18:19:31.639407Z",
     "shell.execute_reply.started": "2023-06-15T18:19:31.634313Z"
    },
    "tags": []
   },
   "outputs": [],
   "source": [
    "sfd = 3230 * u.jansky\n",
    "exposureTime = 15 * u.second\n",
    "planckConstant = 6.626e-34 * u.joule * u.second\n",
    "m1effectiveRadius = 3.2 * u.meter\n",
    "m1Area = np.pi * m1effectiveRadius**2\n",
    "fov = 9.6 * (u.degree)**2\n",
    "angularDiameterLMC = 41510 * u.arcsec\n",
    "angularDiameterLMC = angularDiameterLMC.to(u.degree)\n",
    "angularAreaLMC = np.pi * (angularDiameterLMC/2)**2\n",
    "nPixels = 3.2e9\n",
    "throughput = 0.6\n",
    "platescale = 0.2 * u.arcsec"
   ]
  },
  {
   "cell_type": "markdown",
   "id": "661ebd92-0987-4542-8838-087e4cbdbe48",
   "metadata": {},
   "source": [
    "The SFD is integrated over the solid angle of the source. The primary mirror collects light from Rubin's 9.6 sq degree fov, so the the characteristic SFD of one pointing is $\\frac{9.6 \\text{deg}^2}{\\text{LMC Solid Angle}} * \\Phi$, where $\\Phi$ is the SFD. "
   ]
  },
  {
   "cell_type": "code",
   "execution_count": 3,
   "id": "ea028e12-6618-41dc-bebb-27011c4d3bff",
   "metadata": {
    "execution": {
     "iopub.execute_input": "2023-06-15T18:19:34.270327Z",
     "iopub.status.busy": "2023-06-15T18:19:34.269769Z",
     "iopub.status.idle": "2023-06-15T18:19:34.274002Z",
     "shell.execute_reply": "2023-06-15T18:19:34.273548Z",
     "shell.execute_reply.started": "2023-06-15T18:19:34.270311Z"
    },
    "tags": []
   },
   "outputs": [
    {
     "data": {
      "text/latex": [
       "$296.95005 \\; \\mathrm{Jy}$"
      ],
      "text/plain": [
       "<Quantity 296.95005413 Jy>"
      ]
     },
     "execution_count": 3,
     "metadata": {},
     "output_type": "execute_result"
    }
   ],
   "source": [
    "charSFD = sfd * fov / angularAreaLMC\n",
    "charSFD"
   ]
  },
  {
   "cell_type": "markdown",
   "id": "e62afd9c-e910-4731-9e87-6eb359d2d95f",
   "metadata": {},
   "source": [
    "The energy per frequency collected by the primary mirror in a 15 second exposure is (mirror area)\\*(exposure time)\\*$\\Phi_{\\text{char}}$"
   ]
  },
  {
   "cell_type": "code",
   "execution_count": 4,
   "id": "712baeee-a831-4108-a835-a146ced216fb",
   "metadata": {
    "execution": {
     "iopub.execute_input": "2023-06-15T18:19:35.153700Z",
     "iopub.status.busy": "2023-06-15T18:19:35.153288Z",
     "iopub.status.idle": "2023-06-15T18:19:35.157725Z",
     "shell.execute_reply": "2023-06-15T18:19:35.157310Z",
     "shell.execute_reply.started": "2023-06-15T18:19:35.153685Z"
    },
    "tags": []
   },
   "outputs": [
    {
     "data": {
      "text/latex": [
       "$1.2975506 \\times 10^{12} \\; \\mathrm{}$"
      ],
      "text/plain": [
       "<Quantity 1.29755064e+12>"
      ]
     },
     "execution_count": 4,
     "metadata": {},
     "output_type": "execute_result"
    }
   ],
   "source": [
    "energyPerFreq = m1Area * exposureTime * charSFD\n",
    "dimensionlessEPF = energyPerFreq / planckConstant\n",
    "throughput * dimensionlessEPF.decompose()"
   ]
  },
  {
   "cell_type": "markdown",
   "id": "348addb3-ecd8-4dc3-8b8a-3ae5b61ee24d",
   "metadata": {},
   "source": [
    "The number of photons landing on the camera is the integral over the passband of (throughput)\\*(energy per frequency)\\/(energy per photon of that frequency)\n",
    "\n",
    "$n_{\\text{photons}} = 0.6 \\cdot  \\int_{\\nu_0}^{\\nu_1} \\frac{\\text{energy per frequency}} {h \\nu} d\\nu = 1.2975506 \\times 10^{12} \\int_{\\nu_0}^{\\nu_1} \\frac{d\\nu}{\\nu}$"
   ]
  },
  {
   "cell_type": "code",
   "execution_count": 5,
   "id": "e77fd49f-7d5d-4f18-86e2-1ba4bd98997c",
   "metadata": {
    "execution": {
     "iopub.execute_input": "2023-06-15T18:19:36.249285Z",
     "iopub.status.busy": "2023-06-15T18:19:36.248912Z",
     "iopub.status.idle": "2023-06-15T18:19:36.253085Z",
     "shell.execute_reply": "2023-06-15T18:19:36.252664Z",
     "shell.execute_reply.started": "2023-06-15T18:19:36.249270Z"
    },
    "tags": []
   },
   "outputs": [
    {
     "data": {
      "text/latex": [
       "$2.0805271 \\times 10^{11} \\; \\mathrm{}$"
      ],
      "text/plain": [
       "<Quantity 2.08052708e+11>"
      ]
     },
     "execution_count": 5,
     "metadata": {},
     "output_type": "execute_result"
    }
   ],
   "source": [
    "nPhotons = throughput * dimensionlessEPF.decompose() * np.log(5.4/4.6)\n",
    "nPhotons"
   ]
  },
  {
   "cell_type": "markdown",
   "id": "6d534556-ee16-4aa4-b797-cf0ef0b84f03",
   "metadata": {},
   "source": [
    "distributing these uniformly over the 3.2 billion pixels gives..."
   ]
  },
  {
   "cell_type": "code",
   "execution_count": 6,
   "id": "0f8d57bc-af52-4c3f-84f9-bf940e72f30c",
   "metadata": {
    "execution": {
     "iopub.execute_input": "2023-06-15T18:19:37.076247Z",
     "iopub.status.busy": "2023-06-15T18:19:37.075846Z",
     "iopub.status.idle": "2023-06-15T18:19:37.079922Z",
     "shell.execute_reply": "2023-06-15T18:19:37.079397Z",
     "shell.execute_reply.started": "2023-06-15T18:19:37.076232Z"
    },
    "tags": []
   },
   "outputs": [
    {
     "data": {
      "text/latex": [
       "$65.016471 \\; \\mathrm{}$"
      ],
      "text/plain": [
       "<Quantity 65.01647129>"
      ]
     },
     "execution_count": 6,
     "metadata": {},
     "output_type": "execute_result"
    }
   ],
   "source": [
    "nPhotons / nPixels"
   ]
  },
  {
   "cell_type": "markdown",
   "id": "4fb566ee-8598-49e4-8f4e-8036edbe8b16",
   "metadata": {},
   "source": [
    "Using Duncan's suggestion of multiplying by the platescale^2 / (LMC solid angle) I get a very similar answer"
   ]
  },
  {
   "cell_type": "code",
   "execution_count": 7,
   "id": "edcfca71-e97b-4cbe-aaf9-f9d7b12db7ba",
   "metadata": {
    "execution": {
     "iopub.execute_input": "2023-06-15T18:19:38.251158Z",
     "iopub.status.busy": "2023-06-15T18:19:38.250790Z",
     "iopub.status.idle": "2023-06-15T18:19:38.255198Z",
     "shell.execute_reply": "2023-06-15T18:19:38.254782Z",
     "shell.execute_reply.started": "2023-06-15T18:19:38.251143Z"
    },
    "tags": []
   },
   "outputs": [
    {
     "data": {
      "text/latex": [
       "$66.889374 \\; \\mathrm{}$"
      ],
      "text/plain": [
       "<Quantity 66.88937375>"
      ]
     },
     "execution_count": 7,
     "metadata": {},
     "output_type": "execute_result"
    }
   ],
   "source": [
    "photonsPerPixel = throughput * exposureTime * m1Area * (sfd/planckConstant) * np.log(5.4/4.6) * platescale**2 / angularAreaLMC\n",
    "photonsPerPixel.decompose()"
   ]
  },
  {
   "cell_type": "code",
   "execution_count": null,
   "id": "fad81106-73be-451f-b15b-677cec5ea352",
   "metadata": {},
   "outputs": [],
   "source": []
  }
 ],
 "metadata": {
  "kernelspec": {
   "display_name": "LSST",
   "language": "python",
   "name": "lsst"
  },
  "language_info": {
   "codemirror_mode": {
    "name": "ipython",
    "version": 3
   },
   "file_extension": ".py",
   "mimetype": "text/x-python",
   "name": "python",
   "nbconvert_exporter": "python",
   "pygments_lexer": "ipython3",
   "version": "3.10.9"
  }
 },
 "nbformat": 4,
 "nbformat_minor": 5
}
