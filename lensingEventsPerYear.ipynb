{
 "cells": [
  {
   "cell_type": "code",
   "execution_count": 1,
   "id": "ddfb3530",
   "metadata": {},
   "outputs": [],
   "source": [
    "import numpy as np\n",
    "import astropy.units as u\n",
    "\n",
    "%matplotlib inline"
   ]
  },
  {
   "cell_type": "code",
   "execution_count": 2,
   "id": "57c3726d",
   "metadata": {},
   "outputs": [],
   "source": [
    "def foo(y):\n",
    "    return -0.337 - (0.064 * y**2)\n",
    "\n",
    "def betaOfMu(mu):\n",
    "    return 10**foo(np.log10(mu * 1e15))"
   ]
  },
  {
   "cell_type": "markdown",
   "id": "e26f5354",
   "metadata": {},
   "source": [
    "In the [Chernoff et al 2020 paper](https://ui.adsabs.harvard.edu/abs/2020MNRAS.491..596C/abstract) equation 12 gives the microlensing rate per star per second: \n",
    "\n",
    "$\\frac{\\Gamma}{N_\\star} = \\int_0^D dr' dl \\left(\\frac{dn}{dl}\\right)'\\langle \\frac{dA_\\perp}{dt} \\rangle$.\n",
    "\n",
    "In the paragraph just above, the authors state that $\\langle \\frac{dA_\\perp}{dt} \\rangle \\sim lc$.\n",
    "\n",
    "I take $\\left(\\frac{dn}{dl}\\right)'$ to be $\\frac{1}{l}\\mathcal{F}(r')\\,\\mathcal{G}\\,\\left(\\frac{dn}{d\\ln{l}}\\right)_\\text{base}$, as in Equation 3, which invokes clustering via $\\mathcal{F}$. In their paper, $\\mathcal{G} = 10^2$ as stated in the first paragraph on page 598, and equation 1 states that:\n",
    "\n",
    "$\\left(\\frac{dn}{d\\ln{l}}\\right)_\\text{base} = 1.15 \\times 10^{-6} \\frac{x}{(1+x)^{5/2}} \\frac{f_{0.2}\\alpha_{0.1}^{1/2}}{(\\Gamma_{50}\\mu_{-13})^{3/2}} \\text{kpc}^{-3}$,\n",
    "\n",
    "where $\\mu_{-13} = \\frac{G \\mu}{c^2} \\times 10^{13}$, $x = \\frac{l}{l_g}$, $l_g = 0.0206 \\, \\Gamma_{50} \\, \\mu_{-13}$ pc, and $\\Gamma_{50} = f_{0.2} = \\alpha_{0.1} = 1$. The clustering enhancement $\\mathcal{F}(r) = \\beta(\\mu)\\mathcal{E}(r) = \\beta(\\mu) \\frac{\\rho_{DM}(r)}{\\Omega_{DM} \\rho_{\\text{crit}}}$ is defined in the second paragraph on the right side of page 599. The functional form of $\\beta(\\mu)$ is given in Appendix F of [Chernoff and Tye's 2018 paper](https://arxiv.org/pdf/1712.05060.pdf). $\\mathcal{E} = \\frac{\\rho_{DM}(r)}{\\Omega_{DM} \\rho_{\\text{crit}}}$ is defined in equation 5: \n",
    "\n",
    "$ \\rho_{\\text{MW - M31}} = \\begin{cases}\n",
    "\\frac{A}{r^{9/4}} & 0 < r < r_1 \\\\ \n",
    "\\frac{2^{3/4}A}{(B-r)^{9/4}} & r_1 < r < B\n",
    "\\end{cases} $\n",
    "\n",
    "where $A = 1.15 \\times 10^9 M_\\odot / \\text{kpc}^{3/4}$, $r_1 = 345$ kpc, and $B = 780$ kpc. I use $\\Omega_{DM} = 1/4$ and $\\rho_{\\text{crit}} = 2.7754 \\times 10^{11} \\, h^2 \\, M_\\odot / \\text{Mpc}^3$ with $h=0.7$. Finally, I place the observer 8 kpc from the Milky Way center and the source 8 kpc in front of the center of M31, as indicated in table 1 of the 2020 paper.\n",
    "\n",
    "Combining all this gives:\n",
    "\n",
    "$\\frac{\\Gamma}{N_\\star} = \\int_8^{772}dr' \\int_0^\\infty dl \\, \\frac{1}{l}\\, \\beta(\\mu) \\, \\frac{1}{\\Omega_{DM}\\, \\rho_{\\text{crit}}} \\,\\left( \\begin{cases}\n",
    "\\frac{A}{r^{9/4}} & 0 < r < r_1 \\\\ \n",
    "\\frac{2^{3/4}A}{(B-r)^{9/4}} & r_1 < r < B\n",
    "\\end{cases}\\right) \\, \\mathcal{G}\\, 1.15 \\times 10^{-6} \\, \\frac{x}{(1+x)^{5/2}} \\, \\frac{f_{0.2}\\alpha_{0.1}^{1/2}}{(\\Gamma_{50}\\mu_{-13})^{3/2}} \\, \\text{kpc}^{-3}  lc$\n",
    "\n",
    "Cancelling the factors of $l$ and using $dl = l_g dx$ gives:\n",
    "\n",
    "$\\frac{\\Gamma}{N_\\star} = \\int_8^{772}dr' \\int_0^\\infty dx l_g \\, \\beta(\\mu) \\, \\frac{c}{\\Omega_{DM}\\, \\rho_{\\text{crit}}} \\,\\left( \\begin{cases}\n",
    "\\frac{A}{r^{9/4}} & 0 < r < r_1 \\\\ \n",
    "\\frac{2^{3/4}A}{(B-r)^{9/4}} & r_1 < r < B\n",
    "\\end{cases}\\right) \\, \\mathcal{G}\\, 1.15 \\times 10^{-6} \\, \\frac{x}{(1+x)^{5/2}} \\, \\frac{f_{0.2}\\alpha_{0.1}^{1/2}}{(\\Gamma_{50}\\mu_{-13})^{3/2}} \\, \\text{kpc}^{-3} $.\n",
    "\n",
    "The $r$ integral gives:\n",
    "\n",
    "$\\int_8^{772} dr \\begin{cases}\n",
    "\\frac{A}{r^{9/4}} & 0 < r < r_1 \\\\ \n",
    "\\frac{2^{3/4}A}{(B-r)^{9/4}} & r_1 < r < B\n",
    "\\end{cases} = A \\, (0.059 + 0.1)$ kpc$^{-5/4}$\n",
    "\n",
    "the $x$ integral gives:\n",
    "\n",
    "$\\int_0^\\infty dx \\frac{x}{(1+x)^{(5/2)}} = 4/3$.\n",
    "\n",
    "Finally we have\n",
    "\n",
    "$\\frac{\\Gamma}{N_\\star} = l_g \\, \\beta(\\mu) \\, \\frac{c}{\\Omega_{DM}\\, \\rho_{\\text{crit}}} \\, \\left[A \\, (0.059 + 0.1) \\text{kpc}^{-5/4} \\right]\\, \n",
    "\\mathcal{G} \\, 1.15 \\times 10^{-6} \\, \\frac{4}{3} \\, \\frac{f_{0.2}\\alpha_{0.1}^{1/2}}{(\\Gamma_{50}\\mu_{-13})^{3/2}} \\, \\text{kpc}^{-3} $"
   ]
  },
  {
   "cell_type": "code",
   "execution_count": 3,
   "id": "7f324e97",
   "metadata": {},
   "outputs": [],
   "source": [
    "f02 = 1\n",
    "a01 = 1\n",
    "gamma50 = 1\n",
    "\n",
    "tension = 1e-9\n",
    "mu13 = tension * 1e13\n",
    "lg = 0.0206 * gamma50 * mu13 * u.pc\n",
    "beta = betaOfMu(tension)\n",
    "speedOfLight = 2.98e8 * u.m / u.s\n",
    "omegaDM = 1/4\n",
    "littleHubble = 0.7\n",
    "rhoCritical = 2.7754e11 * littleHubble**2 * u.solMass / u.megaparsec**3\n",
    "aFactor = 1.15e9 * u.solMass / u.kpc**(3/4)\n",
    "rIntegral = (0.059 + 0.1) * u.kpc**(-5/4)\n",
    "gFactor = 1e2\n",
    "xIntegral = 4/3\n",
    "\n",
    "tObs = 1 * u.yr "
   ]
  },
  {
   "cell_type": "code",
   "execution_count": 4,
   "id": "10a506d6",
   "metadata": {},
   "outputs": [
    {
     "data": {
      "text/latex": [
       "$1.1833325 \\times 10^{-10} \\; \\mathrm{}$"
      ],
      "text/plain": [
       "<Quantity 1.18333245e-10>"
      ]
     },
     "execution_count": 4,
     "metadata": {},
     "output_type": "execute_result"
    }
   ],
   "source": [
    "eventsPerStarPerTime = (lg * beta * (speedOfLight / (omegaDM * rhoCritical))\n",
    "                        * aFactor * rIntegral * gFactor * 1.15e-6 * (4/3) * \n",
    "                        (f02 * np.sqrt(a01) / (gamma50 * mu13)**(3/2)) * u.kpc**(-3))\n",
    "(eventsPerStarPerTime * tObs).decompose()"
   ]
  },
  {
   "cell_type": "code",
   "execution_count": null,
   "id": "6733a73e",
   "metadata": {},
   "outputs": [],
   "source": []
  }
 ],
 "metadata": {
  "kernelspec": {
   "display_name": "Python 3",
   "language": "python",
   "name": "python3"
  },
  "language_info": {
   "codemirror_mode": {
    "name": "ipython",
    "version": 3
   },
   "file_extension": ".py",
   "mimetype": "text/x-python",
   "name": "python",
   "nbconvert_exporter": "python",
   "pygments_lexer": "ipython3",
   "version": "3.6.9"
  }
 },
 "nbformat": 4,
 "nbformat_minor": 5
}
