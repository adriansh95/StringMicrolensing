{
 "cells": [
  {
   "cell_type": "code",
   "execution_count": 21,
   "id": "20d192c2-f97b-4aa3-938a-bfa7784a94cb",
   "metadata": {
    "execution": {
     "iopub.execute_input": "2024-06-07T20:56:03.154640Z",
     "iopub.status.busy": "2024-06-07T20:56:03.153897Z",
     "iopub.status.idle": "2024-06-07T20:56:03.164271Z",
     "shell.execute_reply": "2024-06-07T20:56:03.162969Z",
     "shell.execute_reply.started": "2024-06-07T20:56:03.154571Z"
    },
    "tags": []
   },
   "outputs": [],
   "source": [
    "import matplotlib.pyplot as plt\n",
    "import numpy as np\n",
    "import pandas as pd\n",
    "import astropy.units as u\n",
    "import datalab_utils\n",
    "import time\n",
    "\n",
    "from astropy.coordinates import SkyCoord\n",
    "from dl import authClient as ac, queryClient as qc\n",
    "from dl.helpers.utils import convert\n",
    "from tqdm import tqdm\n",
    "from numba import njit\n",
    "\n",
    "plt.rcParams['axes.facecolor']='white'\n",
    "plt.rcParams['savefig.facecolor']='white'\n",
    "fig_dir = \"/dlusers/adriansh/work/analyses/plots/strings/\""
   ]
  },
  {
   "cell_type": "code",
   "execution_count": 47,
   "id": "d126c279-8f36-40f9-a8d7-995208155065",
   "metadata": {
    "execution": {
     "iopub.execute_input": "2024-06-07T21:13:50.809654Z",
     "iopub.status.busy": "2024-06-07T21:13:50.808868Z",
     "iopub.status.idle": "2024-06-07T21:13:50.840994Z",
     "shell.execute_reply": "2024-06-07T21:13:50.839734Z",
     "shell.execute_reply.started": "2024-06-07T21:13:50.809595Z"
    },
    "tags": []
   },
   "outputs": [],
   "source": [
    "def count_detections(df, dmag, n, bw, achromatic):\n",
    "    vals = df[\"filter\"]\n",
    "\n",
    "    if achromatic:\n",
    "        indices = [vals[i:i+n].index for i in range(len(vals)- (n - 1)) if len(set(vals[i:i+n])) >= 2]\n",
    "    else:\n",
    "        indices = [vals[i:i+n].index for i in range(len(vals)- (n - 1))]\n",
    "\n",
    "    n_lensed = len(indices)\n",
    "    detected = [lens_and_detect(df, dmag, idxs, bw) for idxs in indices]\n",
    "    n_detected = sum(detected)\n",
    "    oid = df.iloc[0, 0]\n",
    "    result = pd.DataFrame(data={\"lensed\": [n_lensed], \"detected\": [n_detected]}, index=[oid])\n",
    "    return result\n",
    "\n",
    "def lens_and_detect(df, dmag, idxs, bw):\n",
    "    old_vals = df.loc[idxs, \"mag_auto\"]\n",
    "    df.loc[idxs, \"mag_auto\"] = old_vals + dmag\n",
    "    cl = datalab_utils.cluster_label_dataframe(df, bandwidth=bw)\n",
    "    df.loc[idxs, \"mag_auto\"] = old_vals\n",
    "    result = datalab_utils.lens_filter(cl)\n",
    "    return result\n",
    "\n",
    "def calculate_detection_rate(df, delta_mag, n, bandwidth, achromatic=True):\n",
    "    injection_results = df.groupby(by=\"objectid\", group_keys=False).apply(count_detections, delta_mag, n, bandwidth, achromatic)\n",
    "    totals = injection_results.sum(axis=0)\n",
    "    result = totals[\"detected\"] / totals[\"lensed\"]\n",
    "    return result\n",
    "\n",
    "@njit\n",
    "def _find_t_next_other_filter(i, mjds, filters):\n",
    "    this_filter = filters[i]\n",
    "    result = np.inf\n",
    "\n",
    "    for j in range(i + 1, len(mjds)):\n",
    "\n",
    "        if filters[j] != this_filter:\n",
    "            result = mjds[j]\n",
    "            break\n",
    "\n",
    "    return result\n",
    "\n",
    "@njit\n",
    "def _measure_time(t_this, t_floor, t_next_other_filter, taus):\n",
    "    t = np.maximum(t_floor, t_next_other_filter)\n",
    "    result = np.maximum(t_this + taus - t, 0)\n",
    "    return result\n",
    "\n",
    "@njit\n",
    "def _compute_t_floor(t_this, taus, t_next_other_filter):\n",
    "    result = np.maximum(t_this + taus, t_next_other_filter)\n",
    "    return result\n",
    "\n",
    "def measure_lensable_time(df, taus):\n",
    "    filters = df[\"filter\"].values.astype(\"U1\")\n",
    "    mjds = df[\"mjd\"].values\n",
    "    t_floor = np.zeros(taus.shape)\n",
    "    result = np.zeros(taus.shape)\n",
    "\n",
    "    for i in range(len(df)):\n",
    "        t_this = mjds[i]\n",
    "        t_next_other_filter = _find_t_next_other_filter(i, mjds, filters)\n",
    "\n",
    "        if np.isfinite(t_next_other_filter):\n",
    "            result += _measure_time(t_this, t_floor, t_next_other_filter, taus)\n",
    "        else:\n",
    "            break\n",
    "\n",
    "        t_floor = _compute_t_floor(t_this, taus, t_next_other_filter)\n",
    "\n",
    "    return result"
   ]
  },
  {
   "cell_type": "code",
   "execution_count": 3,
   "id": "387869ba-4e9e-410e-a023-8ee55c5d2e1f",
   "metadata": {
    "execution": {
     "iopub.execute_input": "2024-06-07T19:51:41.340916Z",
     "iopub.status.busy": "2024-06-07T19:51:41.340246Z",
     "iopub.status.idle": "2024-06-07T19:51:41.401695Z",
     "shell.execute_reply": "2024-06-07T19:51:41.400390Z",
     "shell.execute_reply.started": "2024-06-07T19:51:41.340861Z"
    },
    "tags": []
   },
   "outputs": [],
   "source": [
    "lmc_center = SkyCoord(\"05h23m34s\", \"−69d45.4m\")\n",
    "lmc_ra = lmc_center.ra.deg\n",
    "lmc_dec = lmc_center.dec.deg\n",
    "search_radius = 15\n",
    "n_detections = 10\n",
    "sigma_cutoff = 0.1"
   ]
  },
  {
   "cell_type": "code",
   "execution_count": 7,
   "id": "0d08b224-e823-4079-9f02-6e4c1f32a13d",
   "metadata": {
    "execution": {
     "iopub.execute_input": "2024-06-07T19:55:25.089202Z",
     "iopub.status.busy": "2024-06-07T19:55:25.088337Z",
     "iopub.status.idle": "2024-06-07T19:55:25.098161Z",
     "shell.execute_reply": "2024-06-07T19:55:25.096627Z",
     "shell.execute_reply.started": "2024-06-07T19:55:25.089140Z"
    }
   },
   "outputs": [],
   "source": [
    "mask_filter = lc[\"filter\"] == lc[\"filter\"].iat[0]\n",
    "mask_forward = np.full(len(lc), True)\n",
    "mask_forward[0] = False"
   ]
  },
  {
   "cell_type": "code",
   "execution_count": 12,
   "id": "8aaaf676-4b03-493f-9c8c-cc9e15a2a93e",
   "metadata": {
    "execution": {
     "iopub.execute_input": "2024-06-07T19:56:33.388161Z",
     "iopub.status.busy": "2024-06-07T19:56:33.387301Z",
     "iopub.status.idle": "2024-06-07T19:56:39.819783Z",
     "shell.execute_reply": "2024-06-07T19:56:39.818561Z",
     "shell.execute_reply.started": "2024-06-07T19:56:33.388101Z"
    },
    "tags": []
   },
   "outputs": [
    {
     "name": "stdout",
     "output_type": "stream",
     "text": [
      "374 µs ± 42.2 µs per loop (mean ± std. dev. of 7 runs, 1000 loops each)\n",
      "396 µs ± 7.24 µs per loop (mean ± std. dev. of 7 runs, 1000 loops each)\n"
     ]
    }
   ],
   "source": [
    "%timeit lc.loc[(~mask_filter) & mask_forward, \"mjd\"].iat[0]\n",
    "%timeit lc.loc[(~mask_filter) & mask_forward, \"mjd\"].min()"
   ]
  },
  {
   "cell_type": "code",
   "execution_count": 104,
   "id": "e994e8f9-17c7-4513-a917-5f8f905ff46d",
   "metadata": {
    "execution": {
     "iopub.execute_input": "2024-06-06T20:52:19.580546Z",
     "iopub.status.busy": "2024-06-06T20:52:19.579788Z",
     "iopub.status.idle": "2024-06-06T20:52:30.823921Z",
     "shell.execute_reply": "2024-06-06T20:52:30.822772Z",
     "shell.execute_reply.started": "2024-06-06T20:52:19.580484Z"
    },
    "tags": []
   },
   "outputs": [
    {
     "name": "stdout",
     "output_type": "stream",
     "text": [
      "13.7 ms ± 1.23 ms per loop (mean ± std. dev. of 7 runs, 100 loops each)\n"
     ]
    }
   ],
   "source": [
    "taus = np.arange(10, 510, 10).reshape(1, -1)\n",
    "%timeit measure_lensable_time(lc, taus)"
   ]
  },
  {
   "cell_type": "code",
   "execution_count": 10,
   "id": "a7ed7f21-3170-4785-9b54-b04d99cd26b2",
   "metadata": {
    "execution": {
     "iopub.execute_input": "2024-05-30T18:08:13.746355Z",
     "iopub.status.busy": "2024-05-30T18:08:13.745640Z",
     "iopub.status.idle": "2024-05-30T18:11:36.677705Z",
     "shell.execute_reply": "2024-05-30T18:11:36.676420Z",
     "shell.execute_reply.started": "2024-05-30T18:08:13.746303Z"
    },
    "jupyter": {
     "source_hidden": true
    },
    "tags": []
   },
   "outputs": [
    {
     "data": {
      "text/plain": [
       "'OK'"
      ]
     },
     "execution_count": 10,
     "metadata": {},
     "output_type": "execute_result"
    }
   ],
   "source": [
    "oq = f\"\"\"\n",
    "SELECT id \n",
    "    FROM nsc_dr2.object\n",
    "        WHERE 't' = Q3C_RADIAL_QUERY(ra, dec, {lmc_ra}, {lmc_dec}, {search_radius})\n",
    "        AND class_star > 0.9\n",
    "        AND\n",
    "        (CASE \n",
    "            WHEN ndetu > {n_detections} \n",
    "            AND urms < {sigma_cutoff} THEN 1 \n",
    "            ELSE 0 \n",
    "        END +\n",
    "        CASE \n",
    "            WHEN ndetg > {n_detections} \n",
    "            AND grms < {sigma_cutoff}  THEN 1 \n",
    "            ELSE 0 \n",
    "        END +\n",
    "        CASE \n",
    "            WHEN ndetr > {n_detections} \n",
    "            AND rrms < {sigma_cutoff}  THEN 1 \n",
    "            ELSE 0 \n",
    "        END +\n",
    "        CASE \n",
    "            WHEN ndeti > {n_detections} \n",
    "            AND irms < {sigma_cutoff}  THEN 1 \n",
    "            ELSE 0 \n",
    "        END +\n",
    "        CASE \n",
    "            WHEN ndetz > {n_detections} \n",
    "            AND zrms < {sigma_cutoff}  THEN 1 \n",
    "            ELSE 0 \n",
    "        END +\n",
    "        CASE \n",
    "            WHEN ndetY > {n_detections} \n",
    "            AND Yrms < {sigma_cutoff}  THEN 1 \n",
    "            ELSE 0 \n",
    "        END >= 3)\n",
    "\"\"\"\n",
    "\n",
    "qc.query(sql=oq, out=\"mydb://temp\", timeout=1200)"
   ]
  },
  {
   "cell_type": "code",
   "execution_count": 11,
   "id": "f39cb757-63dc-4d1d-b481-0a9fce00667a",
   "metadata": {
    "execution": {
     "iopub.execute_input": "2024-05-30T18:12:04.749042Z",
     "iopub.status.busy": "2024-05-30T18:12:04.748457Z",
     "iopub.status.idle": "2024-05-30T18:12:11.572904Z",
     "shell.execute_reply": "2024-05-30T18:12:11.571767Z",
     "shell.execute_reply.started": "2024-05-30T18:12:04.749002Z"
    },
    "jupyter": {
     "source_hidden": true
    },
    "tags": []
   },
   "outputs": [
    {
     "data": {
      "text/plain": [
       "'OK'"
      ]
     },
     "execution_count": 11,
     "metadata": {},
     "output_type": "execute_result"
    }
   ],
   "source": [
    "qq = f\"\"\"\n",
    "SELECT ROW_NUMBER() OVER() - 1 AS row_number, id\n",
    "    FROM mydb://temp\n",
    "\"\"\"\n",
    "\n",
    "qc.query(sql=qq, out=\"mydb://stable_lmc_ids2\", timeout=1200)"
   ]
  },
  {
   "cell_type": "code",
   "execution_count": 4,
   "id": "90666afe-3019-430b-9ff2-833a3c1ae57f",
   "metadata": {
    "execution": {
     "iopub.execute_input": "2024-06-07T19:53:12.189342Z",
     "iopub.status.busy": "2024-06-07T19:53:12.188561Z",
     "iopub.status.idle": "2024-06-07T19:53:12.739063Z",
     "shell.execute_reply": "2024-06-07T19:53:12.737519Z",
     "shell.execute_reply.started": "2024-06-07T19:53:12.189284Z"
    },
    "tags": []
   },
   "outputs": [],
   "source": [
    "# bw = 0.11\n",
    "# batch_size = int(1e5)\n",
    "# n_objects = 6619504\n",
    "# num_batches = int(n_objects / batch_size) + 1\n",
    "# poll_rate = 60\n",
    "# batch_nums = np.arange(0, num_batches)\n",
    "min_num_detections = 3\n",
    "\n",
    "sub_query = f\"\"\"\n",
    "SELECT id\n",
    "    FROM mydb://stable_lmc_ids2\n",
    "    WHERE row_number = 0\n",
    "\"\"\"\n",
    "#     ORDER BY RANDOM()\n",
    "#     LIMIT 100\n",
    "\n",
    "query = f\"\"\"\n",
    "SELECT m.objectid, m.filter, m.mag_auto, m.magerr_auto, m.mjd, m.exposure, e.exptime\n",
    "    FROM nsc_dr2.meas AS m\n",
    "    INNER JOIN nsc_dr2.exposure AS e\n",
    "    ON e.exposure = m.exposure\n",
    "    WHERE m.objectid IN ({sub_query})\n",
    "\"\"\"\n",
    "lc = qc.query(sql=query, fmt=\"pandas\", timeout=1200)\n",
    "lc = lc.groupby(by=[\"objectid\", \"filter\"]).filter(lambda x: len(x) >= min_num_detections)\n",
    "lc.sort_values(by=\"mjd\", inplace=True)"
   ]
  },
  {
   "cell_type": "code",
   "execution_count": 78,
   "id": "e4638f7f-df4e-4b86-880b-8975ed9e1513",
   "metadata": {
    "execution": {
     "iopub.execute_input": "2024-06-05T23:38:41.859208Z",
     "iopub.status.busy": "2024-06-05T23:38:41.858485Z",
     "iopub.status.idle": "2024-06-05T23:38:41.874404Z",
     "shell.execute_reply": "2024-06-05T23:38:41.873291Z",
     "shell.execute_reply.started": "2024-06-05T23:38:41.859154Z"
    },
    "tags": []
   },
   "outputs": [],
   "source": [
    "def foo(lc):\n",
    "    taus = np.arange(10, 30, 10)\n",
    "    t_step = 1e-3\n",
    "    mjds = lc.pivot(columns=\"filter\", values=\"mjd\").round(3)\n",
    "    min_mjd = lc[\"mjd\"].round(3).min()\n",
    "    max_mjd = lc[\"mjd\"].round(3).max()\n",
    "    times = np.array([np.linspace(min_mjd, max_mjd + tau, num=int(1e5)) for tau in taus])\n",
    "    times = times.reshape((times.shape[0], times.shape[1], 1))\n",
    "    taus = taus.reshape((len(taus), 1, 1))\n",
    "    filter_windows = []\n",
    "\n",
    "    for col in mjds.columns:\n",
    "        t_samples = mjds[col].dropna().values\n",
    "        t_samples = t_samples.reshape((1, 1, t_samples.size))\n",
    "        windows = (np.heaviside(times - t_samples, 1) * np.heaviside(taus - (times - t_samples), 1)).sum(axis=2)\n",
    "#         filter_windows.append(windows)\n",
    "\n",
    "#     filter_windows = np.array(filter_windows\n",
    "\n",
    "#     for time in times:\n",
    "#         mask = (lc[\"mjd\"] <= time) & (lc[\"mjd\"] >= time - tau)\n",
    "#         filters = lc.loc[mask, \"filter\"].unique()\n",
    "#         if len(filters) > 1:\n",
    "#             result.append(time)\n",
    "\n",
    "#     result = [np.meshgrid(times, taus, mjds[col].dropna().values) for col in mjds.columns[:1]]\n",
    "    \n",
    "#     y = np.array([[sum([np.heaviside(t_range - t0, 1) * np.heaviside(tau - (t_range - t0), 1)\n",
    "#                         for t0 in mjds[col].dropna()])\n",
    "#                    for col in mjds.columns] for tau in taus])\n",
    "#     row_idxs = np.nonzero((y > 0).sum(axis=1) > 1)[0]\n",
    "#     result = np.unique(row_idxs, return_counts=True)[1] * t_step\n",
    "    return filter_windows"
   ]
  },
  {
   "cell_type": "code",
   "execution_count": 16,
   "id": "dac7a4eb-657e-45e0-a2a1-87d1fa4f225e",
   "metadata": {
    "execution": {
     "iopub.execute_input": "2024-06-05T22:14:39.638358Z",
     "iopub.status.busy": "2024-06-05T22:14:39.637517Z",
     "iopub.status.idle": "2024-06-05T22:14:39.652565Z",
     "shell.execute_reply": "2024-06-05T22:14:39.650828Z",
     "shell.execute_reply.started": "2024-06-05T22:14:39.638295Z"
    },
    "tags": []
   },
   "outputs": [
    {
     "data": {
      "text/plain": [
       "(10, 10, 8)"
      ]
     },
     "execution_count": 16,
     "metadata": {},
     "output_type": "execute_result"
    }
   ],
   "source": [
    "a = np.arange(10).reshape((10, 1, 1))\n",
    "b = np.arange(100).reshape((10, 10, 1))\n",
    "c = np.arange(8).reshape((1, 1, 8))\n",
    "(a * b * c).shape"
   ]
  },
  {
   "cell_type": "code",
   "execution_count": 129,
   "id": "298596ca-29b1-4b95-8209-d286e45f43bf",
   "metadata": {
    "execution": {
     "iopub.execute_input": "2024-06-04T23:09:15.712290Z",
     "iopub.status.busy": "2024-06-04T23:09:15.711526Z",
     "iopub.status.idle": "2024-06-04T23:09:15.730029Z",
     "shell.execute_reply": "2024-06-04T23:09:15.728725Z",
     "shell.execute_reply.started": "2024-06-04T23:09:15.712233Z"
    },
    "tags": []
   },
   "outputs": [],
   "source": [
    "mjds = lc.sort_values(by=\"filter\").pivot(columns=\"filter\", values=\"mjd\").round(3).fillna(np.inf).values\n",
    "finite = np.isfinite(mjds)"
   ]
  },
  {
   "cell_type": "code",
   "execution_count": 39,
   "id": "c1c8d325-4255-4909-916f-3f27255a03db",
   "metadata": {
    "execution": {
     "iopub.execute_input": "2024-06-05T22:32:51.576187Z",
     "iopub.status.busy": "2024-06-05T22:32:51.575643Z",
     "iopub.status.idle": "2024-06-05T22:32:51.938837Z",
     "shell.execute_reply": "2024-06-05T22:32:51.937752Z",
     "shell.execute_reply.started": "2024-06-05T22:32:51.576143Z"
    },
    "tags": []
   },
   "outputs": [],
   "source": [
    "import cProfile\n",
    "cProfile.run(\"foo(lc)\", \"foostats\")"
   ]
  },
  {
   "cell_type": "code",
   "execution_count": 42,
   "id": "a1ff02f2-713e-46b8-8cde-1f84fec8f90d",
   "metadata": {
    "execution": {
     "iopub.execute_input": "2024-06-05T22:36:57.898489Z",
     "iopub.status.busy": "2024-06-05T22:36:57.897680Z",
     "iopub.status.idle": "2024-06-05T22:37:09.752840Z",
     "shell.execute_reply": "2024-06-05T22:37:09.751777Z",
     "shell.execute_reply.started": "2024-06-05T22:36:57.898426Z"
    },
    "tags": []
   },
   "outputs": [
    {
     "name": "stdout",
     "output_type": "stream",
     "text": [
      "406 µs ± 5.5 µs per loop (mean ± std. dev. of 7 runs, 1000 loops each)\n",
      "449 µs ± 4.45 µs per loop (mean ± std. dev. of 7 runs, 1000 loops each)\n",
      "580 µs ± 4.93 µs per loop (mean ± std. dev. of 7 runs, 1000 loops each)\n"
     ]
    }
   ],
   "source": [
    "x=np.ones((100, 100, 100))\n",
    "%timeit x.sum(axis=0)\n",
    "%timeit x.sum(axis=1)\n",
    "%timeit x.sum(axis=2)"
   ]
  },
  {
   "cell_type": "code",
   "execution_count": 80,
   "id": "a361b9bd-dc47-47a9-93c5-66c523fe9bf1",
   "metadata": {
    "execution": {
     "iopub.execute_input": "2024-06-05T23:39:10.641282Z",
     "iopub.status.busy": "2024-06-05T23:39:10.640521Z",
     "iopub.status.idle": "2024-06-05T23:39:10.649178Z",
     "shell.execute_reply": "2024-06-05T23:39:10.647845Z",
     "shell.execute_reply.started": "2024-06-05T23:39:10.641224Z"
    }
   },
   "outputs": [
    {
     "data": {
      "text/plain": [
       "0.315856841"
      ]
     },
     "execution_count": 80,
     "metadata": {},
     "output_type": "execute_result"
    }
   ],
   "source": [
    "315856841e-9"
   ]
  },
  {
   "cell_type": "code",
   "execution_count": 79,
   "id": "04325a09-9b71-4335-8ea9-33bc03e95d9e",
   "metadata": {
    "execution": {
     "iopub.execute_input": "2024-06-05T23:38:47.616740Z",
     "iopub.status.busy": "2024-06-05T23:38:47.615973Z",
     "iopub.status.idle": "2024-06-05T23:38:47.974545Z",
     "shell.execute_reply": "2024-06-05T23:38:47.973703Z",
     "shell.execute_reply.started": "2024-06-05T23:38:47.616682Z"
    },
    "tags": []
   },
   "outputs": [
    {
     "name": "stdout",
     "output_type": "stream",
     "text": [
      "Timer unit: 1e-09 s\n",
      "\n",
      "Total time: 0.341958 s\n",
      "File: <ipython-input-78-c1f00587b155>\n",
      "Function: foo at line 1\n",
      "\n",
      "Line #      Hits         Time  Per Hit   % Time  Line Contents\n",
      "==============================================================\n",
      "     1                                           def foo(lc):\n",
      "     2         1      37091.0  37091.0      0.0      taus = np.arange(10, 30, 10)\n",
      "     3         1        823.0    823.0      0.0      t_step = 1e-3\n",
      "     4         1   15490550.0    2e+07      4.5      mjds = lc.sort_values(by=\"filter\").pivot(columns=\"filter\", values=\"mjd\").round(3)\n",
      "     5         1     555060.0 555060.0      0.2      min_mjd = lc[\"mjd\"].round(3).min()\n",
      "     6         1     519411.0 519411.0      0.2      max_mjd = lc[\"mjd\"].round(3).max()\n",
      "     7         1    4110740.0    4e+06      1.2      times = np.array([np.linspace(min_mjd, max_mjd + tau, num=int(1e5)) for tau in taus])\n",
      "     8         1       7675.0   7675.0      0.0      times = times.reshape((times.shape[0], times.shape[1], 1))\n",
      "     9         1       3254.0   3254.0      0.0      taus = taus.reshape((len(taus), 1, 1))\n",
      "    10         1        714.0    714.0      0.0      filter_windows = []\n",
      "    11                                           \n",
      "    12         5      41447.0   8289.4      0.0      for col in mjds.columns:\n",
      "    13         4    5309172.0    1e+06      1.6          t_samples = mjds[col].dropna().values\n",
      "    14         4      24851.0   6212.8      0.0          t_samples = t_samples.reshape((1, 1, t_samples.size))\n",
      "    15         4  315856841.0    8e+07     92.4          windows = (np.heaviside(times - t_samples, 1) * np.heaviside(taus - (times - t_samples), 1)).sum(axis=2)\n",
      "    16                                           #         filter_windows.append(windows)\n",
      "    17                                           \n",
      "    18                                           #     filter_windows = np.array(filter_windows\n",
      "    19                                           \n",
      "    20                                           #     for time in times:\n",
      "    21                                           #         mask = (lc[\"mjd\"] <= time) & (lc[\"mjd\"] >= time - tau)\n",
      "    22                                           #         filters = lc.loc[mask, \"filter\"].unique()\n",
      "    23                                           #         if len(filters) > 1:\n",
      "    24                                           #             result.append(time)\n",
      "    25                                           \n",
      "    26                                           #     result = [np.meshgrid(times, taus, mjds[col].dropna().values) for col in mjds.columns[:1]]\n",
      "    27                                               \n",
      "    28                                           #     y = np.array([[sum([np.heaviside(t_range - t0, 1) * np.heaviside(tau - (t_range - t0), 1)\n",
      "    29                                           #                         for t0 in mjds[col].dropna()])\n",
      "    30                                           #                    for col in mjds.columns] for tau in taus])\n",
      "    31                                           #     row_idxs = np.nonzero((y > 0).sum(axis=1) > 1)[0]\n",
      "    32                                           #     result = np.unique(row_idxs, return_counts=True)[1] * t_step\n",
      "    33         1        334.0    334.0      0.0      return filter_windows\n",
      "\n"
     ]
    }
   ],
   "source": [
    "from line_profiler import LineProfiler\n",
    "\n",
    "profiler = LineProfiler()\n",
    "profiler.add_function(foo)\n",
    "profiler_wrapper = profiler(foo)\n",
    "profiler_wrapper(lc)  # Run the function\n",
    "profiler.print_stats()  # Print the profiling"
   ]
  },
  {
   "cell_type": "code",
   "execution_count": 40,
   "id": "ddf520e6-472f-4734-a2d8-b40e52e816b7",
   "metadata": {
    "execution": {
     "iopub.execute_input": "2024-06-05T22:32:53.260854Z",
     "iopub.status.busy": "2024-06-05T22:32:53.260142Z",
     "iopub.status.idle": "2024-06-05T22:32:53.328330Z",
     "shell.execute_reply": "2024-06-05T22:32:53.327461Z",
     "shell.execute_reply.started": "2024-06-05T22:32:53.260798Z"
    },
    "tags": []
   },
   "outputs": [
    {
     "name": "stdout",
     "output_type": "stream",
     "text": [
      "Wed Jun  5 15:32:51 2024    foostats\n",
      "\n",
      "         12973 function calls (12701 primitive calls) in 0.351 seconds\n",
      "\n",
      "   Ordered by: cumulative time\n",
      "   List reduced from 529 to 50 due to restriction <50>\n",
      "\n",
      "   ncalls  tottime  percall  cumtime  percall filename:lineno(function)\n",
      "        1    0.000    0.000    0.351    0.351 {built-in method builtins.exec}\n",
      "        1    0.000    0.000    0.351    0.351 <string>:1(<module>)\n",
      "        1    0.299    0.299    0.351    0.351 <ipython-input-38-38809f8863cd>:1(foo)\n",
      "       30    0.029    0.001    0.029    0.001 {method 'reduce' of 'numpy.ufunc' objects}\n",
      "        5    0.000    0.000    0.029    0.006 {method 'sum' of 'numpy.ndarray' objects}\n",
      "        5    0.000    0.000    0.029    0.006 /home/jail/dlusers/adriansh/.local/lib/python3.8/site-packages/numpy/core/_methods.py:46(_sum)\n",
      "        1    0.000    0.000    0.007    0.007 /home/jail/dlusers/adriansh/.local/lib/python3.8/site-packages/pandas/core/frame.py:5918(pivot)\n",
      "        1    0.000    0.000    0.007    0.007 /home/jail/dlusers/adriansh/.local/lib/python3.8/site-packages/pandas/core/reshape/pivot.py:427(pivot)\n",
      "        1    0.000    0.000    0.004    0.004 /home/jail/dlusers/adriansh/.local/lib/python3.8/site-packages/pandas/core/frame.py:7300(round)\n",
      "        4    0.000    0.000    0.004    0.001 /home/jail/dlusers/adriansh/.local/lib/python3.8/site-packages/pandas/core/series.py:4416(dropna)\n",
      "        4    0.000    0.000    0.004    0.001 /home/jail/dlusers/adriansh/.local/lib/python3.8/site-packages/pandas/core/dtypes/missing.py:578(remove_na_arraylike)\n",
      "        4    0.000    0.000    0.003    0.001 /home/jail/dlusers/adriansh/.local/lib/python3.8/site-packages/pandas/core/series.py:868(__getitem__)\n",
      "        1    0.000    0.000    0.003    0.003 /home/jail/dlusers/adriansh/.local/lib/python3.8/site-packages/pandas/core/indexes/multi.py:373(from_arrays)\n",
      "        1    0.000    0.000    0.003    0.003 /home/jail/dlusers/adriansh/.local/lib/python3.8/site-packages/pandas/core/series.py:3509(unstack)\n",
      "        1    0.000    0.000    0.003    0.003 /home/jail/dlusers/adriansh/.local/lib/python3.8/site-packages/pandas/core/reshape/reshape.py:393(unstack)\n",
      "        1    0.000    0.000    0.003    0.003 /home/jail/dlusers/adriansh/.local/lib/python3.8/site-packages/pandas/core/arrays/categorical.py:2668(factorize_from_iterables)\n",
      "        3    0.000    0.000    0.003    0.001 /home/jail/dlusers/adriansh/.local/lib/python3.8/site-packages/pandas/core/arrays/categorical.py:2690(<genexpr>)\n",
      "        2    0.000    0.000    0.003    0.002 /home/jail/dlusers/adriansh/.local/lib/python3.8/site-packages/pandas/core/arrays/categorical.py:2630(factorize_from_iterable)\n",
      "        2    0.000    0.000    0.003    0.002 /home/jail/dlusers/adriansh/.local/lib/python3.8/site-packages/pandas/core/arrays/categorical.py:312(__init__)\n",
      "    15/10    0.000    0.000    0.003    0.000 /home/jail/dlusers/adriansh/.local/lib/python3.8/site-packages/pandas/core/indexes/base.py:276(__new__)\n",
      "        2    0.000    0.000    0.002    0.001 /home/jail/dlusers/adriansh/.local/lib/python3.8/site-packages/pandas/core/algorithms.py:585(factorize)\n",
      "        1    0.000    0.000    0.002    0.002 /home/jail/dlusers/adriansh/.local/lib/python3.8/site-packages/pandas/core/reshape/reshape.py:90(__init__)\n",
      "    29/23    0.000    0.000    0.002    0.000 {built-in method numpy.core._multiarray_umath.implement_array_function}\n",
      "        1    0.000    0.000    0.002    0.002 /home/jail/dlusers/adriansh/.local/lib/python3.8/site-packages/pandas/core/reshape/concat.py:65(concat)\n",
      "        4    0.000    0.000    0.002    0.001 /home/jail/dlusers/adriansh/.local/lib/python3.8/site-packages/pandas/core/frame.py:414(__init__)\n",
      "        1    0.000    0.000    0.002    0.002 <ipython-input-38-38809f8863cd>:7(<listcomp>)\n",
      "        1    0.000    0.000    0.002    0.002 /home/jail/dlusers/adriansh/.local/lib/python3.8/site-packages/pandas/core/frame.py:4896(sort_values)\n",
      "        2    0.000    0.000    0.002    0.001 <__array_function__ internals>:177(linspace)\n",
      "        2    0.000    0.000    0.002    0.001 /home/jail/dlusers/adriansh/.local/lib/python3.8/site-packages/numpy/core/function_base.py:23(linspace)\n",
      "       21    0.000    0.000    0.002    0.000 /home/jail/dlusers/adriansh/.local/lib/python3.8/site-packages/pandas/core/series.py:183(__init__)\n",
      "     2100    0.001    0.000    0.002    0.000 {built-in method builtins.isinstance}\n",
      "        4    0.000    0.000    0.002    0.000 /home/jail/dlusers/adriansh/.local/lib/python3.8/site-packages/pandas/core/indexes/base.py:4373(get_value)\n",
      "        1    0.000    0.000    0.002    0.002 /home/jail/dlusers/adriansh/.local/lib/python3.8/site-packages/pandas/core/frame.py:7400(<listcomp>)\n",
      "        6    0.000    0.000    0.001    0.000 /home/jail/dlusers/adriansh/.local/lib/python3.8/site-packages/pandas/core/series.py:2115(round)\n",
      "       14    0.001    0.000    0.001    0.000 {built-in method numpy.arange}\n",
      "        1    0.000    0.000    0.001    0.001 /home/jail/dlusers/adriansh/.local/lib/python3.8/site-packages/pandas/core/reshape/concat.py:454(get_result)\n",
      "        4    0.000    0.000    0.001    0.000 /home/jail/dlusers/adriansh/.local/lib/python3.8/site-packages/pandas/core/series.py:912(_get_with)\n",
      "        1    0.000    0.000    0.001    0.001 /home/jail/dlusers/adriansh/.local/lib/python3.8/site-packages/pandas/core/internals/construction.py:213(init_dict)\n",
      "       13    0.000    0.000    0.001    0.000 /home/jail/dlusers/adriansh/.local/lib/python3.8/site-packages/pandas/core/generic.py:3581(_get_item_cache)\n",
      "       20    0.001    0.000    0.001    0.000 {built-in method numpy.array}\n",
      "        4    0.000    0.000    0.001    0.000 {method 'get_value' of 'pandas._libs.index.IndexEngine' objects}\n",
      "        1    0.000    0.000    0.001    0.001 /home/jail/dlusers/adriansh/.local/lib/python3.8/site-packages/pandas/core/internals/managers.py:1373(take)\n",
      "       12    0.000    0.000    0.001    0.000 /home/jail/dlusers/adriansh/.local/lib/python3.8/site-packages/pandas/core/indexes/numeric.py:107(_shallow_copy)\n",
      "        4    0.000    0.000    0.001    0.000 /home/jail/dlusers/adriansh/.local/lib/python3.8/site-packages/pandas/core/series.py:982(_get_values)\n",
      "       10    0.000    0.000    0.001    0.000 /home/jail/dlusers/adriansh/.local/lib/python3.8/site-packages/pandas/core/algorithms.py:1565(take_nd)\n",
      "        4    0.000    0.000    0.001    0.000 /home/jail/dlusers/adriansh/.local/lib/python3.8/site-packages/numpy/core/arrayprint.py:1575(_array_str_implementation)\n",
      "        4    0.000    0.000    0.001    0.000 /home/jail/dlusers/adriansh/.local/lib/python3.8/site-packages/numpy/core/arrayprint.py:561(array2string)\n",
      "        9    0.000    0.000    0.001    0.000 /home/jail/dlusers/adriansh/.local/lib/python3.8/site-packages/pandas/core/frame.py:2767(__getitem__)\n",
      "       27    0.000    0.000    0.001    0.000 /home/jail/dlusers/adriansh/.local/lib/python3.8/site-packages/pandas/core/internals/blocks.py:3021(make_block)\n",
      "        4    0.000    0.000    0.001    0.000 /home/jail/dlusers/adriansh/.local/lib/python3.8/site-packages/pandas/core/frame.py:7386(_series_round)\n",
      "\n",
      "\n"
     ]
    },
    {
     "data": {
      "text/plain": [
       "<pstats.Stats at 0x7f7160c0aa60>"
      ]
     },
     "execution_count": 40,
     "metadata": {},
     "output_type": "execute_result"
    }
   ],
   "source": [
    "import pstats\n",
    "p = pstats.Stats('foostats')\n",
    "p.sort_stats(\"cumtime\").print_stats(50)"
   ]
  },
  {
   "cell_type": "code",
   "execution_count": 80,
   "id": "72ddaa00-0dc9-482a-aff5-83805dfa15df",
   "metadata": {
    "execution": {
     "iopub.execute_input": "2024-06-04T20:26:04.716287Z",
     "iopub.status.busy": "2024-06-04T20:26:04.715500Z",
     "iopub.status.idle": "2024-06-04T20:26:05.197488Z",
     "shell.execute_reply": "2024-06-04T20:26:05.196486Z",
     "shell.execute_reply.started": "2024-06-04T20:26:04.716229Z"
    },
    "tags": []
   },
   "outputs": [
    {
     "data": {
      "image/png": "[encoded data removed]",
      "text/plain": [
       "<Figure size 1296x648 with 1 Axes>"
      ]
     },
     "metadata": {
      "needs_background": "light"
     },
     "output_type": "display_data"
    }
   ],
   "source": [
    "colors = np.array([\"tab:blue\", \"tab:green\", \"tab:orange\", \"tab:red\", \"tab:brown\"])\n",
    "filters = np.array(['u', 'g', 'r', 'i', 'z'])\n",
    "\n",
    "fig, ax = plt.subplots(1, 1, figsize=(18, 9))\n",
    "min_mjd = int(lc[\"mjd\"].min())\n",
    "\n",
    "for f, c in zip(filters, colors):\n",
    "    m_f = lc[\"filter\"] == f\n",
    "    lc_full = lc.loc[m_f]\n",
    "\n",
    "    if len(lc_full) > 0:\n",
    "        ax.errorbar(lc_full[\"mjd\"] - min_mjd, lc_full['mag_auto'], \n",
    "                    yerr=lc_full[\"magerr_auto\"], marker='.', ms=8,\n",
    "                    capsize=5, color=c, ls=\"None\", label=f)\n",
    "\n",
    "ax.set_ylabel('Mag', fontsize=20)\n",
    "ax.tick_params(labelsize=18)\n",
    "ax.invert_yaxis()\n",
    "ax.grid(visible=True)\n",
    "legend = ax.legend(fontsize=18, loc=\"upper right\")\n",
    "ax.set_xlabel(f'MJD - {min_mjd}', fontsize=20)\n",
    "fig.suptitle(f\"Object {lc.iloc[0, 0]}\", fontsize=22)\n",
    "# ax.set_xlim((740, 760))\n",
    "\n",
    "plt.show(fig)\n",
    "fig.savefig(f\"{fig_dir}{lc.iloc[0, 0]}_lightcurve.png\")\n",
    "plt.close(fig)"
   ]
  },
  {
   "cell_type": "code",
   "execution_count": 5,
   "id": "5082e130-b60d-424f-b679-36f7fd19b008",
   "metadata": {
    "execution": {
     "iopub.execute_input": "2024-05-30T21:23:50.316456Z",
     "iopub.status.busy": "2024-05-30T21:23:50.315696Z",
     "iopub.status.idle": "2024-05-30T21:23:50.323289Z",
     "shell.execute_reply": "2024-05-30T21:23:50.321883Z",
     "shell.execute_reply.started": "2024-05-30T21:23:50.316401Z"
    },
    "tags": []
   },
   "outputs": [],
   "source": [
    "delta_mags = -np.linspace(0.1, 2.5, num=25)"
   ]
  },
  {
   "cell_type": "code",
   "execution_count": 6,
   "id": "8bd06f4d-7a98-46cf-9d2c-f403d66abe75",
   "metadata": {
    "collapsed": true,
    "execution": {
     "iopub.execute_input": "2024-05-30T21:23:57.732603Z",
     "iopub.status.busy": "2024-05-30T21:23:57.731872Z",
     "iopub.status.idle": "2024-05-30T21:41:49.345093Z",
     "shell.execute_reply": "2024-05-30T21:41:49.342798Z",
     "shell.execute_reply.started": "2024-05-30T21:23:57.732538Z"
    },
    "jupyter": {
     "outputs_hidden": true
    },
    "tags": []
   },
   "outputs": [
    {
     "name": "stderr",
     "output_type": "stream",
     "text": [
      " 12%|█▏        | 3/25 [15:59<1:57:11, 319.63s/it]"
     ]
    },
    {
     "ename": "KeyboardInterrupt",
     "evalue": "",
     "output_type": "error",
     "traceback": [
      "\u001b[0;31m---------------------------------------------------------------------------\u001b[0m",
      "\u001b[0;31mKeyboardInterrupt\u001b[0m                         Traceback (most recent call last)",
      "\u001b[0;32m<ipython-input-6-d45632a6c3f3>\u001b[0m in \u001b[0;36m<module>\u001b[0;34m\u001b[0m\n\u001b[0;32m----> 1\u001b[0;31m \u001b[0machromatic_rates2\u001b[0m \u001b[0;34m=\u001b[0m \u001b[0mnp\u001b[0m\u001b[0;34m.\u001b[0m\u001b[0marray\u001b[0m\u001b[0;34m(\u001b[0m\u001b[0;34m[\u001b[0m\u001b[0mcalculate_detection_rate\u001b[0m\u001b[0;34m(\u001b[0m\u001b[0mlc\u001b[0m\u001b[0;34m,\u001b[0m \u001b[0mdmag\u001b[0m\u001b[0;34m,\u001b[0m \u001b[0;36m2\u001b[0m\u001b[0;34m,\u001b[0m \u001b[0;36m0.11\u001b[0m\u001b[0;34m,\u001b[0m \u001b[0machromatic\u001b[0m\u001b[0;34m=\u001b[0m\u001b[0;32mTrue\u001b[0m\u001b[0;34m)\u001b[0m \u001b[0;32mfor\u001b[0m \u001b[0mdmag\u001b[0m \u001b[0;32min\u001b[0m \u001b[0mtqdm\u001b[0m\u001b[0;34m(\u001b[0m\u001b[0mdelta_mags\u001b[0m\u001b[0;34m)\u001b[0m\u001b[0;34m]\u001b[0m\u001b[0;34m)\u001b[0m\u001b[0;34m\u001b[0m\u001b[0;34m\u001b[0m\u001b[0m\n\u001b[0m\u001b[1;32m      2\u001b[0m \u001b[0;31m# chromatic_rates2 = np.array([calculate_detection_rate(lc, dmag, 2, bw, achromatic=False) for dmag in tqdm(delta_mags)])\u001b[0m\u001b[0;34m\u001b[0m\u001b[0;34m\u001b[0m\u001b[0;34m\u001b[0m\u001b[0m\n",
      "\u001b[0;32m<ipython-input-6-d45632a6c3f3>\u001b[0m in \u001b[0;36m<listcomp>\u001b[0;34m(.0)\u001b[0m\n\u001b[0;32m----> 1\u001b[0;31m \u001b[0machromatic_rates2\u001b[0m \u001b[0;34m=\u001b[0m \u001b[0mnp\u001b[0m\u001b[0;34m.\u001b[0m\u001b[0marray\u001b[0m\u001b[0;34m(\u001b[0m\u001b[0;34m[\u001b[0m\u001b[0mcalculate_detection_rate\u001b[0m\u001b[0;34m(\u001b[0m\u001b[0mlc\u001b[0m\u001b[0;34m,\u001b[0m \u001b[0mdmag\u001b[0m\u001b[0;34m,\u001b[0m \u001b[0;36m2\u001b[0m\u001b[0;34m,\u001b[0m \u001b[0;36m0.11\u001b[0m\u001b[0;34m,\u001b[0m \u001b[0machromatic\u001b[0m\u001b[0;34m=\u001b[0m\u001b[0;32mTrue\u001b[0m\u001b[0;34m)\u001b[0m \u001b[0;32mfor\u001b[0m \u001b[0mdmag\u001b[0m \u001b[0;32min\u001b[0m \u001b[0mtqdm\u001b[0m\u001b[0;34m(\u001b[0m\u001b[0mdelta_mags\u001b[0m\u001b[0;34m)\u001b[0m\u001b[0;34m]\u001b[0m\u001b[0;34m)\u001b[0m\u001b[0;34m\u001b[0m\u001b[0;34m\u001b[0m\u001b[0m\n\u001b[0m\u001b[1;32m      2\u001b[0m \u001b[0;31m# chromatic_rates2 = np.array([calculate_detection_rate(lc, dmag, 2, bw, achromatic=False) for dmag in tqdm(delta_mags)])\u001b[0m\u001b[0;34m\u001b[0m\u001b[0;34m\u001b[0m\u001b[0;34m\u001b[0m\u001b[0m\n",
      "\u001b[0;32m<ipython-input-2-64f7408b3138>\u001b[0m in \u001b[0;36mcalculate_detection_rate\u001b[0;34m(df, delta_mag, n, bandwidth, achromatic)\u001b[0m\n\u001b[1;32m     23\u001b[0m \u001b[0;34m\u001b[0m\u001b[0m\n\u001b[1;32m     24\u001b[0m \u001b[0;32mdef\u001b[0m \u001b[0mcalculate_detection_rate\u001b[0m\u001b[0;34m(\u001b[0m\u001b[0mdf\u001b[0m\u001b[0;34m,\u001b[0m \u001b[0mdelta_mag\u001b[0m\u001b[0;34m,\u001b[0m \u001b[0mn\u001b[0m\u001b[0;34m,\u001b[0m \u001b[0mbandwidth\u001b[0m\u001b[0;34m,\u001b[0m \u001b[0machromatic\u001b[0m\u001b[0;34m=\u001b[0m\u001b[0;32mTrue\u001b[0m\u001b[0;34m)\u001b[0m\u001b[0;34m:\u001b[0m\u001b[0;34m\u001b[0m\u001b[0;34m\u001b[0m\u001b[0m\n\u001b[0;32m---> 25\u001b[0;31m     \u001b[0minjection_results\u001b[0m \u001b[0;34m=\u001b[0m \u001b[0mdf\u001b[0m\u001b[0;34m.\u001b[0m\u001b[0mgroupby\u001b[0m\u001b[0;34m(\u001b[0m\u001b[0mby\u001b[0m\u001b[0;34m=\u001b[0m\u001b[0;34m\"objectid\"\u001b[0m\u001b[0;34m,\u001b[0m \u001b[0mgroup_keys\u001b[0m\u001b[0;34m=\u001b[0m\u001b[0;32mFalse\u001b[0m\u001b[0;34m)\u001b[0m\u001b[0;34m.\u001b[0m\u001b[0mapply\u001b[0m\u001b[0;34m(\u001b[0m\u001b[0mcount_detections\u001b[0m\u001b[0;34m,\u001b[0m \u001b[0mdelta_mag\u001b[0m\u001b[0;34m,\u001b[0m \u001b[0mn\u001b[0m\u001b[0;34m,\u001b[0m \u001b[0mbandwidth\u001b[0m\u001b[0;34m,\u001b[0m \u001b[0machromatic\u001b[0m\u001b[0;34m)\u001b[0m\u001b[0;34m\u001b[0m\u001b[0;34m\u001b[0m\u001b[0m\n\u001b[0m\u001b[1;32m     26\u001b[0m     \u001b[0mtotals\u001b[0m \u001b[0;34m=\u001b[0m \u001b[0minjection_results\u001b[0m\u001b[0;34m.\u001b[0m\u001b[0msum\u001b[0m\u001b[0;34m(\u001b[0m\u001b[0maxis\u001b[0m\u001b[0;34m=\u001b[0m\u001b[0;36m0\u001b[0m\u001b[0;34m)\u001b[0m\u001b[0;34m\u001b[0m\u001b[0;34m\u001b[0m\u001b[0m\n\u001b[1;32m     27\u001b[0m     \u001b[0mresult\u001b[0m \u001b[0;34m=\u001b[0m \u001b[0mtotals\u001b[0m\u001b[0;34m[\u001b[0m\u001b[0;34m\"detected\"\u001b[0m\u001b[0;34m]\u001b[0m \u001b[0;34m/\u001b[0m \u001b[0mtotals\u001b[0m\u001b[0;34m[\u001b[0m\u001b[0;34m\"lensed\"\u001b[0m\u001b[0;34m]\u001b[0m\u001b[0;34m\u001b[0m\u001b[0;34m\u001b[0m\u001b[0m\n",
      "\u001b[0;32m/home/jail/dlusers/adriansh/.local/lib/python3.8/site-packages/pandas/core/groupby/groupby.py\u001b[0m in \u001b[0;36mapply\u001b[0;34m(self, func, *args, **kwargs)\u001b[0m\n\u001b[1;32m    733\u001b[0m         \u001b[0;32mwith\u001b[0m \u001b[0moption_context\u001b[0m\u001b[0;34m(\u001b[0m\u001b[0;34m\"mode.chained_assignment\"\u001b[0m\u001b[0;34m,\u001b[0m \u001b[0;32mNone\u001b[0m\u001b[0;34m)\u001b[0m\u001b[0;34m:\u001b[0m\u001b[0;34m\u001b[0m\u001b[0;34m\u001b[0m\u001b[0m\n\u001b[1;32m    734\u001b[0m             \u001b[0;32mtry\u001b[0m\u001b[0;34m:\u001b[0m\u001b[0;34m\u001b[0m\u001b[0;34m\u001b[0m\u001b[0m\n\u001b[0;32m--> 735\u001b[0;31m                 \u001b[0mresult\u001b[0m \u001b[0;34m=\u001b[0m \u001b[0mself\u001b[0m\u001b[0;34m.\u001b[0m\u001b[0m_python_apply_general\u001b[0m\u001b[0;34m(\u001b[0m\u001b[0mf\u001b[0m\u001b[0;34m)\u001b[0m\u001b[0;34m\u001b[0m\u001b[0;34m\u001b[0m\u001b[0m\n\u001b[0m\u001b[1;32m    736\u001b[0m             \u001b[0;32mexcept\u001b[0m \u001b[0mTypeError\u001b[0m\u001b[0;34m:\u001b[0m\u001b[0;34m\u001b[0m\u001b[0;34m\u001b[0m\u001b[0m\n\u001b[1;32m    737\u001b[0m                 \u001b[0;31m# gh-20949\u001b[0m\u001b[0;34m\u001b[0m\u001b[0;34m\u001b[0m\u001b[0;34m\u001b[0m\u001b[0m\n",
      "\u001b[0;32m/home/jail/dlusers/adriansh/.local/lib/python3.8/site-packages/pandas/core/groupby/groupby.py\u001b[0m in \u001b[0;36m_python_apply_general\u001b[0;34m(self, f)\u001b[0m\n\u001b[1;32m    749\u001b[0m \u001b[0;34m\u001b[0m\u001b[0m\n\u001b[1;32m    750\u001b[0m     \u001b[0;32mdef\u001b[0m \u001b[0m_python_apply_general\u001b[0m\u001b[0;34m(\u001b[0m\u001b[0mself\u001b[0m\u001b[0;34m,\u001b[0m \u001b[0mf\u001b[0m\u001b[0;34m)\u001b[0m\u001b[0;34m:\u001b[0m\u001b[0;34m\u001b[0m\u001b[0;34m\u001b[0m\u001b[0m\n\u001b[0;32m--> 751\u001b[0;31m         \u001b[0mkeys\u001b[0m\u001b[0;34m,\u001b[0m \u001b[0mvalues\u001b[0m\u001b[0;34m,\u001b[0m \u001b[0mmutated\u001b[0m \u001b[0;34m=\u001b[0m \u001b[0mself\u001b[0m\u001b[0;34m.\u001b[0m\u001b[0mgrouper\u001b[0m\u001b[0;34m.\u001b[0m\u001b[0mapply\u001b[0m\u001b[0;34m(\u001b[0m\u001b[0mf\u001b[0m\u001b[0;34m,\u001b[0m \u001b[0mself\u001b[0m\u001b[0;34m.\u001b[0m\u001b[0m_selected_obj\u001b[0m\u001b[0;34m,\u001b[0m \u001b[0mself\u001b[0m\u001b[0;34m.\u001b[0m\u001b[0maxis\u001b[0m\u001b[0;34m)\u001b[0m\u001b[0;34m\u001b[0m\u001b[0;34m\u001b[0m\u001b[0m\n\u001b[0m\u001b[1;32m    752\u001b[0m \u001b[0;34m\u001b[0m\u001b[0m\n\u001b[1;32m    753\u001b[0m         return self._wrap_applied_output(\n",
      "\u001b[0;32m/home/jail/dlusers/adriansh/.local/lib/python3.8/site-packages/pandas/core/groupby/ops.py\u001b[0m in \u001b[0;36mapply\u001b[0;34m(self, f, data, axis)\u001b[0m\n\u001b[1;32m    204\u001b[0m             \u001b[0;31m# group might be modified\u001b[0m\u001b[0;34m\u001b[0m\u001b[0;34m\u001b[0m\u001b[0;34m\u001b[0m\u001b[0m\n\u001b[1;32m    205\u001b[0m             \u001b[0mgroup_axes\u001b[0m \u001b[0;34m=\u001b[0m \u001b[0mgroup\u001b[0m\u001b[0;34m.\u001b[0m\u001b[0maxes\u001b[0m\u001b[0;34m\u001b[0m\u001b[0;34m\u001b[0m\u001b[0m\n\u001b[0;32m--> 206\u001b[0;31m             \u001b[0mres\u001b[0m \u001b[0;34m=\u001b[0m \u001b[0mf\u001b[0m\u001b[0;34m(\u001b[0m\u001b[0mgroup\u001b[0m\u001b[0;34m)\u001b[0m\u001b[0;34m\u001b[0m\u001b[0;34m\u001b[0m\u001b[0m\n\u001b[0m\u001b[1;32m    207\u001b[0m             \u001b[0;32mif\u001b[0m \u001b[0;32mnot\u001b[0m \u001b[0m_is_indexed_like\u001b[0m\u001b[0;34m(\u001b[0m\u001b[0mres\u001b[0m\u001b[0;34m,\u001b[0m \u001b[0mgroup_axes\u001b[0m\u001b[0;34m)\u001b[0m\u001b[0;34m:\u001b[0m\u001b[0;34m\u001b[0m\u001b[0;34m\u001b[0m\u001b[0m\n\u001b[1;32m    208\u001b[0m                 \u001b[0mmutated\u001b[0m \u001b[0;34m=\u001b[0m \u001b[0;32mTrue\u001b[0m\u001b[0;34m\u001b[0m\u001b[0;34m\u001b[0m\u001b[0m\n",
      "\u001b[0;32m/home/jail/dlusers/adriansh/.local/lib/python3.8/site-packages/pandas/core/groupby/groupby.py\u001b[0m in \u001b[0;36mf\u001b[0;34m(g)\u001b[0m\n\u001b[1;32m    717\u001b[0m                 \u001b[0;32mdef\u001b[0m \u001b[0mf\u001b[0m\u001b[0;34m(\u001b[0m\u001b[0mg\u001b[0m\u001b[0;34m)\u001b[0m\u001b[0;34m:\u001b[0m\u001b[0;34m\u001b[0m\u001b[0;34m\u001b[0m\u001b[0m\n\u001b[1;32m    718\u001b[0m                     \u001b[0;32mwith\u001b[0m \u001b[0mnp\u001b[0m\u001b[0;34m.\u001b[0m\u001b[0merrstate\u001b[0m\u001b[0;34m(\u001b[0m\u001b[0mall\u001b[0m\u001b[0;34m=\u001b[0m\u001b[0;34m\"ignore\"\u001b[0m\u001b[0;34m)\u001b[0m\u001b[0;34m:\u001b[0m\u001b[0;34m\u001b[0m\u001b[0;34m\u001b[0m\u001b[0m\n\u001b[0;32m--> 719\u001b[0;31m                         \u001b[0;32mreturn\u001b[0m \u001b[0mfunc\u001b[0m\u001b[0;34m(\u001b[0m\u001b[0mg\u001b[0m\u001b[0;34m,\u001b[0m \u001b[0;34m*\u001b[0m\u001b[0margs\u001b[0m\u001b[0;34m,\u001b[0m \u001b[0;34m**\u001b[0m\u001b[0mkwargs\u001b[0m\u001b[0;34m)\u001b[0m\u001b[0;34m\u001b[0m\u001b[0;34m\u001b[0m\u001b[0m\n\u001b[0m\u001b[1;32m    720\u001b[0m \u001b[0;34m\u001b[0m\u001b[0m\n\u001b[1;32m    721\u001b[0m             \u001b[0;32melif\u001b[0m \u001b[0mhasattr\u001b[0m\u001b[0;34m(\u001b[0m\u001b[0mnanops\u001b[0m\u001b[0;34m,\u001b[0m \u001b[0;34m\"nan\"\u001b[0m \u001b[0;34m+\u001b[0m \u001b[0mfunc\u001b[0m\u001b[0;34m)\u001b[0m\u001b[0;34m:\u001b[0m\u001b[0;34m\u001b[0m\u001b[0;34m\u001b[0m\u001b[0m\n",
      "\u001b[0;32m<ipython-input-2-64f7408b3138>\u001b[0m in \u001b[0;36mcount_detections\u001b[0;34m(df, dmag, n, bw, achromatic)\u001b[0m\n\u001b[1;32m      8\u001b[0m \u001b[0;34m\u001b[0m\u001b[0m\n\u001b[1;32m      9\u001b[0m     \u001b[0mn_lensed\u001b[0m \u001b[0;34m=\u001b[0m \u001b[0mlen\u001b[0m\u001b[0;34m(\u001b[0m\u001b[0mindices\u001b[0m\u001b[0;34m)\u001b[0m\u001b[0;34m\u001b[0m\u001b[0;34m\u001b[0m\u001b[0m\n\u001b[0;32m---> 10\u001b[0;31m     \u001b[0mdetected\u001b[0m \u001b[0;34m=\u001b[0m \u001b[0;34m[\u001b[0m\u001b[0mlens_and_detect\u001b[0m\u001b[0;34m(\u001b[0m\u001b[0mdf\u001b[0m\u001b[0;34m,\u001b[0m \u001b[0mdmag\u001b[0m\u001b[0;34m,\u001b[0m \u001b[0midxs\u001b[0m\u001b[0;34m,\u001b[0m \u001b[0mbw\u001b[0m\u001b[0;34m)\u001b[0m \u001b[0;32mfor\u001b[0m \u001b[0midxs\u001b[0m \u001b[0;32min\u001b[0m \u001b[0mindices\u001b[0m\u001b[0;34m]\u001b[0m\u001b[0;34m\u001b[0m\u001b[0;34m\u001b[0m\u001b[0m\n\u001b[0m\u001b[1;32m     11\u001b[0m     \u001b[0mn_detected\u001b[0m \u001b[0;34m=\u001b[0m \u001b[0msum\u001b[0m\u001b[0;34m(\u001b[0m\u001b[0mdetected\u001b[0m\u001b[0;34m)\u001b[0m\u001b[0;34m\u001b[0m\u001b[0;34m\u001b[0m\u001b[0m\n\u001b[1;32m     12\u001b[0m     \u001b[0moid\u001b[0m \u001b[0;34m=\u001b[0m \u001b[0mdf\u001b[0m\u001b[0;34m.\u001b[0m\u001b[0miloc\u001b[0m\u001b[0;34m[\u001b[0m\u001b[0;36m0\u001b[0m\u001b[0;34m,\u001b[0m \u001b[0;36m0\u001b[0m\u001b[0;34m]\u001b[0m\u001b[0;34m\u001b[0m\u001b[0;34m\u001b[0m\u001b[0m\n",
      "\u001b[0;32m<ipython-input-2-64f7408b3138>\u001b[0m in \u001b[0;36m<listcomp>\u001b[0;34m(.0)\u001b[0m\n\u001b[1;32m      8\u001b[0m \u001b[0;34m\u001b[0m\u001b[0m\n\u001b[1;32m      9\u001b[0m     \u001b[0mn_lensed\u001b[0m \u001b[0;34m=\u001b[0m \u001b[0mlen\u001b[0m\u001b[0;34m(\u001b[0m\u001b[0mindices\u001b[0m\u001b[0;34m)\u001b[0m\u001b[0;34m\u001b[0m\u001b[0;34m\u001b[0m\u001b[0m\n\u001b[0;32m---> 10\u001b[0;31m     \u001b[0mdetected\u001b[0m \u001b[0;34m=\u001b[0m \u001b[0;34m[\u001b[0m\u001b[0mlens_and_detect\u001b[0m\u001b[0;34m(\u001b[0m\u001b[0mdf\u001b[0m\u001b[0;34m,\u001b[0m \u001b[0mdmag\u001b[0m\u001b[0;34m,\u001b[0m \u001b[0midxs\u001b[0m\u001b[0;34m,\u001b[0m \u001b[0mbw\u001b[0m\u001b[0;34m)\u001b[0m \u001b[0;32mfor\u001b[0m \u001b[0midxs\u001b[0m \u001b[0;32min\u001b[0m \u001b[0mindices\u001b[0m\u001b[0;34m]\u001b[0m\u001b[0;34m\u001b[0m\u001b[0;34m\u001b[0m\u001b[0m\n\u001b[0m\u001b[1;32m     11\u001b[0m     \u001b[0mn_detected\u001b[0m \u001b[0;34m=\u001b[0m \u001b[0msum\u001b[0m\u001b[0;34m(\u001b[0m\u001b[0mdetected\u001b[0m\u001b[0;34m)\u001b[0m\u001b[0;34m\u001b[0m\u001b[0;34m\u001b[0m\u001b[0m\n\u001b[1;32m     12\u001b[0m     \u001b[0moid\u001b[0m \u001b[0;34m=\u001b[0m \u001b[0mdf\u001b[0m\u001b[0;34m.\u001b[0m\u001b[0miloc\u001b[0m\u001b[0;34m[\u001b[0m\u001b[0;36m0\u001b[0m\u001b[0;34m,\u001b[0m \u001b[0;36m0\u001b[0m\u001b[0;34m]\u001b[0m\u001b[0;34m\u001b[0m\u001b[0;34m\u001b[0m\u001b[0m\n",
      "\u001b[0;32m<ipython-input-2-64f7408b3138>\u001b[0m in \u001b[0;36mlens_and_detect\u001b[0;34m(df, dmag, idxs, bw)\u001b[0m\n\u001b[1;32m     17\u001b[0m     \u001b[0mold_vals\u001b[0m \u001b[0;34m=\u001b[0m \u001b[0mdf\u001b[0m\u001b[0;34m.\u001b[0m\u001b[0mloc\u001b[0m\u001b[0;34m[\u001b[0m\u001b[0midxs\u001b[0m\u001b[0;34m,\u001b[0m \u001b[0;34m\"mag_auto\"\u001b[0m\u001b[0;34m]\u001b[0m\u001b[0;34m\u001b[0m\u001b[0;34m\u001b[0m\u001b[0m\n\u001b[1;32m     18\u001b[0m     \u001b[0mdf\u001b[0m\u001b[0;34m.\u001b[0m\u001b[0mloc\u001b[0m\u001b[0;34m[\u001b[0m\u001b[0midxs\u001b[0m\u001b[0;34m,\u001b[0m \u001b[0;34m\"mag_auto\"\u001b[0m\u001b[0;34m]\u001b[0m \u001b[0;34m=\u001b[0m \u001b[0mold_vals\u001b[0m \u001b[0;34m+\u001b[0m \u001b[0mdmag\u001b[0m\u001b[0;34m\u001b[0m\u001b[0;34m\u001b[0m\u001b[0m\n\u001b[0;32m---> 19\u001b[0;31m     \u001b[0mcl\u001b[0m \u001b[0;34m=\u001b[0m \u001b[0mdatalab_utils\u001b[0m\u001b[0;34m.\u001b[0m\u001b[0mcluster_label_dataframe\u001b[0m\u001b[0;34m(\u001b[0m\u001b[0mdf\u001b[0m\u001b[0;34m,\u001b[0m \u001b[0mbandwidth\u001b[0m\u001b[0;34m=\u001b[0m\u001b[0mbw\u001b[0m\u001b[0;34m)\u001b[0m\u001b[0;34m\u001b[0m\u001b[0;34m\u001b[0m\u001b[0m\n\u001b[0m\u001b[1;32m     20\u001b[0m     \u001b[0mdf\u001b[0m\u001b[0;34m.\u001b[0m\u001b[0mloc\u001b[0m\u001b[0;34m[\u001b[0m\u001b[0midxs\u001b[0m\u001b[0;34m,\u001b[0m \u001b[0;34m\"mag_auto\"\u001b[0m\u001b[0;34m]\u001b[0m \u001b[0;34m=\u001b[0m \u001b[0mold_vals\u001b[0m\u001b[0;34m\u001b[0m\u001b[0;34m\u001b[0m\u001b[0m\n\u001b[1;32m     21\u001b[0m     \u001b[0mresult\u001b[0m \u001b[0;34m=\u001b[0m \u001b[0mdatalab_utils\u001b[0m\u001b[0;34m.\u001b[0m\u001b[0mlens_filter\u001b[0m\u001b[0;34m(\u001b[0m\u001b[0mcl\u001b[0m\u001b[0;34m)\u001b[0m\u001b[0;34m\u001b[0m\u001b[0;34m\u001b[0m\u001b[0m\n",
      "\u001b[0;32m/home/jail/dlusers/adriansh/work/stringScratch/datalab_utils.py\u001b[0m in \u001b[0;36mcluster_label_dataframe\u001b[0;34m(df, mag_column, magerr_column, bandwidth)\u001b[0m\n\u001b[1;32m     84\u001b[0m                             bandwidth=0.11):\n\u001b[1;32m     85\u001b[0m     \u001b[0mg\u001b[0m \u001b[0;34m=\u001b[0m \u001b[0mdf\u001b[0m\u001b[0;34m[\u001b[0m\u001b[0;34m[\u001b[0m\u001b[0;34m\"objectid\"\u001b[0m\u001b[0;34m,\u001b[0m \u001b[0;34m\"filter\"\u001b[0m\u001b[0;34m,\u001b[0m \u001b[0mmag_column\u001b[0m\u001b[0;34m,\u001b[0m \u001b[0mmagerr_column\u001b[0m\u001b[0;34m]\u001b[0m\u001b[0;34m]\u001b[0m\u001b[0;34m.\u001b[0m\u001b[0mgroupby\u001b[0m\u001b[0;34m(\u001b[0m\u001b[0mby\u001b[0m\u001b[0;34m=\u001b[0m\u001b[0;34m[\u001b[0m\u001b[0;34m\"objectid\"\u001b[0m\u001b[0;34m,\u001b[0m \u001b[0;34m\"filter\"\u001b[0m\u001b[0;34m]\u001b[0m\u001b[0;34m)\u001b[0m\u001b[0;34m\u001b[0m\u001b[0;34m\u001b[0m\u001b[0m\n\u001b[0;32m---> 86\u001b[0;31m     \u001b[0mcluster_label\u001b[0m \u001b[0;34m=\u001b[0m \u001b[0mg\u001b[0m\u001b[0;34m.\u001b[0m\u001b[0mapply\u001b[0m\u001b[0;34m(\u001b[0m\u001b[0m_cl_apply\u001b[0m\u001b[0;34m,\u001b[0m \u001b[0mbandwidth\u001b[0m\u001b[0;34m)\u001b[0m\u001b[0;34m\u001b[0m\u001b[0;34m\u001b[0m\u001b[0m\n\u001b[0m\u001b[1;32m     87\u001b[0m     \u001b[0mresult\u001b[0m \u001b[0;34m=\u001b[0m \u001b[0mdf\u001b[0m\u001b[0;34m.\u001b[0m\u001b[0massign\u001b[0m\u001b[0;34m(\u001b[0m\u001b[0mcluster_label\u001b[0m\u001b[0;34m=\u001b[0m\u001b[0mcluster_label\u001b[0m\u001b[0;34m)\u001b[0m\u001b[0;34m\u001b[0m\u001b[0;34m\u001b[0m\u001b[0m\n\u001b[1;32m     88\u001b[0m     \u001b[0;32mreturn\u001b[0m \u001b[0mresult\u001b[0m\u001b[0;34m\u001b[0m\u001b[0;34m\u001b[0m\u001b[0m\n",
      "\u001b[0;32m/home/jail/dlusers/adriansh/.local/lib/python3.8/site-packages/pandas/core/groupby/groupby.py\u001b[0m in \u001b[0;36mapply\u001b[0;34m(self, func, *args, **kwargs)\u001b[0m\n\u001b[1;32m    733\u001b[0m         \u001b[0;32mwith\u001b[0m \u001b[0moption_context\u001b[0m\u001b[0;34m(\u001b[0m\u001b[0;34m\"mode.chained_assignment\"\u001b[0m\u001b[0;34m,\u001b[0m \u001b[0;32mNone\u001b[0m\u001b[0;34m)\u001b[0m\u001b[0;34m:\u001b[0m\u001b[0;34m\u001b[0m\u001b[0;34m\u001b[0m\u001b[0m\n\u001b[1;32m    734\u001b[0m             \u001b[0;32mtry\u001b[0m\u001b[0;34m:\u001b[0m\u001b[0;34m\u001b[0m\u001b[0;34m\u001b[0m\u001b[0m\n\u001b[0;32m--> 735\u001b[0;31m                 \u001b[0mresult\u001b[0m \u001b[0;34m=\u001b[0m \u001b[0mself\u001b[0m\u001b[0;34m.\u001b[0m\u001b[0m_python_apply_general\u001b[0m\u001b[0;34m(\u001b[0m\u001b[0mf\u001b[0m\u001b[0;34m)\u001b[0m\u001b[0;34m\u001b[0m\u001b[0;34m\u001b[0m\u001b[0m\n\u001b[0m\u001b[1;32m    736\u001b[0m             \u001b[0;32mexcept\u001b[0m \u001b[0mTypeError\u001b[0m\u001b[0;34m:\u001b[0m\u001b[0;34m\u001b[0m\u001b[0;34m\u001b[0m\u001b[0m\n\u001b[1;32m    737\u001b[0m                 \u001b[0;31m# gh-20949\u001b[0m\u001b[0;34m\u001b[0m\u001b[0;34m\u001b[0m\u001b[0;34m\u001b[0m\u001b[0m\n",
      "\u001b[0;32m/home/jail/dlusers/adriansh/.local/lib/python3.8/site-packages/pandas/core/groupby/groupby.py\u001b[0m in \u001b[0;36m_python_apply_general\u001b[0;34m(self, f)\u001b[0m\n\u001b[1;32m    749\u001b[0m \u001b[0;34m\u001b[0m\u001b[0m\n\u001b[1;32m    750\u001b[0m     \u001b[0;32mdef\u001b[0m \u001b[0m_python_apply_general\u001b[0m\u001b[0;34m(\u001b[0m\u001b[0mself\u001b[0m\u001b[0;34m,\u001b[0m \u001b[0mf\u001b[0m\u001b[0;34m)\u001b[0m\u001b[0;34m:\u001b[0m\u001b[0;34m\u001b[0m\u001b[0;34m\u001b[0m\u001b[0m\n\u001b[0;32m--> 751\u001b[0;31m         \u001b[0mkeys\u001b[0m\u001b[0;34m,\u001b[0m \u001b[0mvalues\u001b[0m\u001b[0;34m,\u001b[0m \u001b[0mmutated\u001b[0m \u001b[0;34m=\u001b[0m \u001b[0mself\u001b[0m\u001b[0;34m.\u001b[0m\u001b[0mgrouper\u001b[0m\u001b[0;34m.\u001b[0m\u001b[0mapply\u001b[0m\u001b[0;34m(\u001b[0m\u001b[0mf\u001b[0m\u001b[0;34m,\u001b[0m \u001b[0mself\u001b[0m\u001b[0;34m.\u001b[0m\u001b[0m_selected_obj\u001b[0m\u001b[0;34m,\u001b[0m \u001b[0mself\u001b[0m\u001b[0;34m.\u001b[0m\u001b[0maxis\u001b[0m\u001b[0;34m)\u001b[0m\u001b[0;34m\u001b[0m\u001b[0;34m\u001b[0m\u001b[0m\n\u001b[0m\u001b[1;32m    752\u001b[0m \u001b[0;34m\u001b[0m\u001b[0m\n\u001b[1;32m    753\u001b[0m         return self._wrap_applied_output(\n",
      "\u001b[0;32m/home/jail/dlusers/adriansh/.local/lib/python3.8/site-packages/pandas/core/groupby/ops.py\u001b[0m in \u001b[0;36mapply\u001b[0;34m(self, f, data, axis)\u001b[0m\n\u001b[1;32m    170\u001b[0m         ):\n\u001b[1;32m    171\u001b[0m             \u001b[0;32mtry\u001b[0m\u001b[0;34m:\u001b[0m\u001b[0;34m\u001b[0m\u001b[0;34m\u001b[0m\u001b[0m\n\u001b[0;32m--> 172\u001b[0;31m                 \u001b[0mresult_values\u001b[0m\u001b[0;34m,\u001b[0m \u001b[0mmutated\u001b[0m \u001b[0;34m=\u001b[0m \u001b[0msplitter\u001b[0m\u001b[0;34m.\u001b[0m\u001b[0mfast_apply\u001b[0m\u001b[0;34m(\u001b[0m\u001b[0mf\u001b[0m\u001b[0;34m,\u001b[0m \u001b[0mgroup_keys\u001b[0m\u001b[0;34m)\u001b[0m\u001b[0;34m\u001b[0m\u001b[0;34m\u001b[0m\u001b[0m\n\u001b[0m\u001b[1;32m    173\u001b[0m \u001b[0;34m\u001b[0m\u001b[0m\n\u001b[1;32m    174\u001b[0m             \u001b[0;32mexcept\u001b[0m \u001b[0mlibreduction\u001b[0m\u001b[0;34m.\u001b[0m\u001b[0mInvalidApply\u001b[0m \u001b[0;32mas\u001b[0m \u001b[0merr\u001b[0m\u001b[0;34m:\u001b[0m\u001b[0;34m\u001b[0m\u001b[0;34m\u001b[0m\u001b[0m\n",
      "\u001b[0;32m/home/jail/dlusers/adriansh/.local/lib/python3.8/site-packages/pandas/core/groupby/ops.py\u001b[0m in \u001b[0;36mfast_apply\u001b[0;34m(self, f, names)\u001b[0m\n\u001b[1;32m    929\u001b[0m \u001b[0;34m\u001b[0m\u001b[0m\n\u001b[1;32m    930\u001b[0m         \u001b[0msdata\u001b[0m \u001b[0;34m=\u001b[0m \u001b[0mself\u001b[0m\u001b[0;34m.\u001b[0m\u001b[0m_get_sorted_data\u001b[0m\u001b[0;34m(\u001b[0m\u001b[0;34m)\u001b[0m\u001b[0;34m\u001b[0m\u001b[0;34m\u001b[0m\u001b[0m\n\u001b[0;32m--> 931\u001b[0;31m         \u001b[0;32mreturn\u001b[0m \u001b[0mlibreduction\u001b[0m\u001b[0;34m.\u001b[0m\u001b[0mapply_frame_axis0\u001b[0m\u001b[0;34m(\u001b[0m\u001b[0msdata\u001b[0m\u001b[0;34m,\u001b[0m \u001b[0mf\u001b[0m\u001b[0;34m,\u001b[0m \u001b[0mnames\u001b[0m\u001b[0;34m,\u001b[0m \u001b[0mstarts\u001b[0m\u001b[0;34m,\u001b[0m \u001b[0mends\u001b[0m\u001b[0;34m)\u001b[0m\u001b[0;34m\u001b[0m\u001b[0;34m\u001b[0m\u001b[0m\n\u001b[0m\u001b[1;32m    932\u001b[0m \u001b[0;34m\u001b[0m\u001b[0m\n\u001b[1;32m    933\u001b[0m     \u001b[0;32mdef\u001b[0m \u001b[0m_chop\u001b[0m\u001b[0;34m(\u001b[0m\u001b[0mself\u001b[0m\u001b[0;34m,\u001b[0m \u001b[0msdata\u001b[0m\u001b[0;34m:\u001b[0m \u001b[0mDataFrame\u001b[0m\u001b[0;34m,\u001b[0m \u001b[0mslice_obj\u001b[0m\u001b[0;34m:\u001b[0m \u001b[0mslice\u001b[0m\u001b[0;34m)\u001b[0m \u001b[0;34m->\u001b[0m \u001b[0mDataFrame\u001b[0m\u001b[0;34m:\u001b[0m\u001b[0;34m\u001b[0m\u001b[0;34m\u001b[0m\u001b[0m\n",
      "\u001b[0;32m/data0/sw/anaconda3/lib/python3.8/site-packages/pandas/_libs/reduction.pyx\u001b[0m in \u001b[0;36mpandas._libs.reduction.apply_frame_axis0\u001b[0;34m()\u001b[0m\n",
      "\u001b[0;32m/home/jail/dlusers/adriansh/.local/lib/python3.8/site-packages/pandas/core/groupby/groupby.py\u001b[0m in \u001b[0;36mf\u001b[0;34m(g)\u001b[0m\n\u001b[1;32m    717\u001b[0m                 \u001b[0;32mdef\u001b[0m \u001b[0mf\u001b[0m\u001b[0;34m(\u001b[0m\u001b[0mg\u001b[0m\u001b[0;34m)\u001b[0m\u001b[0;34m:\u001b[0m\u001b[0;34m\u001b[0m\u001b[0;34m\u001b[0m\u001b[0m\n\u001b[1;32m    718\u001b[0m                     \u001b[0;32mwith\u001b[0m \u001b[0mnp\u001b[0m\u001b[0;34m.\u001b[0m\u001b[0merrstate\u001b[0m\u001b[0;34m(\u001b[0m\u001b[0mall\u001b[0m\u001b[0;34m=\u001b[0m\u001b[0;34m\"ignore\"\u001b[0m\u001b[0;34m)\u001b[0m\u001b[0;34m:\u001b[0m\u001b[0;34m\u001b[0m\u001b[0;34m\u001b[0m\u001b[0m\n\u001b[0;32m--> 719\u001b[0;31m                         \u001b[0;32mreturn\u001b[0m \u001b[0mfunc\u001b[0m\u001b[0;34m(\u001b[0m\u001b[0mg\u001b[0m\u001b[0;34m,\u001b[0m \u001b[0;34m*\u001b[0m\u001b[0margs\u001b[0m\u001b[0;34m,\u001b[0m \u001b[0;34m**\u001b[0m\u001b[0mkwargs\u001b[0m\u001b[0;34m)\u001b[0m\u001b[0;34m\u001b[0m\u001b[0;34m\u001b[0m\u001b[0m\n\u001b[0m\u001b[1;32m    720\u001b[0m \u001b[0;34m\u001b[0m\u001b[0m\n\u001b[1;32m    721\u001b[0m             \u001b[0;32melif\u001b[0m \u001b[0mhasattr\u001b[0m\u001b[0;34m(\u001b[0m\u001b[0mnanops\u001b[0m\u001b[0;34m,\u001b[0m \u001b[0;34m\"nan\"\u001b[0m \u001b[0;34m+\u001b[0m \u001b[0mfunc\u001b[0m\u001b[0;34m)\u001b[0m\u001b[0;34m:\u001b[0m\u001b[0;34m\u001b[0m\u001b[0;34m\u001b[0m\u001b[0m\n",
      "\u001b[0;32m/home/jail/dlusers/adriansh/work/stringScratch/datalab_utils.py\u001b[0m in \u001b[0;36m_cl_apply\u001b[0;34m(df, bandwidth)\u001b[0m\n\u001b[1;32m     92\u001b[0m     \u001b[0mweights\u001b[0m \u001b[0;34m=\u001b[0m \u001b[0mnp\u001b[0m\u001b[0;34m.\u001b[0m\u001b[0mpower\u001b[0m\u001b[0;34m(\u001b[0m\u001b[0mdf\u001b[0m\u001b[0;34m[\u001b[0m\u001b[0mdf\u001b[0m\u001b[0;34m.\u001b[0m\u001b[0mcolumns\u001b[0m\u001b[0;34m[\u001b[0m\u001b[0;36m3\u001b[0m\u001b[0;34m]\u001b[0m\u001b[0;34m]\u001b[0m\u001b[0;34m.\u001b[0m\u001b[0mvalues\u001b[0m\u001b[0;34m,\u001b[0m \u001b[0;34m-\u001b[0m\u001b[0;36m2\u001b[0m\u001b[0;34m)\u001b[0m\u001b[0;34m\u001b[0m\u001b[0;34m\u001b[0m\u001b[0m\n\u001b[1;32m     93\u001b[0m     \u001b[0midxs\u001b[0m \u001b[0;34m=\u001b[0m \u001b[0mdf\u001b[0m\u001b[0;34m.\u001b[0m\u001b[0mindex\u001b[0m\u001b[0;34m\u001b[0m\u001b[0;34m\u001b[0m\u001b[0m\n\u001b[0;32m---> 94\u001b[0;31m     \u001b[0mkde_result\u001b[0m \u001b[0;34m=\u001b[0m \u001b[0mkde_pdf\u001b[0m\u001b[0;34m(\u001b[0m\u001b[0msamples\u001b[0m\u001b[0;34m,\u001b[0m \u001b[0mweights\u001b[0m\u001b[0;34m,\u001b[0m \u001b[0mbandwidth\u001b[0m\u001b[0;34m)\u001b[0m\u001b[0;34m\u001b[0m\u001b[0;34m\u001b[0m\u001b[0m\n\u001b[0m\u001b[1;32m     95\u001b[0m     \u001b[0mcluster_type\u001b[0m \u001b[0;34m=\u001b[0m \u001b[0m_label_cluster_type\u001b[0m\u001b[0;34m(\u001b[0m\u001b[0msamples\u001b[0m\u001b[0;34m,\u001b[0m \u001b[0mweights\u001b[0m\u001b[0;34m,\u001b[0m \u001b[0mkde_result\u001b[0m\u001b[0;34m)\u001b[0m\u001b[0;34m\u001b[0m\u001b[0;34m\u001b[0m\u001b[0m\n\u001b[1;32m     96\u001b[0m \u001b[0;34m\u001b[0m\u001b[0m\n",
      "\u001b[0;32m/home/jail/dlusers/adriansh/work/stringScratch/datalab_utils.py\u001b[0m in \u001b[0;36mkde_pdf\u001b[0;34m(samples, weights, bandwidth)\u001b[0m\n\u001b[1;32m     17\u001b[0m     \u001b[0mhigh\u001b[0m \u001b[0;34m=\u001b[0m \u001b[0msamples\u001b[0m\u001b[0;34m.\u001b[0m\u001b[0mmax\u001b[0m\u001b[0;34m(\u001b[0m\u001b[0;34m)\u001b[0m \u001b[0;34m+\u001b[0m \u001b[0;36m1\u001b[0m\u001b[0;34m\u001b[0m\u001b[0;34m\u001b[0m\u001b[0m\n\u001b[1;32m     18\u001b[0m     \u001b[0mx\u001b[0m \u001b[0;34m=\u001b[0m \u001b[0mnp\u001b[0m\u001b[0;34m.\u001b[0m\u001b[0mlinspace\u001b[0m\u001b[0;34m(\u001b[0m\u001b[0mlow\u001b[0m\u001b[0;34m,\u001b[0m \u001b[0mhigh\u001b[0m\u001b[0;34m,\u001b[0m \u001b[0mnum\u001b[0m\u001b[0;34m=\u001b[0m\u001b[0;36m100\u001b[0m\u001b[0;34m)\u001b[0m\u001b[0;34m\u001b[0m\u001b[0;34m\u001b[0m\u001b[0m\n\u001b[0;32m---> 19\u001b[0;31m     \u001b[0mpdf\u001b[0m \u001b[0;34m=\u001b[0m \u001b[0mkde\u001b[0m\u001b[0;34m(\u001b[0m\u001b[0mx\u001b[0m\u001b[0;34m)\u001b[0m\u001b[0;34m\u001b[0m\u001b[0;34m\u001b[0m\u001b[0m\n\u001b[0m\u001b[1;32m     20\u001b[0m     \u001b[0mresult\u001b[0m \u001b[0;34m=\u001b[0m \u001b[0;34m{\u001b[0m\u001b[0;34m\"pdf\"\u001b[0m\u001b[0;34m:\u001b[0m \u001b[0mpdf\u001b[0m\u001b[0;34m,\u001b[0m \u001b[0;34m\"x\"\u001b[0m\u001b[0;34m:\u001b[0m \u001b[0mx\u001b[0m\u001b[0;34m}\u001b[0m\u001b[0;34m\u001b[0m\u001b[0;34m\u001b[0m\u001b[0m\n\u001b[1;32m     21\u001b[0m     \u001b[0;32mreturn\u001b[0m \u001b[0mresult\u001b[0m\u001b[0;34m\u001b[0m\u001b[0;34m\u001b[0m\u001b[0m\n",
      "\u001b[0;32m/home/jail/dlusers/adriansh/.local/lib/python3.8/site-packages/scipy/stats/kde.py\u001b[0m in \u001b[0;36mevaluate\u001b[0;34m(self, points)\u001b[0m\n\u001b[1;32m    253\u001b[0m                 \u001b[0mdiff\u001b[0m \u001b[0;34m=\u001b[0m \u001b[0mscaled_dataset\u001b[0m\u001b[0;34m[\u001b[0m\u001b[0;34m:\u001b[0m\u001b[0;34m,\u001b[0m \u001b[0mi\u001b[0m\u001b[0;34m,\u001b[0m \u001b[0mnewaxis\u001b[0m\u001b[0;34m]\u001b[0m \u001b[0;34m-\u001b[0m \u001b[0mscaled_points\u001b[0m\u001b[0;34m\u001b[0m\u001b[0;34m\u001b[0m\u001b[0m\n\u001b[1;32m    254\u001b[0m                 \u001b[0menergy\u001b[0m \u001b[0;34m=\u001b[0m \u001b[0msum\u001b[0m\u001b[0;34m(\u001b[0m\u001b[0mdiff\u001b[0m \u001b[0;34m*\u001b[0m \u001b[0mdiff\u001b[0m\u001b[0;34m,\u001b[0m \u001b[0maxis\u001b[0m\u001b[0;34m=\u001b[0m\u001b[0;36m0\u001b[0m\u001b[0;34m)\u001b[0m \u001b[0;34m/\u001b[0m \u001b[0;36m2.0\u001b[0m\u001b[0;34m\u001b[0m\u001b[0;34m\u001b[0m\u001b[0m\n\u001b[0;32m--> 255\u001b[0;31m                 \u001b[0mresult\u001b[0m \u001b[0;34m+=\u001b[0m \u001b[0mself\u001b[0m\u001b[0;34m.\u001b[0m\u001b[0mweights\u001b[0m\u001b[0;34m[\u001b[0m\u001b[0mi\u001b[0m\u001b[0;34m]\u001b[0m\u001b[0;34m*\u001b[0m\u001b[0mexp\u001b[0m\u001b[0;34m(\u001b[0m\u001b[0;34m-\u001b[0m\u001b[0menergy\u001b[0m\u001b[0;34m)\u001b[0m\u001b[0;34m\u001b[0m\u001b[0;34m\u001b[0m\u001b[0m\n\u001b[0m\u001b[1;32m    256\u001b[0m         \u001b[0;32melse\u001b[0m\u001b[0;34m:\u001b[0m\u001b[0;34m\u001b[0m\u001b[0;34m\u001b[0m\u001b[0m\n\u001b[1;32m    257\u001b[0m             \u001b[0;31m# loop over points\u001b[0m\u001b[0;34m\u001b[0m\u001b[0;34m\u001b[0m\u001b[0;34m\u001b[0m\u001b[0m\n",
      "\u001b[0;31mKeyboardInterrupt\u001b[0m: "
     ]
    }
   ],
   "source": [
    "achromatic_rates2 = np.array([calculate_detection_rate(lc, dmag, 2, 0.11, achromatic=True) for dmag in tqdm(delta_mags)])\n",
    "# chromatic_rates2 = np.array([calculate_detection_rate(lc, dmag, 2, bw, achromatic=False) for dmag in tqdm(delta_mags)])"
   ]
  },
  {
   "cell_type": "code",
   "execution_count": null,
   "id": "a965741f-6880-4f59-8cde-f421dda66bee",
   "metadata": {
    "execution": {
     "iopub.status.busy": "2024-05-17T00:35:50.939815Z",
     "iopub.status.idle": "2024-05-17T00:35:50.940229Z",
     "shell.execute_reply": "2024-05-17T00:35:50.940043Z"
    }
   },
   "outputs": [],
   "source": [
    "detection_rates_n3 = np.array([calculate_detection_rate(lc, dmag, 3, bw) for dmag in delta_mags])"
   ]
  },
  {
   "cell_type": "code",
   "execution_count": 26,
   "id": "48af576e-091b-40b9-b69f-db7575a8f5a2",
   "metadata": {
    "execution": {
     "iopub.execute_input": "2024-05-29T22:57:26.383150Z",
     "iopub.status.busy": "2024-05-29T22:57:26.382371Z",
     "iopub.status.idle": "2024-05-29T22:57:26.389964Z",
     "shell.execute_reply": "2024-05-29T22:57:26.388532Z",
     "shell.execute_reply.started": "2024-05-29T22:57:26.383093Z"
    },
    "tags": []
   },
   "outputs": [],
   "source": [
    "# sums = detection_rates.sum(axis=1)\n",
    "# detection_rates = sums[:, 1] / sums[:, 0]\n",
    "stair_edges = np.concatenate(([0], delta_mags))"
   ]
  },
  {
   "cell_type": "code",
   "execution_count": 28,
   "id": "5db4099a-da7d-472a-9f28-7f8959184d73",
   "metadata": {
    "execution": {
     "iopub.execute_input": "2024-05-29T22:57:43.852724Z",
     "iopub.status.busy": "2024-05-29T22:57:43.851953Z",
     "iopub.status.idle": "2024-05-29T22:57:44.282372Z",
     "shell.execute_reply": "2024-05-29T22:57:44.281350Z",
     "shell.execute_reply.started": "2024-05-29T22:57:43.852669Z"
    },
    "tags": []
   },
   "outputs": [
    {
     "data": {
      "image/png": "[encoded data removed]",
      "text/plain": [
       "<Figure size 576x576 with 1 Axes>"
      ]
     },
     "metadata": {
      "needs_background": "light"
     },
     "output_type": "display_data"
    }
   ],
   "source": [
    "fig, ax = plt.subplots(figsize=(8, 8))\n",
    "ax.stairs(achromatic_rates2, edges=stair_edges, label=\"Achromatic\")\n",
    "# ax.stairs(chromatic_rates2, edges=stair_edges, label=\"Chromatic\")\n",
    "ax.set_title(\"Detection Rates for Injected Signal: n = 2\", fontsize=22)\n",
    "ax.set_ylabel(\"Detection Rate\", fontsize=18)\n",
    "ax.set_xlabel(r\"$\\Delta$mag\", fontsize=18)\n",
    "# ax.axvspan(-2.5 * np.log10(2.3), -2.5 * np.log10(1.7), alpha=0.2, \n",
    "#            color=\"tab:gray\", label=\"Default Passband\")\n",
    "ax.axvline(-2.5 * np.log10(2), color='k', ls=\"-.\", label=\"Flux Double\")\n",
    "ax.legend(loc=\"upper left\", fontsize=12)\n",
    "ax.tick_params(labelsize=16)\n",
    "fig.savefig(f\"{fig_dir}detection_rate_bw0-1_n2.png\")\n",
    "plt.show(fig)"
   ]
  },
  {
   "cell_type": "code",
   "execution_count": 7,
   "id": "90cd0f7a-d63a-4aa1-8d51-6bf04d4c4b15",
   "metadata": {
    "execution": {
     "iopub.execute_input": "2024-05-30T21:42:03.430021Z",
     "iopub.status.busy": "2024-05-30T21:42:03.429221Z",
     "iopub.status.idle": "2024-05-30T21:44:25.905992Z",
     "shell.execute_reply": "2024-05-30T21:44:25.905338Z",
     "shell.execute_reply.started": "2024-05-30T21:42:03.429967Z"
    },
    "tags": []
   },
   "outputs": [
    {
     "name": "stderr",
     "output_type": "stream",
     "text": [
      "\n",
      "  0%|          | 0/21 [00:00<?, ?it/s]\u001b[A\n",
      "  5%|▍         | 1/21 [00:07<02:21,  7.08s/it]\u001b[A\n",
      " 10%|▉         | 2/21 [00:13<02:10,  6.87s/it]\u001b[A\n",
      " 14%|█▍        | 3/21 [00:20<02:03,  6.87s/it]\u001b[A\n",
      " 19%|█▉        | 4/21 [00:27<01:55,  6.79s/it]\u001b[A\n",
      " 24%|██▍       | 5/21 [00:33<01:47,  6.74s/it]\u001b[A\n",
      " 29%|██▊       | 6/21 [00:40<01:41,  6.77s/it]\u001b[A\n",
      " 33%|███▎      | 7/21 [00:47<01:34,  6.73s/it]\u001b[A\n",
      " 38%|███▊      | 8/21 [00:54<01:28,  6.81s/it]\u001b[A\n",
      " 43%|████▎     | 9/21 [01:01<01:21,  6.79s/it]\u001b[A\n",
      " 48%|████▊     | 10/21 [01:07<01:14,  6.79s/it]\u001b[A\n",
      " 52%|█████▏    | 11/21 [01:14<01:07,  6.78s/it]\u001b[A\n",
      " 57%|█████▋    | 12/21 [01:21<01:01,  6.78s/it]\u001b[A\n",
      " 62%|██████▏   | 13/21 [01:28<00:54,  6.75s/it]\u001b[A\n",
      " 67%|██████▋   | 14/21 [01:34<00:47,  6.73s/it]\u001b[A\n",
      " 71%|███████▏  | 15/21 [01:41<00:40,  6.77s/it]\u001b[A\n",
      " 76%|███████▌  | 16/21 [01:48<00:33,  6.75s/it]\u001b[A\n",
      " 81%|████████  | 17/21 [01:55<00:26,  6.72s/it]\u001b[A\n",
      " 86%|████████▌ | 18/21 [02:02<00:20,  6.84s/it]\u001b[A\n",
      " 90%|█████████ | 19/21 [02:09<00:13,  6.83s/it]\u001b[A\n",
      " 95%|█████████▌| 20/21 [02:15<00:06,  6.79s/it]\u001b[A\n",
      "100%|██████████| 21/21 [02:22<00:00,  6.78s/it]\u001b[A\n"
     ]
    }
   ],
   "source": [
    "bandwidths = 2.5 * np.log10(2) * np.linspace(1/20, 1/4, num=21)\n",
    "pass_percentage = []\n",
    "\n",
    "for b in tqdm(bandwidths):\n",
    "    cl = datalab_utils.cluster_label_dataframe(lc, bandwidth=b)\n",
    "    stable = cl.groupby(by=[\"objectid\", \"filter\"]).apply(lambda x: (x[\"cluster_label\"] == 1).all())\n",
    "    pass_percentage.append(stable.sum() / len(stable))"
   ]
  },
  {
   "cell_type": "code",
   "execution_count": 8,
   "id": "b42d3edd-da12-4fd1-8a25-716a7481e016",
   "metadata": {
    "execution": {
     "iopub.execute_input": "2024-05-30T21:45:54.426764Z",
     "iopub.status.busy": "2024-05-30T21:45:54.425958Z",
     "iopub.status.idle": "2024-05-30T21:45:54.805008Z",
     "shell.execute_reply": "2024-05-30T21:45:54.803999Z",
     "shell.execute_reply.started": "2024-05-30T21:45:54.426707Z"
    },
    "tags": []
   },
   "outputs": [
    {
     "data": {
      "image/png": "[encoded data removed]",
      "text/plain": [
       "<Figure size 576x576 with 1 Axes>"
      ]
     },
     "metadata": {
      "needs_background": "light"
     },
     "output_type": "display_data"
    }
   ],
   "source": [
    "fig, ax = plt.subplots(figsize=(8, 8))\n",
    "ax.plot(bandwidths, pass_percentage)\n",
    "ax.set_xlabel(\"KDE Bandwidth\", fontsize=16)\n",
    "ax.set_ylabel(\"Fraction Stable\", fontsize=16)\n",
    "ax.set_title(\"Fraction of Stars With Stable Baseline\", fontsize=22)\n",
    "ax.tick_params(labelsize=14)\n",
    "ax.grid(visible=True)\n",
    "# fig.savefig(f\"{fig_dir}fraction_stable_v_bandwith.png\")\n",
    "plt.show(fig)"
   ]
  },
  {
   "cell_type": "code",
   "execution_count": 9,
   "id": "215990a4-08e3-473b-8366-89bd69252c0b",
   "metadata": {
    "execution": {
     "iopub.execute_input": "2024-05-30T21:46:10.758422Z",
     "iopub.status.busy": "2024-05-30T21:46:10.757671Z",
     "iopub.status.idle": "2024-05-30T23:42:20.258407Z",
     "shell.execute_reply": "2024-05-30T23:42:20.257465Z",
     "shell.execute_reply.started": "2024-05-30T21:46:10.758369Z"
    },
    "tags": []
   },
   "outputs": [
    {
     "name": "stderr",
     "output_type": "stream",
     "text": [
      "\n",
      "  0%|          | 0/21 [00:00<?, ?it/s]\u001b[A\n",
      "  5%|▍         | 1/21 [05:34<1:51:39, 335.00s/it]\u001b[A\n",
      " 10%|▉         | 2/21 [11:12<1:46:37, 336.70s/it]\u001b[A\n",
      " 14%|█▍        | 3/21 [16:59<1:42:25, 341.43s/it]\u001b[A\n",
      " 19%|█▉        | 4/21 [22:35<1:36:06, 339.19s/it]\u001b[A\n",
      " 24%|██▍       | 5/21 [27:58<1:28:50, 333.14s/it]\u001b[A\n",
      " 29%|██▊       | 6/21 [33:47<1:24:40, 338.67s/it]\u001b[A\n",
      " 33%|███▎      | 7/21 [39:30<1:19:19, 339.93s/it]\u001b[A\n",
      " 38%|███▊      | 8/21 [45:16<1:14:05, 341.94s/it]\u001b[A\n",
      " 43%|████▎     | 9/21 [51:07<1:08:57, 344.80s/it]\u001b[A\n",
      " 48%|████▊     | 10/21 [56:51<1:03:12, 344.73s/it]\u001b[A\n",
      " 52%|█████▏    | 11/21 [1:02:16<56:24, 338.44s/it]\u001b[A\n",
      " 57%|█████▋    | 12/21 [1:07:49<50:30, 336.77s/it]\u001b[A\n",
      " 62%|██████▏   | 13/21 [1:13:11<44:19, 332.40s/it]\u001b[A\n",
      " 67%|██████▋   | 14/21 [1:18:33<38:25, 329.36s/it]\u001b[A\n",
      " 71%|███████▏  | 15/21 [1:23:59<32:49, 328.24s/it]\u001b[A\n",
      " 76%|███████▌  | 16/21 [1:29:23<27:14, 326.87s/it]\u001b[A\n",
      " 81%|████████  | 17/21 [1:35:02<22:02, 330.67s/it]\u001b[A\n",
      " 86%|████████▌ | 18/21 [1:40:20<16:20, 326.89s/it]\u001b[A\n",
      " 90%|█████████ | 19/21 [1:45:35<10:46, 323.15s/it]\u001b[A\n",
      " 95%|█████████▌| 20/21 [1:50:52<05:21, 321.38s/it]\u001b[A\n",
      "100%|██████████| 21/21 [1:56:09<00:00, 331.88s/it]\u001b[A\n"
     ]
    }
   ],
   "source": [
    "rates_bw = np.array([calculate_detection_rate(lc, -2.5 * np.log10(2), 2, b, achromatic=True) for b in tqdm(bandwidths)])"
   ]
  },
  {
   "cell_type": "code",
   "execution_count": 10,
   "id": "12028c3b-d2a1-43ea-a423-28dde11382b4",
   "metadata": {
    "execution": {
     "iopub.execute_input": "2024-05-31T03:24:10.349768Z",
     "iopub.status.busy": "2024-05-31T03:24:10.349185Z",
     "iopub.status.idle": "2024-05-31T03:24:10.888303Z",
     "shell.execute_reply": "2024-05-31T03:24:10.887461Z",
     "shell.execute_reply.started": "2024-05-31T03:24:10.349729Z"
    },
    "tags": []
   },
   "outputs": [
    {
     "data": {
      "image/png": "[encoded data removed]",
      "text/plain": [
       "<Figure size 576x576 with 1 Axes>"
      ]
     },
     "metadata": {
      "needs_background": "light"
     },
     "output_type": "display_data"
    }
   ],
   "source": [
    "fig, ax = plt.subplots(figsize=(8, 8))\n",
    "ax.plot(bandwidths, rates_bw)\n",
    "ax.set_xlabel(\"KDE Bandwidth\", fontsize=16)\n",
    "ax.set_ylabel(\"Fraction Detected\", fontsize=16)\n",
    "ax.set_title(\"Detection Rate\", fontsize=22)\n",
    "ax.tick_params(labelsize=14)\n",
    "ax.grid(visible=True)\n",
    "# fig.savefig(f\"{fig_dir}detection_rate_v_bandwidth_flux_double.png\")\n",
    "plt.show(fig)"
   ]
  },
  {
   "cell_type": "code",
   "execution_count": 32,
   "id": "ffd3633a-d6de-4297-b80f-f440a063a49e",
   "metadata": {
    "execution": {
     "iopub.execute_input": "2024-05-30T21:21:33.094865Z",
     "iopub.status.busy": "2024-05-30T21:21:33.094086Z",
     "iopub.status.idle": "2024-05-30T21:22:12.738553Z",
     "shell.execute_reply": "2024-05-30T21:22:12.737678Z",
     "shell.execute_reply.started": "2024-05-30T21:21:33.094809Z"
    },
    "tags": []
   },
   "outputs": [
    {
     "data": {
      "text/plain": [
       "0.8640305237599722"
      ]
     },
     "execution_count": 32,
     "metadata": {},
     "output_type": "execute_result"
    }
   ],
   "source": [
    "import importlib\n",
    "importlib.reload(datalab_utils)\n",
    "calculate_detection_rate(lc, -2.5 * np.log10(2), 2, 0.11, achromatic=True)"
   ]
  },
  {
   "cell_type": "code",
   "execution_count": 37,
   "id": "351241c4-edff-4153-b901-ff9861901820",
   "metadata": {
    "execution": {
     "iopub.execute_input": "2024-05-29T23:23:18.405446Z",
     "iopub.status.busy": "2024-05-29T23:23:18.404676Z",
     "iopub.status.idle": "2024-05-29T23:23:18.523509Z",
     "shell.execute_reply": "2024-05-29T23:23:18.522462Z",
     "shell.execute_reply.started": "2024-05-29T23:23:18.405387Z"
    },
    "tags": []
   },
   "outputs": [],
   "source": [
    "wstds = lc.groupby(by=[\"objectid\", \"filter\"]).apply(lambda x: datalab_utils.weighted_std(x[\"mag_auto\"].values, x[\"magerr_auto\"].values**-2))"
   ]
  },
  {
   "cell_type": "code",
   "execution_count": 46,
   "id": "4b429e53-18ca-479e-808a-cee435f46e93",
   "metadata": {
    "execution": {
     "iopub.execute_input": "2024-05-29T23:36:45.014655Z",
     "iopub.status.busy": "2024-05-29T23:36:45.013796Z",
     "iopub.status.idle": "2024-05-29T23:36:45.367621Z",
     "shell.execute_reply": "2024-05-29T23:36:45.366490Z",
     "shell.execute_reply.started": "2024-05-29T23:36:45.014570Z"
    },
    "tags": []
   },
   "outputs": [
    {
     "data": {
      "image/png": "[encoded data removed]",
      "text/plain": [
       "<Figure size 720x720 with 1 Axes>"
      ]
     },
     "metadata": {
      "needs_background": "light"
     },
     "output_type": "display_data"
    }
   ],
   "source": [
    "fig, ax = plt.subplots(figsize=(10, 10))\n",
    "std_bins = np.linspace(0, .6, num=61)\n",
    "ax.hist(10 * wstds, bins=std_bins)\n",
    "ax.axvline(2.5 * np.log10(2.3 / 1.7), color='k', ls=\"--\")\n",
    "plt.show(fig)"
   ]
  },
  {
   "cell_type": "code",
   "execution_count": 42,
   "id": "d3fa985f-3eca-42f1-bb90-c04a71991421",
   "metadata": {
    "execution": {
     "iopub.execute_input": "2024-05-24T00:11:12.233473Z",
     "iopub.status.busy": "2024-05-24T00:11:12.232713Z",
     "iopub.status.idle": "2024-05-24T00:11:12.242516Z",
     "shell.execute_reply": "2024-05-24T00:11:12.241138Z",
     "shell.execute_reply.started": "2024-05-24T00:11:12.233418Z"
    }
   },
   "outputs": [
    {
     "data": {
      "text/plain": [
       "0.11288624837399297"
      ]
     },
     "execution_count": 42,
     "metadata": {},
     "output_type": "execute_result"
    }
   ],
   "source": [
    "bandwidths[10]"
   ]
  },
  {
   "cell_type": "code",
   "execution_count": 41,
   "id": "abe7c091-994f-40f6-9b74-e7b22d4d35ba",
   "metadata": {
    "execution": {
     "iopub.execute_input": "2024-05-24T00:10:49.153927Z",
     "iopub.status.busy": "2024-05-24T00:10:49.153276Z",
     "iopub.status.idle": "2024-05-24T00:10:59.393086Z",
     "shell.execute_reply": "2024-05-24T00:10:59.390205Z",
     "shell.execute_reply.started": "2024-05-24T00:10:49.153874Z"
    },
    "tags": []
   },
   "outputs": [
    {
     "ename": "KeyboardInterrupt",
     "evalue": "",
     "output_type": "error",
     "traceback": [
      "\u001b[0;31m---------------------------------------------------------------------------\u001b[0m",
      "\u001b[0;31mKeyboardInterrupt\u001b[0m                         Traceback (most recent call last)",
      "\u001b[0;32m<ipython-input-41-96b57339028b>\u001b[0m in \u001b[0;36m<module>\u001b[0;34m\u001b[0m\n\u001b[0;32m----> 1\u001b[0;31m \u001b[0minjection_results\u001b[0m \u001b[0;34m=\u001b[0m \u001b[0mlc\u001b[0m\u001b[0;34m.\u001b[0m\u001b[0mgroupby\u001b[0m\u001b[0;34m(\u001b[0m\u001b[0mby\u001b[0m\u001b[0;34m=\u001b[0m\u001b[0;34m\"objectid\"\u001b[0m\u001b[0;34m,\u001b[0m \u001b[0mgroup_keys\u001b[0m\u001b[0;34m=\u001b[0m\u001b[0;32mFalse\u001b[0m\u001b[0;34m)\u001b[0m\u001b[0;34m.\u001b[0m\u001b[0mapply\u001b[0m\u001b[0;34m(\u001b[0m\u001b[0mcount_detections\u001b[0m\u001b[0;34m,\u001b[0m \u001b[0;34m-\u001b[0m\u001b[0;36m2.5\u001b[0m\u001b[0;34m,\u001b[0m \u001b[0;36m2\u001b[0m\u001b[0;34m,\u001b[0m \u001b[0mbw\u001b[0m\u001b[0;34m,\u001b[0m \u001b[0machromatic\u001b[0m\u001b[0;34m=\u001b[0m\u001b[0;32mFalse\u001b[0m\u001b[0;34m)\u001b[0m\u001b[0;34m\u001b[0m\u001b[0;34m\u001b[0m\u001b[0m\n\u001b[0m",
      "\u001b[0;32m/home/jail/dlusers/adriansh/.local/lib/python3.8/site-packages/pandas/core/groupby/groupby.py\u001b[0m in \u001b[0;36mapply\u001b[0;34m(self, func, *args, **kwargs)\u001b[0m\n\u001b[1;32m    733\u001b[0m         \u001b[0;32mwith\u001b[0m \u001b[0moption_context\u001b[0m\u001b[0;34m(\u001b[0m\u001b[0;34m\"mode.chained_assignment\"\u001b[0m\u001b[0;34m,\u001b[0m \u001b[0;32mNone\u001b[0m\u001b[0;34m)\u001b[0m\u001b[0;34m:\u001b[0m\u001b[0;34m\u001b[0m\u001b[0;34m\u001b[0m\u001b[0m\n\u001b[1;32m    734\u001b[0m             \u001b[0;32mtry\u001b[0m\u001b[0;34m:\u001b[0m\u001b[0;34m\u001b[0m\u001b[0;34m\u001b[0m\u001b[0m\n\u001b[0;32m--> 735\u001b[0;31m                 \u001b[0mresult\u001b[0m \u001b[0;34m=\u001b[0m \u001b[0mself\u001b[0m\u001b[0;34m.\u001b[0m\u001b[0m_python_apply_general\u001b[0m\u001b[0;34m(\u001b[0m\u001b[0mf\u001b[0m\u001b[0;34m)\u001b[0m\u001b[0;34m\u001b[0m\u001b[0;34m\u001b[0m\u001b[0m\n\u001b[0m\u001b[1;32m    736\u001b[0m             \u001b[0;32mexcept\u001b[0m \u001b[0mTypeError\u001b[0m\u001b[0;34m:\u001b[0m\u001b[0;34m\u001b[0m\u001b[0;34m\u001b[0m\u001b[0m\n\u001b[1;32m    737\u001b[0m                 \u001b[0;31m# gh-20949\u001b[0m\u001b[0;34m\u001b[0m\u001b[0;34m\u001b[0m\u001b[0;34m\u001b[0m\u001b[0m\n",
      "\u001b[0;32m/home/jail/dlusers/adriansh/.local/lib/python3.8/site-packages/pandas/core/groupby/groupby.py\u001b[0m in \u001b[0;36m_python_apply_general\u001b[0;34m(self, f)\u001b[0m\n\u001b[1;32m    749\u001b[0m \u001b[0;34m\u001b[0m\u001b[0m\n\u001b[1;32m    750\u001b[0m     \u001b[0;32mdef\u001b[0m \u001b[0m_python_apply_general\u001b[0m\u001b[0;34m(\u001b[0m\u001b[0mself\u001b[0m\u001b[0;34m,\u001b[0m \u001b[0mf\u001b[0m\u001b[0;34m)\u001b[0m\u001b[0;34m:\u001b[0m\u001b[0;34m\u001b[0m\u001b[0;34m\u001b[0m\u001b[0m\n\u001b[0;32m--> 751\u001b[0;31m         \u001b[0mkeys\u001b[0m\u001b[0;34m,\u001b[0m \u001b[0mvalues\u001b[0m\u001b[0;34m,\u001b[0m \u001b[0mmutated\u001b[0m \u001b[0;34m=\u001b[0m \u001b[0mself\u001b[0m\u001b[0;34m.\u001b[0m\u001b[0mgrouper\u001b[0m\u001b[0;34m.\u001b[0m\u001b[0mapply\u001b[0m\u001b[0;34m(\u001b[0m\u001b[0mf\u001b[0m\u001b[0;34m,\u001b[0m \u001b[0mself\u001b[0m\u001b[0;34m.\u001b[0m\u001b[0m_selected_obj\u001b[0m\u001b[0;34m,\u001b[0m \u001b[0mself\u001b[0m\u001b[0;34m.\u001b[0m\u001b[0maxis\u001b[0m\u001b[0;34m)\u001b[0m\u001b[0;34m\u001b[0m\u001b[0;34m\u001b[0m\u001b[0m\n\u001b[0m\u001b[1;32m    752\u001b[0m \u001b[0;34m\u001b[0m\u001b[0m\n\u001b[1;32m    753\u001b[0m         return self._wrap_applied_output(\n",
      "\u001b[0;32m/home/jail/dlusers/adriansh/.local/lib/python3.8/site-packages/pandas/core/groupby/ops.py\u001b[0m in \u001b[0;36mapply\u001b[0;34m(self, f, data, axis)\u001b[0m\n\u001b[1;32m    204\u001b[0m             \u001b[0;31m# group might be modified\u001b[0m\u001b[0;34m\u001b[0m\u001b[0;34m\u001b[0m\u001b[0;34m\u001b[0m\u001b[0m\n\u001b[1;32m    205\u001b[0m             \u001b[0mgroup_axes\u001b[0m \u001b[0;34m=\u001b[0m \u001b[0mgroup\u001b[0m\u001b[0;34m.\u001b[0m\u001b[0maxes\u001b[0m\u001b[0;34m\u001b[0m\u001b[0;34m\u001b[0m\u001b[0m\n\u001b[0;32m--> 206\u001b[0;31m             \u001b[0mres\u001b[0m \u001b[0;34m=\u001b[0m \u001b[0mf\u001b[0m\u001b[0;34m(\u001b[0m\u001b[0mgroup\u001b[0m\u001b[0;34m)\u001b[0m\u001b[0;34m\u001b[0m\u001b[0;34m\u001b[0m\u001b[0m\n\u001b[0m\u001b[1;32m    207\u001b[0m             \u001b[0;32mif\u001b[0m \u001b[0;32mnot\u001b[0m \u001b[0m_is_indexed_like\u001b[0m\u001b[0;34m(\u001b[0m\u001b[0mres\u001b[0m\u001b[0;34m,\u001b[0m \u001b[0mgroup_axes\u001b[0m\u001b[0;34m)\u001b[0m\u001b[0;34m:\u001b[0m\u001b[0;34m\u001b[0m\u001b[0;34m\u001b[0m\u001b[0m\n\u001b[1;32m    208\u001b[0m                 \u001b[0mmutated\u001b[0m \u001b[0;34m=\u001b[0m \u001b[0;32mTrue\u001b[0m\u001b[0;34m\u001b[0m\u001b[0;34m\u001b[0m\u001b[0m\n",
      "\u001b[0;32m/home/jail/dlusers/adriansh/.local/lib/python3.8/site-packages/pandas/core/groupby/groupby.py\u001b[0m in \u001b[0;36mf\u001b[0;34m(g)\u001b[0m\n\u001b[1;32m    717\u001b[0m                 \u001b[0;32mdef\u001b[0m \u001b[0mf\u001b[0m\u001b[0;34m(\u001b[0m\u001b[0mg\u001b[0m\u001b[0;34m)\u001b[0m\u001b[0;34m:\u001b[0m\u001b[0;34m\u001b[0m\u001b[0;34m\u001b[0m\u001b[0m\n\u001b[1;32m    718\u001b[0m                     \u001b[0;32mwith\u001b[0m \u001b[0mnp\u001b[0m\u001b[0;34m.\u001b[0m\u001b[0merrstate\u001b[0m\u001b[0;34m(\u001b[0m\u001b[0mall\u001b[0m\u001b[0;34m=\u001b[0m\u001b[0;34m\"ignore\"\u001b[0m\u001b[0;34m)\u001b[0m\u001b[0;34m:\u001b[0m\u001b[0;34m\u001b[0m\u001b[0;34m\u001b[0m\u001b[0m\n\u001b[0;32m--> 719\u001b[0;31m                         \u001b[0;32mreturn\u001b[0m \u001b[0mfunc\u001b[0m\u001b[0;34m(\u001b[0m\u001b[0mg\u001b[0m\u001b[0;34m,\u001b[0m \u001b[0;34m*\u001b[0m\u001b[0margs\u001b[0m\u001b[0;34m,\u001b[0m \u001b[0;34m**\u001b[0m\u001b[0mkwargs\u001b[0m\u001b[0;34m)\u001b[0m\u001b[0;34m\u001b[0m\u001b[0;34m\u001b[0m\u001b[0m\n\u001b[0m\u001b[1;32m    720\u001b[0m \u001b[0;34m\u001b[0m\u001b[0m\n\u001b[1;32m    721\u001b[0m             \u001b[0;32melif\u001b[0m \u001b[0mhasattr\u001b[0m\u001b[0;34m(\u001b[0m\u001b[0mnanops\u001b[0m\u001b[0;34m,\u001b[0m \u001b[0;34m\"nan\"\u001b[0m \u001b[0;34m+\u001b[0m \u001b[0mfunc\u001b[0m\u001b[0;34m)\u001b[0m\u001b[0;34m:\u001b[0m\u001b[0;34m\u001b[0m\u001b[0;34m\u001b[0m\u001b[0m\n",
      "\u001b[0;32m<ipython-input-2-c32bc72b4644>\u001b[0m in \u001b[0;36mcount_detections\u001b[0;34m(df, dmag, n, bw, achromatic)\u001b[0m\n\u001b[1;32m      8\u001b[0m \u001b[0;34m\u001b[0m\u001b[0m\n\u001b[1;32m      9\u001b[0m     \u001b[0mn_lensed\u001b[0m \u001b[0;34m=\u001b[0m \u001b[0mlen\u001b[0m\u001b[0;34m(\u001b[0m\u001b[0mindices\u001b[0m\u001b[0;34m)\u001b[0m\u001b[0;34m\u001b[0m\u001b[0;34m\u001b[0m\u001b[0m\n\u001b[0;32m---> 10\u001b[0;31m     \u001b[0mdetected\u001b[0m \u001b[0;34m=\u001b[0m \u001b[0;34m[\u001b[0m\u001b[0mlens_and_detect\u001b[0m\u001b[0;34m(\u001b[0m\u001b[0mdf\u001b[0m\u001b[0;34m,\u001b[0m \u001b[0mdmag\u001b[0m\u001b[0;34m,\u001b[0m \u001b[0midxs\u001b[0m\u001b[0;34m,\u001b[0m \u001b[0mbw\u001b[0m\u001b[0;34m)\u001b[0m \u001b[0;32mfor\u001b[0m \u001b[0midxs\u001b[0m \u001b[0;32min\u001b[0m \u001b[0mindices\u001b[0m\u001b[0;34m]\u001b[0m\u001b[0;34m\u001b[0m\u001b[0;34m\u001b[0m\u001b[0m\n\u001b[0m\u001b[1;32m     11\u001b[0m     \u001b[0mn_detected\u001b[0m \u001b[0;34m=\u001b[0m \u001b[0msum\u001b[0m\u001b[0;34m(\u001b[0m\u001b[0mdetected\u001b[0m\u001b[0;34m)\u001b[0m\u001b[0;34m\u001b[0m\u001b[0;34m\u001b[0m\u001b[0m\n\u001b[1;32m     12\u001b[0m     \u001b[0moid\u001b[0m \u001b[0;34m=\u001b[0m \u001b[0mdf\u001b[0m\u001b[0;34m.\u001b[0m\u001b[0miloc\u001b[0m\u001b[0;34m[\u001b[0m\u001b[0;36m0\u001b[0m\u001b[0;34m,\u001b[0m \u001b[0;36m0\u001b[0m\u001b[0;34m]\u001b[0m\u001b[0;34m\u001b[0m\u001b[0;34m\u001b[0m\u001b[0m\n",
      "\u001b[0;32m<ipython-input-2-c32bc72b4644>\u001b[0m in \u001b[0;36m<listcomp>\u001b[0;34m(.0)\u001b[0m\n\u001b[1;32m      8\u001b[0m \u001b[0;34m\u001b[0m\u001b[0m\n\u001b[1;32m      9\u001b[0m     \u001b[0mn_lensed\u001b[0m \u001b[0;34m=\u001b[0m \u001b[0mlen\u001b[0m\u001b[0;34m(\u001b[0m\u001b[0mindices\u001b[0m\u001b[0;34m)\u001b[0m\u001b[0;34m\u001b[0m\u001b[0;34m\u001b[0m\u001b[0m\n\u001b[0;32m---> 10\u001b[0;31m     \u001b[0mdetected\u001b[0m \u001b[0;34m=\u001b[0m \u001b[0;34m[\u001b[0m\u001b[0mlens_and_detect\u001b[0m\u001b[0;34m(\u001b[0m\u001b[0mdf\u001b[0m\u001b[0;34m,\u001b[0m \u001b[0mdmag\u001b[0m\u001b[0;34m,\u001b[0m \u001b[0midxs\u001b[0m\u001b[0;34m,\u001b[0m \u001b[0mbw\u001b[0m\u001b[0;34m)\u001b[0m \u001b[0;32mfor\u001b[0m \u001b[0midxs\u001b[0m \u001b[0;32min\u001b[0m \u001b[0mindices\u001b[0m\u001b[0;34m]\u001b[0m\u001b[0;34m\u001b[0m\u001b[0;34m\u001b[0m\u001b[0m\n\u001b[0m\u001b[1;32m     11\u001b[0m     \u001b[0mn_detected\u001b[0m \u001b[0;34m=\u001b[0m \u001b[0msum\u001b[0m\u001b[0;34m(\u001b[0m\u001b[0mdetected\u001b[0m\u001b[0;34m)\u001b[0m\u001b[0;34m\u001b[0m\u001b[0;34m\u001b[0m\u001b[0m\n\u001b[1;32m     12\u001b[0m     \u001b[0moid\u001b[0m \u001b[0;34m=\u001b[0m \u001b[0mdf\u001b[0m\u001b[0;34m.\u001b[0m\u001b[0miloc\u001b[0m\u001b[0;34m[\u001b[0m\u001b[0;36m0\u001b[0m\u001b[0;34m,\u001b[0m \u001b[0;36m0\u001b[0m\u001b[0;34m]\u001b[0m\u001b[0;34m\u001b[0m\u001b[0;34m\u001b[0m\u001b[0m\n",
      "\u001b[0;32m<ipython-input-2-c32bc72b4644>\u001b[0m in \u001b[0;36mlens_and_detect\u001b[0;34m(df, dmag, idxs, bw)\u001b[0m\n\u001b[1;32m     17\u001b[0m     \u001b[0mold_vals\u001b[0m \u001b[0;34m=\u001b[0m \u001b[0mdf\u001b[0m\u001b[0;34m.\u001b[0m\u001b[0mloc\u001b[0m\u001b[0;34m[\u001b[0m\u001b[0midxs\u001b[0m\u001b[0;34m,\u001b[0m \u001b[0;34m\"mag_auto\"\u001b[0m\u001b[0;34m]\u001b[0m\u001b[0;34m\u001b[0m\u001b[0;34m\u001b[0m\u001b[0m\n\u001b[1;32m     18\u001b[0m     \u001b[0mdf\u001b[0m\u001b[0;34m.\u001b[0m\u001b[0mloc\u001b[0m\u001b[0;34m[\u001b[0m\u001b[0midxs\u001b[0m\u001b[0;34m,\u001b[0m \u001b[0;34m\"mag_auto\"\u001b[0m\u001b[0;34m]\u001b[0m \u001b[0;34m=\u001b[0m \u001b[0mold_vals\u001b[0m \u001b[0;34m+\u001b[0m \u001b[0mdmag\u001b[0m\u001b[0;34m\u001b[0m\u001b[0;34m\u001b[0m\u001b[0m\n\u001b[0;32m---> 19\u001b[0;31m     \u001b[0mcl\u001b[0m \u001b[0;34m=\u001b[0m \u001b[0mdatalab_utils\u001b[0m\u001b[0;34m.\u001b[0m\u001b[0mcluster_label_dataframe\u001b[0m\u001b[0;34m(\u001b[0m\u001b[0mdf\u001b[0m\u001b[0;34m,\u001b[0m \u001b[0mbandwidth\u001b[0m\u001b[0;34m=\u001b[0m\u001b[0mbw\u001b[0m\u001b[0;34m,\u001b[0m \u001b[0mtolerance\u001b[0m\u001b[0;34m=\u001b[0m\u001b[0;34m(\u001b[0m\u001b[0;36m1.1\u001b[0m\u001b[0;34m,\u001b[0m \u001b[0;36m15\u001b[0m\u001b[0;34m)\u001b[0m\u001b[0;34m)\u001b[0m\u001b[0;34m\u001b[0m\u001b[0;34m\u001b[0m\u001b[0m\n\u001b[0m\u001b[1;32m     20\u001b[0m     \u001b[0mdf\u001b[0m\u001b[0;34m.\u001b[0m\u001b[0mloc\u001b[0m\u001b[0;34m[\u001b[0m\u001b[0midxs\u001b[0m\u001b[0;34m,\u001b[0m \u001b[0;34m\"mag_auto\"\u001b[0m\u001b[0;34m]\u001b[0m \u001b[0;34m=\u001b[0m \u001b[0mold_vals\u001b[0m\u001b[0;34m\u001b[0m\u001b[0;34m\u001b[0m\u001b[0m\n\u001b[1;32m     21\u001b[0m     \u001b[0mresult\u001b[0m \u001b[0;34m=\u001b[0m \u001b[0mdatalab_utils\u001b[0m\u001b[0;34m.\u001b[0m\u001b[0mlens_filter\u001b[0m\u001b[0;34m(\u001b[0m\u001b[0mcl\u001b[0m\u001b[0;34m)\u001b[0m\u001b[0;34m\u001b[0m\u001b[0;34m\u001b[0m\u001b[0m\n",
      "\u001b[0;32m/home/jail/dlusers/adriansh/work/stringScratch/datalab_utils.py\u001b[0m in \u001b[0;36mcluster_label_dataframe\u001b[0;34m(df, mag_column, magerr_column, bandwidth, tolerance)\u001b[0m\n\u001b[1;32m     81\u001b[0m                             tolerance=(1.7, 2.3)):\n\u001b[1;32m     82\u001b[0m     \u001b[0mg\u001b[0m \u001b[0;34m=\u001b[0m \u001b[0mdf\u001b[0m\u001b[0;34m[\u001b[0m\u001b[0;34m[\u001b[0m\u001b[0;34m\"objectid\"\u001b[0m\u001b[0;34m,\u001b[0m \u001b[0;34m\"filter\"\u001b[0m\u001b[0;34m,\u001b[0m \u001b[0mmag_column\u001b[0m\u001b[0;34m,\u001b[0m \u001b[0mmagerr_column\u001b[0m\u001b[0;34m]\u001b[0m\u001b[0;34m]\u001b[0m\u001b[0;34m.\u001b[0m\u001b[0mgroupby\u001b[0m\u001b[0;34m(\u001b[0m\u001b[0mby\u001b[0m\u001b[0;34m=\u001b[0m\u001b[0;34m[\u001b[0m\u001b[0;34m\"objectid\"\u001b[0m\u001b[0;34m,\u001b[0m \u001b[0;34m\"filter\"\u001b[0m\u001b[0;34m]\u001b[0m\u001b[0;34m)\u001b[0m\u001b[0;34m\u001b[0m\u001b[0;34m\u001b[0m\u001b[0m\n\u001b[0;32m---> 83\u001b[0;31m     \u001b[0mcluster_label\u001b[0m \u001b[0;34m=\u001b[0m \u001b[0mg\u001b[0m\u001b[0;34m.\u001b[0m\u001b[0mapply\u001b[0m\u001b[0;34m(\u001b[0m\u001b[0m_cl_apply\u001b[0m\u001b[0;34m,\u001b[0m \u001b[0mbandwidth\u001b[0m\u001b[0;34m,\u001b[0m \u001b[0mtolerance\u001b[0m\u001b[0;34m)\u001b[0m\u001b[0;34m\u001b[0m\u001b[0;34m\u001b[0m\u001b[0m\n\u001b[0m\u001b[1;32m     84\u001b[0m     \u001b[0mresult\u001b[0m \u001b[0;34m=\u001b[0m \u001b[0mdf\u001b[0m\u001b[0;34m.\u001b[0m\u001b[0massign\u001b[0m\u001b[0;34m(\u001b[0m\u001b[0mcluster_label\u001b[0m\u001b[0;34m=\u001b[0m\u001b[0mcluster_label\u001b[0m\u001b[0;34m)\u001b[0m\u001b[0;34m\u001b[0m\u001b[0;34m\u001b[0m\u001b[0m\n\u001b[1;32m     85\u001b[0m     \u001b[0;32mreturn\u001b[0m \u001b[0mresult\u001b[0m\u001b[0;34m\u001b[0m\u001b[0;34m\u001b[0m\u001b[0m\n",
      "\u001b[0;32m/home/jail/dlusers/adriansh/.local/lib/python3.8/site-packages/pandas/core/groupby/groupby.py\u001b[0m in \u001b[0;36mapply\u001b[0;34m(self, func, *args, **kwargs)\u001b[0m\n\u001b[1;32m    733\u001b[0m         \u001b[0;32mwith\u001b[0m \u001b[0moption_context\u001b[0m\u001b[0;34m(\u001b[0m\u001b[0;34m\"mode.chained_assignment\"\u001b[0m\u001b[0;34m,\u001b[0m \u001b[0;32mNone\u001b[0m\u001b[0;34m)\u001b[0m\u001b[0;34m:\u001b[0m\u001b[0;34m\u001b[0m\u001b[0;34m\u001b[0m\u001b[0m\n\u001b[1;32m    734\u001b[0m             \u001b[0;32mtry\u001b[0m\u001b[0;34m:\u001b[0m\u001b[0;34m\u001b[0m\u001b[0;34m\u001b[0m\u001b[0m\n\u001b[0;32m--> 735\u001b[0;31m                 \u001b[0mresult\u001b[0m \u001b[0;34m=\u001b[0m \u001b[0mself\u001b[0m\u001b[0;34m.\u001b[0m\u001b[0m_python_apply_general\u001b[0m\u001b[0;34m(\u001b[0m\u001b[0mf\u001b[0m\u001b[0;34m)\u001b[0m\u001b[0;34m\u001b[0m\u001b[0;34m\u001b[0m\u001b[0m\n\u001b[0m\u001b[1;32m    736\u001b[0m             \u001b[0;32mexcept\u001b[0m \u001b[0mTypeError\u001b[0m\u001b[0;34m:\u001b[0m\u001b[0;34m\u001b[0m\u001b[0;34m\u001b[0m\u001b[0m\n\u001b[1;32m    737\u001b[0m                 \u001b[0;31m# gh-20949\u001b[0m\u001b[0;34m\u001b[0m\u001b[0;34m\u001b[0m\u001b[0;34m\u001b[0m\u001b[0m\n",
      "\u001b[0;32m/home/jail/dlusers/adriansh/.local/lib/python3.8/site-packages/pandas/core/groupby/groupby.py\u001b[0m in \u001b[0;36m_python_apply_general\u001b[0;34m(self, f)\u001b[0m\n\u001b[1;32m    749\u001b[0m \u001b[0;34m\u001b[0m\u001b[0m\n\u001b[1;32m    750\u001b[0m     \u001b[0;32mdef\u001b[0m \u001b[0m_python_apply_general\u001b[0m\u001b[0;34m(\u001b[0m\u001b[0mself\u001b[0m\u001b[0;34m,\u001b[0m \u001b[0mf\u001b[0m\u001b[0;34m)\u001b[0m\u001b[0;34m:\u001b[0m\u001b[0;34m\u001b[0m\u001b[0;34m\u001b[0m\u001b[0m\n\u001b[0;32m--> 751\u001b[0;31m         \u001b[0mkeys\u001b[0m\u001b[0;34m,\u001b[0m \u001b[0mvalues\u001b[0m\u001b[0;34m,\u001b[0m \u001b[0mmutated\u001b[0m \u001b[0;34m=\u001b[0m \u001b[0mself\u001b[0m\u001b[0;34m.\u001b[0m\u001b[0mgrouper\u001b[0m\u001b[0;34m.\u001b[0m\u001b[0mapply\u001b[0m\u001b[0;34m(\u001b[0m\u001b[0mf\u001b[0m\u001b[0;34m,\u001b[0m \u001b[0mself\u001b[0m\u001b[0;34m.\u001b[0m\u001b[0m_selected_obj\u001b[0m\u001b[0;34m,\u001b[0m \u001b[0mself\u001b[0m\u001b[0;34m.\u001b[0m\u001b[0maxis\u001b[0m\u001b[0;34m)\u001b[0m\u001b[0;34m\u001b[0m\u001b[0;34m\u001b[0m\u001b[0m\n\u001b[0m\u001b[1;32m    752\u001b[0m \u001b[0;34m\u001b[0m\u001b[0m\n\u001b[1;32m    753\u001b[0m         return self._wrap_applied_output(\n",
      "\u001b[0;32m/home/jail/dlusers/adriansh/.local/lib/python3.8/site-packages/pandas/core/groupby/ops.py\u001b[0m in \u001b[0;36mapply\u001b[0;34m(self, f, data, axis)\u001b[0m\n\u001b[1;32m    151\u001b[0m     \u001b[0;32mdef\u001b[0m \u001b[0mapply\u001b[0m\u001b[0;34m(\u001b[0m\u001b[0mself\u001b[0m\u001b[0;34m,\u001b[0m \u001b[0mf\u001b[0m\u001b[0;34m,\u001b[0m \u001b[0mdata\u001b[0m\u001b[0;34m:\u001b[0m \u001b[0mFrameOrSeries\u001b[0m\u001b[0;34m,\u001b[0m \u001b[0maxis\u001b[0m\u001b[0;34m:\u001b[0m \u001b[0mint\u001b[0m \u001b[0;34m=\u001b[0m \u001b[0;36m0\u001b[0m\u001b[0;34m)\u001b[0m\u001b[0;34m:\u001b[0m\u001b[0;34m\u001b[0m\u001b[0;34m\u001b[0m\u001b[0m\n\u001b[1;32m    152\u001b[0m         \u001b[0mmutated\u001b[0m \u001b[0;34m=\u001b[0m \u001b[0mself\u001b[0m\u001b[0;34m.\u001b[0m\u001b[0mmutated\u001b[0m\u001b[0;34m\u001b[0m\u001b[0;34m\u001b[0m\u001b[0m\n\u001b[0;32m--> 153\u001b[0;31m         \u001b[0msplitter\u001b[0m \u001b[0;34m=\u001b[0m \u001b[0mself\u001b[0m\u001b[0;34m.\u001b[0m\u001b[0m_get_splitter\u001b[0m\u001b[0;34m(\u001b[0m\u001b[0mdata\u001b[0m\u001b[0;34m,\u001b[0m \u001b[0maxis\u001b[0m\u001b[0;34m=\u001b[0m\u001b[0maxis\u001b[0m\u001b[0;34m)\u001b[0m\u001b[0;34m\u001b[0m\u001b[0;34m\u001b[0m\u001b[0m\n\u001b[0m\u001b[1;32m    154\u001b[0m         \u001b[0mgroup_keys\u001b[0m \u001b[0;34m=\u001b[0m \u001b[0mself\u001b[0m\u001b[0;34m.\u001b[0m\u001b[0m_get_group_keys\u001b[0m\u001b[0;34m(\u001b[0m\u001b[0;34m)\u001b[0m\u001b[0;34m\u001b[0m\u001b[0;34m\u001b[0m\u001b[0m\n\u001b[1;32m    155\u001b[0m         \u001b[0mresult_values\u001b[0m \u001b[0;34m=\u001b[0m \u001b[0;32mNone\u001b[0m\u001b[0;34m\u001b[0m\u001b[0;34m\u001b[0m\u001b[0m\n",
      "\u001b[0;32m/home/jail/dlusers/adriansh/.local/lib/python3.8/site-packages/pandas/core/groupby/ops.py\u001b[0m in \u001b[0;36m_get_splitter\u001b[0;34m(self, data, axis)\u001b[0m\n\u001b[1;32m    128\u001b[0m \u001b[0;34m\u001b[0m\u001b[0m\n\u001b[1;32m    129\u001b[0m     \u001b[0;32mdef\u001b[0m \u001b[0m_get_splitter\u001b[0m\u001b[0;34m(\u001b[0m\u001b[0mself\u001b[0m\u001b[0;34m,\u001b[0m \u001b[0mdata\u001b[0m\u001b[0;34m:\u001b[0m \u001b[0mFrameOrSeries\u001b[0m\u001b[0;34m,\u001b[0m \u001b[0maxis\u001b[0m\u001b[0;34m:\u001b[0m \u001b[0mint\u001b[0m \u001b[0;34m=\u001b[0m \u001b[0;36m0\u001b[0m\u001b[0;34m)\u001b[0m \u001b[0;34m->\u001b[0m \u001b[0;34m\"DataSplitter\"\u001b[0m\u001b[0;34m:\u001b[0m\u001b[0;34m\u001b[0m\u001b[0;34m\u001b[0m\u001b[0m\n\u001b[0;32m--> 130\u001b[0;31m         \u001b[0mcomp_ids\u001b[0m\u001b[0;34m,\u001b[0m \u001b[0m_\u001b[0m\u001b[0;34m,\u001b[0m \u001b[0mngroups\u001b[0m \u001b[0;34m=\u001b[0m \u001b[0mself\u001b[0m\u001b[0;34m.\u001b[0m\u001b[0mgroup_info\u001b[0m\u001b[0;34m\u001b[0m\u001b[0;34m\u001b[0m\u001b[0m\n\u001b[0m\u001b[1;32m    131\u001b[0m         \u001b[0;32mreturn\u001b[0m \u001b[0mget_splitter\u001b[0m\u001b[0;34m(\u001b[0m\u001b[0mdata\u001b[0m\u001b[0;34m,\u001b[0m \u001b[0mcomp_ids\u001b[0m\u001b[0;34m,\u001b[0m \u001b[0mngroups\u001b[0m\u001b[0;34m,\u001b[0m \u001b[0maxis\u001b[0m\u001b[0;34m=\u001b[0m\u001b[0maxis\u001b[0m\u001b[0;34m)\u001b[0m\u001b[0;34m\u001b[0m\u001b[0;34m\u001b[0m\u001b[0m\n\u001b[1;32m    132\u001b[0m \u001b[0;34m\u001b[0m\u001b[0m\n",
      "\u001b[0;32m/data0/sw/anaconda3/lib/python3.8/site-packages/pandas/_libs/properties.pyx\u001b[0m in \u001b[0;36mpandas._libs.properties.CachedProperty.__get__\u001b[0;34m()\u001b[0m\n",
      "\u001b[0;32m/home/jail/dlusers/adriansh/.local/lib/python3.8/site-packages/pandas/core/groupby/ops.py\u001b[0m in \u001b[0;36mgroup_info\u001b[0;34m(self)\u001b[0m\n\u001b[1;32m    262\u001b[0m     \u001b[0;34m@\u001b[0m\u001b[0mcache_readonly\u001b[0m\u001b[0;34m\u001b[0m\u001b[0;34m\u001b[0m\u001b[0m\n\u001b[1;32m    263\u001b[0m     \u001b[0;32mdef\u001b[0m \u001b[0mgroup_info\u001b[0m\u001b[0;34m(\u001b[0m\u001b[0mself\u001b[0m\u001b[0;34m)\u001b[0m\u001b[0;34m:\u001b[0m\u001b[0;34m\u001b[0m\u001b[0;34m\u001b[0m\u001b[0m\n\u001b[0;32m--> 264\u001b[0;31m         \u001b[0mcomp_ids\u001b[0m\u001b[0;34m,\u001b[0m \u001b[0mobs_group_ids\u001b[0m \u001b[0;34m=\u001b[0m \u001b[0mself\u001b[0m\u001b[0;34m.\u001b[0m\u001b[0m_get_compressed_codes\u001b[0m\u001b[0;34m(\u001b[0m\u001b[0;34m)\u001b[0m\u001b[0;34m\u001b[0m\u001b[0;34m\u001b[0m\u001b[0m\n\u001b[0m\u001b[1;32m    265\u001b[0m \u001b[0;34m\u001b[0m\u001b[0m\n\u001b[1;32m    266\u001b[0m         \u001b[0mngroups\u001b[0m \u001b[0;34m=\u001b[0m \u001b[0mlen\u001b[0m\u001b[0;34m(\u001b[0m\u001b[0mobs_group_ids\u001b[0m\u001b[0;34m)\u001b[0m\u001b[0;34m\u001b[0m\u001b[0;34m\u001b[0m\u001b[0m\n",
      "\u001b[0;31mKeyboardInterrupt\u001b[0m: "
     ]
    }
   ],
   "source": [
    "injection_results = lc.groupby(by=\"objectid\", group_keys=False).apply(count_detections, -2.5, 2, bw, achromatic=False)"
   ]
  },
  {
   "cell_type": "code",
   "execution_count": null,
   "id": "6551d4ca-fb41-405c-b41a-c7e693129d23",
   "metadata": {
    "execution": {
     "iopub.status.busy": "2024-05-24T00:10:59.394268Z",
     "iopub.status.idle": "2024-05-24T00:10:59.394874Z",
     "shell.execute_reply": "2024-05-24T00:10:59.394604Z"
    },
    "tags": []
   },
   "outputs": [],
   "source": [
    "injection_results[\"rate\"] = injection_results[\"detected\"] / injection_results[\"lensed\"]"
   ]
  },
  {
   "cell_type": "code",
   "execution_count": null,
   "id": "390eb825-8466-4c87-9379-c11a40743eb3",
   "metadata": {
    "execution": {
     "iopub.status.busy": "2024-05-24T00:10:59.396016Z",
     "iopub.status.idle": "2024-05-24T00:10:59.396616Z",
     "shell.execute_reply": "2024-05-24T00:10:59.396340Z"
    },
    "tags": []
   },
   "outputs": [],
   "source": [
    "oids = lc[\"objectid\"].unique()[:10]"
   ]
  },
  {
   "cell_type": "code",
   "execution_count": null,
   "id": "35f0b7e9-8d0c-490f-8c05-957e58c2f5b8",
   "metadata": {
    "execution": {
     "iopub.status.busy": "2024-05-24T00:10:59.397750Z",
     "iopub.status.idle": "2024-05-24T00:10:59.398359Z",
     "shell.execute_reply": "2024-05-24T00:10:59.398101Z"
    },
    "tags": []
   },
   "outputs": [],
   "source": [
    "t = datalab_utils.subtract_baseline(datalab_utils.cluster_label_dataframe(lc, bandwidth=bw))"
   ]
  },
  {
   "cell_type": "code",
   "execution_count": 83,
   "id": "062366c8-60df-4f70-923a-0890e2d4d847",
   "metadata": {
    "execution": {
     "iopub.execute_input": "2024-05-22T01:40:00.914840Z",
     "iopub.status.busy": "2024-05-22T01:40:00.914175Z",
     "iopub.status.idle": "2024-05-22T01:40:00.919867Z",
     "shell.execute_reply": "2024-05-22T01:40:00.918535Z",
     "shell.execute_reply.started": "2024-05-22T01:40:00.914786Z"
    },
    "tags": []
   },
   "outputs": [],
   "source": [
    "lc = t"
   ]
  },
  {
   "cell_type": "code",
   "execution_count": 105,
   "id": "cf18bd98-8331-460f-b5c9-764410eac0b9",
   "metadata": {
    "execution": {
     "iopub.execute_input": "2024-05-22T02:09:30.599092Z",
     "iopub.status.busy": "2024-05-22T02:09:30.598358Z",
     "iopub.status.idle": "2024-05-22T02:09:31.156753Z",
     "shell.execute_reply": "2024-05-22T02:09:31.155745Z",
     "shell.execute_reply.started": "2024-05-22T02:09:30.599034Z"
    },
    "tags": []
   },
   "outputs": [
    {
     "data": {
      "image/png": "[encoded data removed]",
      "text/plain": [
       "<Figure size 1296x648 with 1 Axes>"
      ]
     },
     "metadata": {
      "needs_background": "light"
     },
     "output_type": "display_data"
    }
   ],
   "source": [
    "colors = np.array([\"tab:blue\", \"tab:green\", \"tab:orange\", \"tab:red\", \"tab:brown\", 'k'])\n",
    "filters = np.array(['u', 'g', 'r', 'i', 'z', 'Y'])\n",
    "\n",
    "for oid in oids[:1]:\n",
    "    m_id = lc[\"objectid\"] == oid\n",
    "    fig, ax = plt.subplots(1, 1, figsize=(18, 9))\n",
    "    min_mjd = int(lc.loc[m_id, \"mjd\"].min())\n",
    "\n",
    "    for f, c in zip(filters, colors):\n",
    "        m_f = lc[\"filter\"] == f\n",
    "        lc_f = lc.loc[m_id & m_f]\n",
    "\n",
    "        ax.errorbar(lc_f[\"mjd\"] - min_mjd, lc_f['delta_mag'], \n",
    "                    yerr=lc_f[\"magerr_auto\"], marker='.', ms=8,\n",
    "                    capsize=5, color=c, ls=\"None\", label=f)\n",
    "\n",
    "    ax.set_ylabel('Mag', fontsize=20)\n",
    "    ax.tick_params(labelsize=18)\n",
    "    ax.invert_yaxis()\n",
    "    ax.grid(visible=True)\n",
    "    # ax.axhline(-2.5 * np.log10(2), color='k', linestyle=\"-.\")\n",
    "\n",
    "    legend = ax.legend(fontsize=18, loc=\"upper right\")\n",
    "    ax.set_xlabel(f'MJD - {min_mjd}', fontsize=20)\n",
    "    fig.suptitle(f\"Object {oid}\", fontsize=22)\n",
    "    plt.show(fig)\n",
    "    fig.savefig(f\"{fig_dir}{oid}_lightcurve_baseline_subtracted.png\")\n",
    "    plt.close(fig)"
   ]
  },
  {
   "cell_type": "code",
   "execution_count": 95,
   "id": "7bffcef2-6782-4f94-b43b-a653d84fb5a2",
   "metadata": {
    "execution": {
     "iopub.execute_input": "2024-05-22T01:57:49.666303Z",
     "iopub.status.busy": "2024-05-22T01:57:49.665634Z",
     "iopub.status.idle": "2024-05-22T01:57:49.705760Z",
     "shell.execute_reply": "2024-05-22T01:57:49.704677Z",
     "shell.execute_reply.started": "2024-05-22T01:57:49.666247Z"
    },
    "tags": []
   },
   "outputs": [
    {
     "name": "stdout",
     "output_type": "stream",
     "text": [
      "2\n",
      "True True True\n",
      "1\n",
      "1\n"
     ]
    },
    {
     "data": {
      "text/plain": [
       "True"
      ]
     },
     "execution_count": 95,
     "metadata": {},
     "output_type": "execute_result"
    }
   ],
   "source": [
    "import importlib\n",
    "importlib.reload(datalab_utils)\n",
    "df = lc.loc[lc[\"objectid\"] == oids[0]].copy()\n",
    "idxs = df.index\n",
    "lens_and_detect(df, -.5, idxs[0:2], bw/2)"
   ]
  },
  {
   "cell_type": "code",
   "execution_count": 113,
   "id": "b20c2deb-5994-4152-a4e7-74abd070677e",
   "metadata": {
    "execution": {
     "iopub.execute_input": "2024-05-22T02:26:51.430147Z",
     "iopub.status.busy": "2024-05-22T02:26:51.429439Z",
     "iopub.status.idle": "2024-05-22T02:26:51.798168Z",
     "shell.execute_reply": "2024-05-22T02:26:51.797066Z",
     "shell.execute_reply.started": "2024-05-22T02:26:51.430089Z"
    },
    "tags": []
   },
   "outputs": [
    {
     "data": {
      "image/png": "[encoded data removed]",
      "text/plain": [
       "<Figure size 576x576 with 1 Axes>"
      ]
     },
     "metadata": {
      "needs_background": "light"
     },
     "output_type": "display_data"
    }
   ],
   "source": [
    "from scipy.stats import gaussian_kde\n",
    "\n",
    "samples = df.loc[df[\"filter\"] == 'i', \"mag_auto\"].values\n",
    "weights = df.loc[df[\"filter\"] == 'i', \"magerr_auto\"].values**-2\n",
    "samples[:2] -= 0.75\n",
    "kde = gaussian_kde(samples, bw_method=1, weights=weights)\n",
    "kde.set_bandwidth(bw / np.sqrt(kde.covariance[0, 0]))\n",
    "x = np.linspace(samples.min() - 1, samples.max() + 1, num=100)\n",
    "pdf = kde(x)\n",
    "fig, ax = plt.subplots(figsize=(8, 8))\n",
    "ax.plot(x, pdf)\n",
    "ax.scatter(samples, np.zeros(samples.shape), s=8)\n",
    "ax.set_xlabel(\"Mag\", fontsize=16)\n",
    "ax.set_ylabel(\"KDE PDF\", fontsize=16)\n",
    "ax.tick_params(labelsize=14)\n",
    "plt.show(fig)\n",
    "fig.savefig(f\"{fig_dir}kde_example_075.png\")\n",
    "plt.close(fig)"
   ]
  },
  {
   "cell_type": "code",
   "execution_count": 9,
   "id": "21ff3254-6541-4eb6-9c92-ca4e61bf3b24",
   "metadata": {
    "execution": {
     "iopub.execute_input": "2024-05-16T06:52:10.659647Z",
     "iopub.status.busy": "2024-05-16T06:52:10.658826Z",
     "iopub.status.idle": "2024-05-16T07:06:37.146625Z",
     "shell.execute_reply": "2024-05-16T07:06:37.145339Z",
     "shell.execute_reply.started": "2024-05-16T06:52:10.659574Z"
    }
   },
   "outputs": [],
   "source": [
    "detection_rates_3 = np.array([calculate_detection_rate(lc, pass_percentage bw) for dmag in delta_mags])"
   ]
  },
  {
   "cell_type": "code",
   "execution_count": 15,
   "id": "87eabc08-de05-456e-8e4d-0c83ede9b744",
   "metadata": {
    "execution": {
     "iopub.execute_input": "2024-05-16T17:56:18.074242Z",
     "iopub.status.busy": "2024-05-16T17:56:18.073493Z",
     "iopub.status.idle": "2024-05-16T17:56:18.426914Z",
     "shell.execute_reply": "2024-05-16T17:56:18.425859Z",
     "shell.execute_reply.started": "2024-05-16T17:56:18.074188Z"
    },
    "tags": []
   },
   "outputs": [
    {
     "data": {
      "image/png": "[encoded data removed]",
      "text/plain": [
       "<Figure size 576x576 with 1 Axes>"
      ]
     },
     "metadata": {
      "needs_background": "light"
     },
     "output_type": "display_data"
    }
   ],
   "source": [
    "fig, ax = plt.subplots(figsize=(8, 8))\n",
    "ax.stairs(detection_rates_3, edges=stair_edges)\n",
    "ax.set_title(f\"Detection Rates for Injected Signal: n = 3\", fontsize=22)\n",
    "ax.set_ylabel(\"Detection Rate\", fontsize=18)\n",
    "ax.set_xlabel(r\"$\\Delta$mag\", fontsize=18)\n",
    "ax.tick_params(labelsize=16)\n",
    "fig.savefig(f\"{fig_dir}detection_rate_n3.png\")\n",
    "plt.show(fig)"
   ]
  },
  {
   "cell_type": "code",
   "execution_count": null,
   "id": "e1c1afd7-39e4-4aa7-86af-152b7692df23",
   "metadata": {},
   "outputs": [],
   "source": []
  }
 ],
 "metadata": {
  "kernelspec": {
   "display_name": "Python 3",
   "language": "python",
   "name": "python3"
  },
  "language_info": {
   "codemirror_mode": {
    "name": "ipython",
    "version": 3
   },
   "file_extension": ".py",
   "mimetype": "text/x-python",
   "name": "python",
   "nbconvert_exporter": "python",
   "pygments_lexer": "ipython3",
   "version": "3.8.8"
  }
 },
 "nbformat": 4,
 "nbformat_minor": 5
}
