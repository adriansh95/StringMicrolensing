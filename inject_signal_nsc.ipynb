{
 "cells": [
  {
   "cell_type": "code",
   "execution_count": 1,
   "id": "20d192c2-f97b-4aa3-938a-bfa7784a94cb",
   "metadata": {
    "execution": {
     "iopub.execute_input": "2024-05-16T06:27:08.110862Z",
     "iopub.status.busy": "2024-05-16T06:27:08.110200Z",
     "iopub.status.idle": "2024-05-16T06:27:11.532087Z",
     "shell.execute_reply": "2024-05-16T06:27:11.530936Z",
     "shell.execute_reply.started": "2024-05-16T06:27:08.110806Z"
    },
    "tags": []
   },
   "outputs": [],
   "source": [
    "import matplotlib.pyplot as plt\n",
    "import numpy as np\n",
    "import pandas as pd\n",
    "import astropy.units as u\n",
    "import datalab_utils\n",
    "import time\n",
    "\n",
    "from astropy.coordinates import SkyCoord\n",
    "from dl import authClient as ac, queryClient as qc\n",
    "from dl.helpers.utils import convert\n",
    "from tqdm import tqdm\n",
    "\n",
    "plt.rcParams['axes.facecolor']='white'\n",
    "plt.rcParams['savefig.facecolor']='white'\n",
    "fig_dir = \"/dlusers/adriansh/work/analyses/plots/strings/\""
   ]
  },
  {
   "cell_type": "code",
   "execution_count": 2,
   "id": "387869ba-4e9e-410e-a023-8ee55c5d2e1f",
   "metadata": {
    "execution": {
     "iopub.execute_input": "2024-05-16T06:27:11.534462Z",
     "iopub.status.busy": "2024-05-16T06:27:11.533840Z",
     "iopub.status.idle": "2024-05-16T06:27:11.566931Z",
     "shell.execute_reply": "2024-05-16T06:27:11.566091Z",
     "shell.execute_reply.started": "2024-05-16T06:27:11.534424Z"
    },
    "tags": []
   },
   "outputs": [],
   "source": [
    "lmc_center = SkyCoord(\"05h23m34s\", \"−69d45.4m\")\n",
    "lmc_ra = lmc_center.ra.deg\n",
    "lmc_dec = lmc_center.dec.deg\n",
    "search_radius = 15\n",
    "n_detections = 10\n",
    "sigma_cutoff = 2.5 * np.log10(1.7)"
   ]
  },
  {
   "cell_type": "code",
   "execution_count": 21,
   "id": "f39cb757-63dc-4d1d-b481-0a9fce00667a",
   "metadata": {
    "execution": {
     "iopub.execute_input": "2024-05-14T23:01:35.993383Z",
     "iopub.status.busy": "2024-05-14T23:01:35.992658Z",
     "iopub.status.idle": "2024-05-14T23:01:48.857154Z",
     "shell.execute_reply": "2024-05-14T23:01:48.855918Z",
     "shell.execute_reply.started": "2024-05-14T23:01:35.993327Z"
    },
    "tags": []
   },
   "outputs": [
    {
     "data": {
      "text/plain": [
       "'OK'"
      ]
     },
     "execution_count": 21,
     "metadata": {},
     "output_type": "execute_result"
    }
   ],
   "source": [
    "oq = f\"\"\"\n",
    "SELECT id \n",
    "    FROM nsc_dr2.object\n",
    "        WHERE 't' = Q3C_RADIAL_QUERY(ra, dec, {lmc_ra}, {lmc_dec}, {search_radius})\n",
    "        AND class_star > 0.9\n",
    "        AND\n",
    "        (CASE \n",
    "            WHEN ndetu > {n_detections} \n",
    "            AND urms < {sigma_cutoff} THEN 1 \n",
    "            ELSE 0 \n",
    "        END +\n",
    "        CASE \n",
    "            WHEN ndetg > {n_detections} \n",
    "            AND grms < {sigma_cutoff}  THEN 1 \n",
    "            ELSE 0 \n",
    "        END +\n",
    "        CASE \n",
    "            WHEN ndetr > {n_detections} \n",
    "            AND rrms < {sigma_cutoff}  THEN 1 \n",
    "            ELSE 0 \n",
    "        END +\n",
    "        CASE \n",
    "            WHEN ndeti > {n_detections} \n",
    "            AND irms < {sigma_cutoff}  THEN 1 \n",
    "            ELSE 0 \n",
    "        END +\n",
    "        CASE \n",
    "            WHEN ndetz > {n_detections} \n",
    "            AND zrms < {sigma_cutoff}  THEN 1 \n",
    "            ELSE 0 \n",
    "        END +\n",
    "        CASE \n",
    "            WHEN ndetY > {n_detections} \n",
    "            AND Yrms < {sigma_cutoff}  THEN 1 \n",
    "            ELSE 0 \n",
    "        END >= 3)\n",
    "\"\"\"\n",
    "\n",
    "qq = f\"\"\"\n",
    "SELECT ROW_NUMBER() OVER() - 1 AS row_number, id\n",
    "    FROM mydb://temp\n",
    "\"\"\"\n",
    "\n",
    "qc.query(sql=qq, out=\"mydb://stable_lmc_ids\", timeout=1200)"
   ]
  },
  {
   "cell_type": "code",
   "execution_count": 16,
   "id": "90666afe-3019-430b-9ff2-833a3c1ae57f",
   "metadata": {
    "execution": {
     "iopub.execute_input": "2024-05-16T18:00:04.597386Z",
     "iopub.status.busy": "2024-05-16T18:00:04.596667Z",
     "iopub.status.idle": "2024-05-16T18:00:31.736824Z",
     "shell.execute_reply": "2024-05-16T18:00:31.735774Z",
     "shell.execute_reply.started": "2024-05-16T18:00:04.597334Z"
    },
    "tags": []
   },
   "outputs": [],
   "source": [
    "bw = 2.5 * np.log10(2) / 4\n",
    "# batch_size = int(1e5)\n",
    "# n_objects = 6619504\n",
    "# num_batches = int(n_objects / batch_size) + 1\n",
    "# poll_rate = 60\n",
    "# batch_nums = np.arange(0, num_batches)\n",
    "\n",
    "sub_query = f\"\"\"\n",
    "SELECT id\n",
    "    FROM mydb://stable_lmc_ids \n",
    "    ORDER BY RANDOM()\n",
    "    LIMIT 1000\n",
    "\"\"\"\n",
    "\n",
    "query = f\"\"\"\n",
    "SELECT m.objectid, m.filter, m.mag_auto, m.magerr_auto, m.mjd, m.exposure, e.exptime\n",
    "    FROM nsc_dr2.meas AS m\n",
    "    INNER JOIN nsc_dr2.exposure AS e\n",
    "    ON e.exposure = m.exposure\n",
    "    WHERE m.objectid IN ({sub_query})\n",
    "\"\"\"\n",
    "lc = qc.query(sql=query, fmt=\"pandas\", timeout=1200)\n",
    "lc = lc.groupby(by=[\"objectid\", \"filter\"]).filter(lambda x: len(x) > n_detections)\n",
    "lc.sort_values(by=\"mjd\", inplace=True)"
   ]
  },
  {
   "cell_type": "code",
   "execution_count": 17,
   "id": "15035a4c-e71d-44de-ba89-64efcc091df4",
   "metadata": {
    "execution": {
     "iopub.execute_input": "2024-05-16T18:00:36.698581Z",
     "iopub.status.busy": "2024-05-16T18:00:36.697873Z",
     "iopub.status.idle": "2024-05-16T18:00:36.716078Z",
     "shell.execute_reply": "2024-05-16T18:00:36.714800Z",
     "shell.execute_reply.started": "2024-05-16T18:00:36.698528Z"
    },
    "tags": []
   },
   "outputs": [],
   "source": [
    "def count_detections(df, dmag, n, bw):\n",
    "    vals = df[\"filter\"]\n",
    "    indices = [vals[i:i+n].index for i in range(len(vals)- (n - 1)) if len(set(vals[i:i+n])) >= 2]\n",
    "    n_lensed = len(indices)\n",
    "    detected = [lens_and_detect(df, dmag, idxs, bw) for idxs in indices]\n",
    "    n_detected = sum(detected)\n",
    "    oid = df.iloc[0, 0]\n",
    "    result = pd.DataFrame(data={\"lensed\": [n_lensed], \"detected\": [n_detected]}, index=[oid])\n",
    "    return result\n",
    "\n",
    "def lens_and_detect(df, dmag, idxs, bw):\n",
    "    old_vals = df.loc[idxs, \"mag_auto\"]\n",
    "    df.loc[idxs, \"mag_auto\"] = old_vals + dmag\n",
    "    cl = datalab_utils.cluster_label_dataframe(df, bandwidth=bw, tolerance=(1.1, 10))\n",
    "    df.loc[idxs, \"mag_auto\"] = old_vals\n",
    "    result = datalab_utils.lens_filter(cl)\n",
    "    return result\n",
    "\n",
    "def calculate_detection_rate(df, delta_mag, n, bandwidth):\n",
    "    injection_results = df.groupby(by=\"objectid\", group_keys=False).apply(count_detections, delta_mag, n, bandwidth)\n",
    "    totals = injection_results.sum(axis=0)\n",
    "    result = totals[\"detected\"] / totals[\"lensed\"]\n",
    "    return result"
   ]
  },
  {
   "cell_type": "code",
   "execution_count": 18,
   "id": "5082e130-b60d-424f-b679-36f7fd19b008",
   "metadata": {
    "execution": {
     "iopub.execute_input": "2024-05-16T18:01:44.963365Z",
     "iopub.status.busy": "2024-05-16T18:01:44.962638Z",
     "iopub.status.idle": "2024-05-16T18:01:44.970357Z",
     "shell.execute_reply": "2024-05-16T18:01:44.969126Z",
     "shell.execute_reply.started": "2024-05-16T18:01:44.963312Z"
    },
    "tags": []
   },
   "outputs": [],
   "source": [
    "bw = 2.5 * np.log10(2) / 4\n",
    "n_samples = 2\n",
    "delta_mags = -np.linspace(0.1, 2.5, num=25)"
   ]
  },
  {
   "cell_type": "code",
   "execution_count": null,
   "id": "8bd06f4d-7a98-46cf-9d2c-f403d66abe75",
   "metadata": {
    "execution": {
     "iopub.execute_input": "2024-05-16T18:01:54.736849Z",
     "iopub.status.busy": "2024-05-16T18:01:54.736110Z"
    },
    "tags": []
   },
   "outputs": [],
   "source": [
    "detection_rates_n2 = np.array([calculate_detection_rate(lc, dmag, n_samples, bw) for dmag in delta_mags])"
   ]
  },
  {
   "cell_type": "code",
   "execution_count": null,
   "id": "a965741f-6880-4f59-8cde-f421dda66bee",
   "metadata": {},
   "outputs": [],
   "source": [
    "detection_rates_n3 = np.array([calculate_detection_rate(lc, dmag, 3, bw) for dmag in delta_mags])"
   ]
  },
  {
   "cell_type": "code",
   "execution_count": 7,
   "id": "48af576e-091b-40b9-b69f-db7575a8f5a2",
   "metadata": {
    "execution": {
     "iopub.execute_input": "2024-05-16T06:39:42.794229Z",
     "iopub.status.busy": "2024-05-16T06:39:42.793487Z",
     "iopub.status.idle": "2024-05-16T06:39:42.800632Z",
     "shell.execute_reply": "2024-05-16T06:39:42.799402Z",
     "shell.execute_reply.started": "2024-05-16T06:39:42.794173Z"
    },
    "tags": []
   },
   "outputs": [],
   "source": [
    "# sums = detection_rates.sum(axis=1)\n",
    "# detection_rates = sums[:, 1] / sums[:, 0]\n",
    "stair_edges = np.concatenate(([0], delta_mags))"
   ]
  },
  {
   "cell_type": "code",
   "execution_count": 14,
   "id": "5db4099a-da7d-472a-9f28-7f8959184d73",
   "metadata": {
    "execution": {
     "iopub.execute_input": "2024-05-16T17:55:57.148797Z",
     "iopub.status.busy": "2024-05-16T17:55:57.147868Z",
     "iopub.status.idle": "2024-05-16T17:55:57.523351Z",
     "shell.execute_reply": "2024-05-16T17:55:57.522285Z",
     "shell.execute_reply.started": "2024-05-16T17:55:57.148733Z"
    },
    "tags": []
   },
   "outputs": [
    {
     "data": {
      "image/png": "[encoded data removed]",
      "text/plain": [
       "<Figure size 576x576 with 1 Axes>"
      ]
     },
     "metadata": {
      "needs_background": "light"
     },
     "output_type": "display_data"
    }
   ],
   "source": [
    "fig, ax = plt.subplots(figsize=(8, 8))\n",
    "ax.stairs(detection_rates, edges=stair_edges)\n",
    "ax.set_title(f\"Detection Rates for Injected Signal: n = {n_samples}\", fontsize=22)\n",
    "ax.set_ylabel(\"Detection Rate\", fontsize=18)\n",
    "ax.set_xlabel(r\"$\\Delta$mag\", fontsize=18)\n",
    "ax.tick_params(labelsize=16)\n",
    "fig.savefig(f\"{fig_dir}detection_rate_n2.png\")\n",
    "plt.show(fig)"
   ]
  },
  {
   "cell_type": "code",
   "execution_count": 9,
   "id": "21ff3254-6541-4eb6-9c92-ca4e61bf3b24",
   "metadata": {
    "execution": {
     "iopub.execute_input": "2024-05-16T06:52:10.659647Z",
     "iopub.status.busy": "2024-05-16T06:52:10.658826Z",
     "iopub.status.idle": "2024-05-16T07:06:37.146625Z",
     "shell.execute_reply": "2024-05-16T07:06:37.145339Z",
     "shell.execute_reply.started": "2024-05-16T06:52:10.659574Z"
    }
   },
   "outputs": [],
   "source": [
    "detection_rates_3 = np.array([calculate_detection_rate(lc, dmag, 3, bw) for dmag in delta_mags])"
   ]
  },
  {
   "cell_type": "code",
   "execution_count": 15,
   "id": "87eabc08-de05-456e-8e4d-0c83ede9b744",
   "metadata": {
    "execution": {
     "iopub.execute_input": "2024-05-16T17:56:18.074242Z",
     "iopub.status.busy": "2024-05-16T17:56:18.073493Z",
     "iopub.status.idle": "2024-05-16T17:56:18.426914Z",
     "shell.execute_reply": "2024-05-16T17:56:18.425859Z",
     "shell.execute_reply.started": "2024-05-16T17:56:18.074188Z"
    },
    "tags": []
   },
   "outputs": [
    {
     "data": {
      "image/png": "[encoded data removed]",
      "text/plain": [
       "<Figure size 576x576 with 1 Axes>"
      ]
     },
     "metadata": {
      "needs_background": "light"
     },
     "output_type": "display_data"
    }
   ],
   "source": [
    "fig, ax = plt.subplots(figsize=(8, 8))\n",
    "ax.stairs(detection_rates_3, edges=stair_edges)\n",
    "ax.set_title(f\"Detection Rates for Injected Signal: n = 3\", fontsize=22)\n",
    "ax.set_ylabel(\"Detection Rate\", fontsize=18)\n",
    "ax.set_xlabel(r\"$\\Delta$mag\", fontsize=18)\n",
    "ax.tick_params(labelsize=16)\n",
    "fig.savefig(f\"{fig_dir}detection_rate_n3.png\")\n",
    "plt.show(fig)"
   ]
  },
  {
   "cell_type": "code",
   "execution_count": null,
   "id": "e1c1afd7-39e4-4aa7-86af-152b7692df23",
   "metadata": {},
   "outputs": [],
   "source": []
  }
 ],
 "metadata": {
  "kernelspec": {
   "display_name": "Python 3",
   "language": "python",
   "name": "python3"
  },
  "language_info": {
   "codemirror_mode": {
    "name": "ipython",
    "version": 3
   },
   "file_extension": ".py",
   "mimetype": "text/x-python",
   "name": "python",
   "nbconvert_exporter": "python",
   "pygments_lexer": "ipython3",
   "version": "3.8.8"
  }
 },
 "nbformat": 4,
 "nbformat_minor": 5
}
