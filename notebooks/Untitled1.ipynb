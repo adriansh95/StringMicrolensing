{
 "cells": [
  {
   "cell_type": "code",
   "execution_count": 1,
   "id": "d4772fa9-1d61-4b4f-a120-312d43f4f587",
   "metadata": {
    "execution": {
     "iopub.execute_input": "2024-06-11T23:00:40.206401Z",
     "iopub.status.busy": "2024-06-11T23:00:40.205670Z",
     "iopub.status.idle": "2024-06-11T23:00:41.724128Z",
     "shell.execute_reply": "2024-06-11T23:00:41.723353Z",
     "shell.execute_reply.started": "2024-06-11T23:00:40.206346Z"
    },
    "tags": []
   },
   "outputs": [],
   "source": [
    "import numpy as np\n",
    "import matplotlib.pyplot as plt\n",
    "import datalab_utils\n",
    "\n",
    "from scipy.stats import gaussian_kde\n",
    "from scipy.signal import argrelextrema, find_peaks"
   ]
  },
  {
   "cell_type": "code",
   "execution_count": 90,
   "id": "f2cacd37-acd6-4a8c-a756-1c40d1a351bb",
   "metadata": {
    "execution": {
     "iopub.execute_input": "2024-05-16T19:26:52.063630Z",
     "iopub.status.busy": "2024-05-16T19:26:52.062931Z",
     "iopub.status.idle": "2024-05-16T19:26:52.077156Z",
     "shell.execute_reply": "2024-05-16T19:26:52.075982Z",
     "shell.execute_reply.started": "2024-05-16T19:26:52.063565Z"
    },
    "tags": []
   },
   "outputs": [],
   "source": [
    "samples = np.arange(2) * 3\n",
    "bw = 2.5 * np.log10(2) / 4\n",
    "# bw = 0.01\n",
    "weights = np.ones(2)\n",
    "weights = np.arange(1, 3)\n",
    "kde = gaussian_kde(samples, bw_method=1, weights=weights)\n",
    "kde.set_bandwidth(bw / np.sqrt(kde.covariance[0, 0]))\n",
    "x = np.linspace(samples.min() - 1, samples.max() + 1, num=100)\n",
    "pdf = kde(x)"
   ]
  },
  {
   "cell_type": "code",
   "execution_count": 91,
   "id": "f753c5cc-322e-4e6f-a2f4-7b6481d34e44",
   "metadata": {
    "execution": {
     "iopub.execute_input": "2024-05-16T19:26:53.011347Z",
     "iopub.status.busy": "2024-05-16T19:26:53.010759Z",
     "iopub.status.idle": "2024-05-16T19:26:53.296033Z",
     "shell.execute_reply": "2024-05-16T19:26:53.294950Z",
     "shell.execute_reply.started": "2024-05-16T19:26:53.011300Z"
    },
    "tags": []
   },
   "outputs": [
    {
     "data": {
      "image/png": "[encoded data removed]",
      "text/plain": [
       "<Figure size 576x576 with 1 Axes>"
      ]
     },
     "metadata": {
      "needs_background": "light"
     },
     "output_type": "display_data"
    }
   ],
   "source": [
    "fig, ax = plt.subplots(figsize=(8, 8))\n",
    "ax.plot(x, pdf)\n",
    "plt.show(fig)"
   ]
  },
  {
   "cell_type": "code",
   "execution_count": 92,
   "id": "2af098ed-65d6-46df-9e0e-3528ef4eeaad",
   "metadata": {
    "execution": {
     "iopub.execute_input": "2024-05-16T19:26:56.534770Z",
     "iopub.status.busy": "2024-05-16T19:26:56.534086Z",
     "iopub.status.idle": "2024-05-16T19:26:56.540526Z",
     "shell.execute_reply": "2024-05-16T19:26:56.539222Z",
     "shell.execute_reply.started": "2024-05-16T19:26:56.534718Z"
    },
    "tags": []
   },
   "outputs": [],
   "source": [
    "maxima = find_peaks(pdf)[0]\n",
    "minima = find_peaks(-pdf)[0]"
   ]
  },
  {
   "cell_type": "code",
   "execution_count": 93,
   "id": "154ab25f-d794-4f53-bda3-a5947da678d7",
   "metadata": {
    "execution": {
     "iopub.execute_input": "2024-05-16T19:26:57.342397Z",
     "iopub.status.busy": "2024-05-16T19:26:57.341766Z",
     "iopub.status.idle": "2024-05-16T19:26:57.349995Z",
     "shell.execute_reply": "2024-05-16T19:26:57.348815Z",
     "shell.execute_reply.started": "2024-05-16T19:26:57.342346Z"
    },
    "tags": []
   },
   "outputs": [
    {
     "data": {
      "text/plain": [
       "(array([20, 79]), array([49]))"
      ]
     },
     "execution_count": 93,
     "metadata": {},
     "output_type": "execute_result"
    }
   ],
   "source": [
    "maxima, minima"
   ]
  },
  {
   "cell_type": "code",
   "execution_count": 88,
   "id": "c48c6b28-1473-4a22-a35c-53953d7e7c16",
   "metadata": {
    "execution": {
     "iopub.execute_input": "2024-05-15T19:07:43.648344Z",
     "iopub.status.busy": "2024-05-15T19:07:43.647682Z",
     "iopub.status.idle": "2024-05-15T19:07:43.656170Z",
     "shell.execute_reply": "2024-05-15T19:07:43.654941Z",
     "shell.execute_reply.started": "2024-05-15T19:07:43.648290Z"
    },
    "tags": []
   },
   "outputs": [
    {
     "data": {
      "text/plain": [
       "1.525252525252525"
      ]
     },
     "execution_count": 88,
     "metadata": {},
     "output_type": "execute_result"
    }
   ],
   "source": [
    "x[minima[0]]"
   ]
  },
  {
   "cell_type": "code",
   "execution_count": 89,
   "id": "58629e8b-96bb-4cc7-a43c-3e71c7389394",
   "metadata": {
    "execution": {
     "iopub.execute_input": "2024-05-15T19:07:46.239921Z",
     "iopub.status.busy": "2024-05-15T19:07:46.239252Z",
     "iopub.status.idle": "2024-05-15T19:07:46.248304Z",
     "shell.execute_reply": "2024-05-15T19:07:46.246906Z",
     "shell.execute_reply.started": "2024-05-15T19:07:46.239865Z"
    },
    "tags": []
   },
   "outputs": [
    {
     "data": {
      "text/plain": [
       "(5.39541413137698e-14, 3.8246887649272566e-13)"
      ]
     },
     "execution_count": 89,
     "metadata": {},
     "output_type": "execute_result"
    }
   ],
   "source": [
    "pdf[minima[0]], pdf[minima[0]+1]"
   ]
  },
  {
   "cell_type": "code",
   "execution_count": null,
   "id": "2d0616f0-7aff-46ad-b568-ec78a29160b9",
   "metadata": {},
   "outputs": [],
   "source": []
  }
 ],
 "metadata": {
  "kernelspec": {
   "display_name": "Python 3",
   "language": "python",
   "name": "python3"
  },
  "language_info": {
   "codemirror_mode": {
    "name": "ipython",
    "version": 3
   },
   "file_extension": ".py",
   "mimetype": "text/x-python",
   "name": "python",
   "nbconvert_exporter": "python",
   "pygments_lexer": "ipython3",
   "version": "3.8.8"
  }
 },
 "nbformat": 4,
 "nbformat_minor": 5
}
