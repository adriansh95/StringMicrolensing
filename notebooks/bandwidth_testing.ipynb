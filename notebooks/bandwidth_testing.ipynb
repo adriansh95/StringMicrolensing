{
 "cells": [
  {
   "cell_type": "code",
   "execution_count": 1,
   "id": "af154fd0-5008-4cd8-9b43-5823d4c1c5e0",
   "metadata": {
    "execution": {
     "iopub.execute_input": "2024-06-20T00:52:01.453312Z",
     "iopub.status.busy": "2024-06-20T00:52:01.452533Z",
     "iopub.status.idle": "2024-06-20T00:52:04.629738Z",
     "shell.execute_reply": "2024-06-20T00:52:04.628391Z",
     "shell.execute_reply.started": "2024-06-20T00:52:01.453252Z"
    }
   },
   "outputs": [],
   "source": [
    "import pandas as pd\n",
    "import matplotlib.pyplot as plt\n",
    "import numpy as np\n",
    "import datalab_utils\n",
    "import astropy.units as u\n",
    "\n",
    "from dl import authClient as ac, queryClient as qc\n",
    "from collections import Counter\n",
    "from tqdm import tqdm\n",
    "\n",
    "plt.rcParams['axes.facecolor']='white'\n",
    "plt.rcParams['savefig.facecolor']='white'\n",
    "fig_dir = \"/dlusers/adriansh/work/analyses/plots/strings/\""
   ]
  },
  {
   "cell_type": "code",
   "execution_count": 2,
   "id": "49a357e3-cc10-4374-8a90-9f5f1ebf59a3",
   "metadata": {
    "execution": {
     "iopub.execute_input": "2024-06-20T00:52:17.212677Z",
     "iopub.status.busy": "2024-06-20T00:52:17.211984Z",
     "iopub.status.idle": "2024-06-20T00:52:17.697712Z",
     "shell.execute_reply": "2024-06-20T00:52:17.696593Z",
     "shell.execute_reply.started": "2024-06-20T00:52:17.212621Z"
    }
   },
   "outputs": [],
   "source": [
    "lc_df = pd.concat([pd.read_parquet(f\"/dlusers/adriansh/work/analyses/results/strings/june12_2024/lightcurves_batch{i}.parquet\") for i in range(10)])\n",
    "time_df = pd.concat([pd.read_parquet(f\"/dlusers/adriansh/work/analyses/results/strings/june12_2024/times_batch{i}.parquet\") for i in range(10)])"
   ]
  },
  {
   "cell_type": "code",
   "execution_count": null,
   "id": "2deb1d88-837a-4354-8d53-a26957d29476",
   "metadata": {},
   "outputs": [],
   "source": [
    "bandwidths = np.arange(1, 13) / 100\n",
    "params = dict(achromatic = True, \n",
    "              factor_of_two = True)\n",
    "bg_df = lc_df.drop(columns=\"cluster_label\", axis=0)\n",
    "bg_df = bg_df.reset_index(drop=True)\n",
    "n_bg = []\n",
    "\n",
    "for bw in tqdm(bandwidths):\n",
    "    background_df = datalab_utils.cluster_label_dataframe(bg_df, bandwidth=bw)\n",
    "    background_df = background_df.groupby(by=\"objectid\").filter(datalab_utils.unstable_filter)\n",
    "    g = background_df.groupby(\"objectid\")\n",
    "    background_df = g.filter(lambda group: datalab_utils.lens_filter(group, **params))\n",
    "    n_bg.append(background_df[\"objectid\"].unique().size)"
   ]
  },
  {
   "cell_type": "code",
   "execution_count": null,
   "id": "8f21996f-212c-45d8-8873-85276fe7c56a",
   "metadata": {},
   "outputs": [],
   "source": []
  }
 ],
 "metadata": {
  "kernelspec": {
   "display_name": "Python 3",
   "language": "python",
   "name": "python3"
  },
  "language_info": {
   "codemirror_mode": {
    "name": "ipython",
    "version": 3
   },
   "file_extension": ".py",
   "mimetype": "text/x-python",
   "name": "python",
   "nbconvert_exporter": "python",
   "pygments_lexer": "ipython3",
   "version": "3.10.13"
  }
 },
 "nbformat": 4,
 "nbformat_minor": 5
}
