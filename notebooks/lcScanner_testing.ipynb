{
 "cells": [
  {
   "cell_type": "code",
   "execution_count": 2,
   "id": "ba255ceb-f15d-49ca-8e7b-a29703cf7731",
   "metadata": {
    "execution": {
     "iopub.execute_input": "2024-09-20T00:09:01.874804Z",
     "iopub.status.busy": "2024-09-20T00:09:01.874461Z",
     "iopub.status.idle": "2024-09-20T00:09:02.333277Z",
     "shell.execute_reply": "2024-09-20T00:09:02.332438Z",
     "shell.execute_reply.started": "2024-09-20T00:09:01.874785Z"
    }
   },
   "outputs": [],
   "source": [
    "import numpy as np\n",
    "import sys\n",
    "import importlib\n",
    "sys.path.append(\"..\")\n",
    "import utils.effective_monitoring_time\n"
   ]
  },
  {
   "cell_type": "code",
   "execution_count": 4,
   "id": "289292b4-808e-4b59-9218-850ee7341c5d",
   "metadata": {
    "execution": {
     "iopub.execute_input": "2024-09-20T00:09:06.192533Z",
     "iopub.status.busy": "2024-09-20T00:09:06.192159Z",
     "iopub.status.idle": "2024-09-20T00:09:06.197532Z",
     "shell.execute_reply": "2024-09-20T00:09:06.196960Z",
     "shell.execute_reply.started": "2024-09-20T00:09:06.192515Z"
    }
   },
   "outputs": [
    {
     "data": {
      "text/plain": [
       "array([False, False, False, False, False, False, False, False, False,\n",
       "       False])"
      ]
     },
     "execution_count": 4,
     "metadata": {},
     "output_type": "execute_result"
    }
   ],
   "source": [
    "np.zeros(10) > np.zeros(10)"
   ]
  },
  {
   "cell_type": "code",
   "execution_count": 7,
   "id": "ed17f67e-7441-4dbf-9c7d-deca73443111",
   "metadata": {
    "execution": {
     "iopub.execute_input": "2024-09-19T17:47:11.902393Z",
     "iopub.status.busy": "2024-09-19T17:47:11.901765Z",
     "iopub.status.idle": "2024-09-19T17:47:11.906471Z",
     "shell.execute_reply": "2024-09-19T17:47:11.906006Z",
     "shell.execute_reply.started": "2024-09-19T17:47:11.902370Z"
    }
   },
   "outputs": [],
   "source": [
    "mjds = np.arange(12)\n",
    "filters = np.array(['u', 'g', 'r'] * 4)\n",
    "exptimes = np.zeros(12)\n",
    "exposure_ends = mjds + exptimes\n",
    "taus = np.array([0.99, 1., 3., 20.])"
   ]
  },
  {
   "cell_type": "code",
   "execution_count": 62,
   "id": "7dfec56d-8b31-4a77-8066-e69bce5b6035",
   "metadata": {
    "execution": {
     "iopub.execute_input": "2024-09-19T18:29:39.344541Z",
     "iopub.status.busy": "2024-09-19T18:29:39.344284Z",
     "iopub.status.idle": "2024-09-19T18:29:43.039991Z",
     "shell.execute_reply": "2024-09-19T18:29:43.038494Z",
     "shell.execute_reply.started": "2024-09-19T18:29:39.344526Z"
    }
   },
   "outputs": [],
   "source": [
    "importlib.reload(utils.effective_monitoring_time)\n",
    "\n",
    "scanner = utils.effective_monitoring_time.LcScanner(taus, n_filters_req=3)"
   ]
  },
  {
   "cell_type": "code",
   "execution_count": 63,
   "id": "5a10cfad-e8d5-4ebc-b480-4307a8784e2c",
   "metadata": {
    "execution": {
     "iopub.execute_input": "2024-09-19T18:29:43.042128Z",
     "iopub.status.busy": "2024-09-19T18:29:43.041952Z",
     "iopub.status.idle": "2024-09-19T18:29:43.045663Z",
     "shell.execute_reply": "2024-09-19T18:29:43.045100Z",
     "shell.execute_reply.started": "2024-09-19T18:29:43.042115Z"
    }
   },
   "outputs": [],
   "source": [
    "scanner._setup(mjds, filters)"
   ]
  },
  {
   "cell_type": "code",
   "execution_count": 64,
   "id": "c817008c-6811-41c4-95b2-fcc374a81e9c",
   "metadata": {
    "execution": {
     "iopub.execute_input": "2024-09-19T18:29:43.046610Z",
     "iopub.status.busy": "2024-09-19T18:29:43.046360Z",
     "iopub.status.idle": "2024-09-19T18:29:44.887452Z",
     "shell.execute_reply": "2024-09-19T18:29:44.886479Z",
     "shell.execute_reply.started": "2024-09-19T18:29:43.046598Z"
    }
   },
   "outputs": [
    {
     "name": "stdout",
     "output_type": "stream",
     "text": [
      "[ -0.99  -1.    -3.   -20.  ]\n",
      "[0 0 0 0]\n",
      "[0. 0. 0. 0.]\n",
      "[0. 0. 0. 0.]\n",
      "[1 1 1 1]\n",
      "[ 1.0e-02  0.0e+00 -2.0e+00 -1.9e+01]\n",
      "[0. 0. 0. 0.]\n",
      "[1 2 1 1]\n",
      "[ 1.0e-02  1.0e+00 -2.0e+00 -1.9e+01]\n",
      "[0. 0. 0. 0.]\n",
      "[2 2 1 1]\n",
      "[  1.01   1.    -2.   -19.  ]\n",
      "[0.01 0.   1.   1.  ]\n",
      "[2 3 1 1]\n",
      "[  1.   2.  -3. -20.]\n",
      "[1. 1. 2. 2.]\n",
      "[3 3 1 1]\n",
      "[  1.01   1.    -4.   -21.  ]\n",
      "[1.01 1.   3.   3.  ]\n",
      "[3 4 1 1]\n",
      "[  1.   2.  -5. -22.]\n",
      "[2. 2. 4. 4.]\n",
      "[4 4 1 1]\n",
      "[  1.01   1.    -6.   -23.  ]\n",
      "[2.01 2.   5.   5.  ]\n",
      "[4 5 1 1]\n",
      "[  1.   2.  -7. -24.]\n",
      "[3. 3. 6. 6.]\n",
      "[5 5 1 1]\n",
      "[  1.01   1.    -8.   -25.  ]\n",
      "[3.01 3.   7.   7.  ]\n",
      "[5 6 1 1]\n",
      "[  1.   2.  -9. -26.]\n",
      "[4. 4. 8. 8.]\n",
      "[6 6 1 1]\n",
      "[  1.01   1.   -10.   -27.  ]\n"
     ]
    },
    {
     "data": {
      "text/plain": [
       "array([[nan, nan, nan, nan],\n",
       "       [nan, nan, nan, nan],\n",
       "       [nan, nan, nan, nan],\n",
       "       [nan, nan, nan, nan],\n",
       "       [nan, nan, nan, nan],\n",
       "       [nan, nan, nan, nan],\n",
       "       [nan, nan, nan, nan],\n",
       "       [nan, nan, nan, nan],\n",
       "       [nan, nan, nan, nan],\n",
       "       [nan, nan, nan, nan],\n",
       "       [nan, nan, nan, nan],\n",
       "       [nan, nan, nan, nan],\n",
       "       [nan, nan, nan, nan],\n",
       "       [nan, nan, nan, nan],\n",
       "       [nan, nan, nan, nan],\n",
       "       [nan, nan, nan, nan],\n",
       "       [nan, nan, nan, nan],\n",
       "       [nan, nan, nan, nan],\n",
       "       [nan, nan, nan, nan],\n",
       "       [nan, nan, nan, nan],\n",
       "       [nan, nan, nan, nan],\n",
       "       [nan, nan, nan, nan],\n",
       "       [nan, nan, nan, nan],\n",
       "       [nan, nan, nan, nan]])"
      ]
     },
     "execution_count": 64,
     "metadata": {},
     "output_type": "execute_result"
    }
   ],
   "source": [
    "scanner._record_windows(mjds, filters, exposure_ends)"
   ]
  },
  {
   "cell_type": "code",
   "execution_count": 30,
   "id": "7ecc8a34-61a4-41ff-b69a-3ce1897958f5",
   "metadata": {
    "execution": {
     "iopub.execute_input": "2024-09-19T18:15:17.375744Z",
     "iopub.status.busy": "2024-09-19T18:15:17.375491Z",
     "iopub.status.idle": "2024-09-19T18:15:17.378310Z",
     "shell.execute_reply": "2024-09-19T18:15:17.377961Z",
     "shell.execute_reply.started": "2024-09-19T18:15:17.375730Z"
    }
   },
   "outputs": [],
   "source": [
    "delta_t_start = (mjds[scanner.state.time.start_idx] -\n",
    "                 scanner.state.time.t_start)"
   ]
  },
  {
   "cell_type": "code",
   "execution_count": 31,
   "id": "6763cf3e-a716-42ec-b14a-d07bd58e0673",
   "metadata": {
    "execution": {
     "iopub.execute_input": "2024-09-19T18:15:17.754509Z",
     "iopub.status.busy": "2024-09-19T18:15:17.754313Z",
     "iopub.status.idle": "2024-09-19T18:15:17.756999Z",
     "shell.execute_reply": "2024-09-19T18:15:17.756670Z",
     "shell.execute_reply.started": "2024-09-19T18:15:17.754494Z"
    }
   },
   "outputs": [],
   "source": [
    "smaller = delta_t_start < scanner._delta_t_end(mjds)"
   ]
  },
  {
   "cell_type": "code",
   "execution_count": 32,
   "id": "ebc0984b-3472-4843-8fcc-d1fb3956f5d8",
   "metadata": {
    "execution": {
     "iopub.execute_input": "2024-09-19T18:15:18.144663Z",
     "iopub.status.busy": "2024-09-19T18:15:18.144416Z",
     "iopub.status.idle": "2024-09-19T18:15:18.147102Z",
     "shell.execute_reply": "2024-09-19T18:15:18.146754Z",
     "shell.execute_reply.started": "2024-09-19T18:15:18.144648Z"
    }
   },
   "outputs": [],
   "source": [
    "t_idx_shift = np.where(smaller, 1, 0)"
   ]
  },
  {
   "cell_type": "code",
   "execution_count": 33,
   "id": "c1d8342d-a9f6-482e-9acb-4d9b9df349cf",
   "metadata": {
    "execution": {
     "iopub.execute_input": "2024-09-19T18:15:18.767730Z",
     "iopub.status.busy": "2024-09-19T18:15:18.767544Z",
     "iopub.status.idle": "2024-09-19T18:15:18.770642Z",
     "shell.execute_reply": "2024-09-19T18:15:18.770299Z",
     "shell.execute_reply.started": "2024-09-19T18:15:18.767717Z"
    }
   },
   "outputs": [],
   "source": [
    "next_filter_idx = np.where(smaller,\n",
    "                           scanner.state.time.start_idx,\n",
    "                           scanner.state.time.end_idx)\n",
    "# Get the next filter using these idxs.\n",
    "next_filter = filters[next_filter_idx]\n",
    "filter_number = scanner.filter_map(next_filter)\n",
    "# If the next filter is outgoing (smaller_delta_t_start) subtract from\n",
    "# n_filters_bright and add to n_filters_baseline\n",
    "filter_shift = np.where(smaller, -1, 1)"
   ]
  },
  {
   "cell_type": "code",
   "execution_count": 34,
   "id": "9326ff96-88e4-4c36-b047-985df42ffaee",
   "metadata": {
    "execution": {
     "iopub.execute_input": "2024-09-19T18:15:20.194044Z",
     "iopub.status.busy": "2024-09-19T18:15:20.193604Z",
     "iopub.status.idle": "2024-09-19T18:15:37.328803Z",
     "shell.execute_reply": "2024-09-19T18:15:37.327565Z",
     "shell.execute_reply.started": "2024-09-19T18:15:20.194022Z"
    }
   },
   "outputs": [],
   "source": [
    "scanner._shift_window(exposure_ends, t_idx_shift, filter_shift, filter_number)"
   ]
  },
  {
   "cell_type": "code",
   "execution_count": 43,
   "id": "e7eece67-c1e7-477f-b717-0e1464c14aaf",
   "metadata": {
    "execution": {
     "iopub.execute_input": "2024-09-19T18:17:26.284100Z",
     "iopub.status.busy": "2024-09-19T18:17:26.283693Z",
     "iopub.status.idle": "2024-09-19T18:17:26.289822Z",
     "shell.execute_reply": "2024-09-19T18:17:26.289218Z",
     "shell.execute_reply.started": "2024-09-19T18:17:26.284084Z"
    }
   },
   "outputs": [
    {
     "data": {
      "text/plain": [
       "array([nan, nan, nan, nan])"
      ]
     },
     "execution_count": 43,
     "metadata": {},
     "output_type": "execute_result"
    }
   ],
   "source": [
    "scanner._record_t_start()"
   ]
  },
  {
   "cell_type": "code",
   "execution_count": null,
   "id": "b6774921-ebbf-4a98-a307-7aa0493ea891",
   "metadata": {},
   "outputs": [],
   "source": []
  }
 ],
 "metadata": {
  "kernelspec": {
   "display_name": "Python 3",
   "language": "python",
   "name": "python3"
  },
  "language_info": {
   "codemirror_mode": {
    "name": "ipython",
    "version": 3
   },
   "file_extension": ".py",
   "mimetype": "text/x-python",
   "name": "python",
   "nbconvert_exporter": "python",
   "pygments_lexer": "ipython3",
   "version": "3.10.13"
  }
 },
 "nbformat": 4,
 "nbformat_minor": 5
}
